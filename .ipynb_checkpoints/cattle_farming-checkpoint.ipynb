{
 "cells": [
  {
   "cell_type": "markdown",
   "metadata": {},
   "source": [
    "# Analysis of the Cattle Market in Colombia"
   ]
  },
  {
   "cell_type": "markdown",
   "metadata": {},
   "source": [
    "We start by scraping the data out of an auction which operates continuously as an intermediary between buyers and sellers. The data is on pdf files, reason for which we must crawl the website to get the urls, download each pdf and then crawl them to get the data and perform the posterior analysis."
   ]
  },
  {
   "cell_type": "markdown",
   "metadata": {},
   "source": [
    "#### Import Modules"
   ]
  },
  {
   "cell_type": "code",
   "execution_count": 41,
   "metadata": {
    "collapsed": true
   },
   "outputs": [],
   "source": [
    "import requests\n",
    "from bs4 import BeautifulSoup"
   ]
  },
  {
   "cell_type": "markdown",
   "metadata": {},
   "source": [
    "#### Scrape Data from Website"
   ]
  },
  {
   "cell_type": "code",
   "execution_count": 69,
   "metadata": {
    "collapsed": false
   },
   "outputs": [],
   "source": [
    "# Crawl Subastar\n",
    "response = requests.get('http://www.subastar.com.co/index.php/informes-de-precios/precios-sede-monteria')\n",
    "html = BeautifulSoup(response.text, 'html.parser')"
   ]
  },
  {
   "cell_type": "code",
   "execution_count": 70,
   "metadata": {
    "collapsed": false
   },
   "outputs": [],
   "source": [
    "# Get pdf links of price documents for each auction\n",
    "pdf_links = [a_tag['href'] for a_tag in html.select(\"table.easyfolderlisting tr td a\")]"
   ]
  },
  {
   "cell_type": "code",
   "execution_count": 72,
   "metadata": {
    "collapsed": false
   },
   "outputs": [],
   "source": [
    "# Get all pdf's from the website and save them locally\n",
    "for pdf_link in pdf_links:\n",
    "    filename = pdf_link.split(\"/\")[-1]\n",
    "    day, month, year = filename.replace(\".pdf\", \"\").split(\"-\")\n",
    "    year = year[-2:] # Some years come in 4 chars (e.g. 2015) some only in the last 2 (e.g. 15). This is to normalize data.\n",
    "    response = requests.get(pdf_link)\n",
    "    with open('pdfs/{0}'.format(filename), 'wb') as f:\n",
    "        f.write(response.content)"
   ]
  }
 ],
 "metadata": {
  "kernelspec": {
   "display_name": "Python [Root]",
   "language": "python",
   "name": "Python [Root]"
  },
  "language_info": {
   "codemirror_mode": {
    "name": "ipython",
    "version": 3
   },
   "file_extension": ".py",
   "mimetype": "text/x-python",
   "name": "python",
   "nbconvert_exporter": "python",
   "pygments_lexer": "ipython3",
   "version": "3.5.2"
  }
 },
 "nbformat": 4,
 "nbformat_minor": 0
}
