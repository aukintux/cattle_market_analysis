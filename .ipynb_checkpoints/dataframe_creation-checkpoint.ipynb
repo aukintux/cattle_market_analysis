{
 "cells": [
  {
   "cell_type": "markdown",
   "metadata": {},
   "source": [
    "# Dataframe Creation"
   ]
  },
  {
   "cell_type": "markdown",
   "metadata": {},
   "source": [
    "Apply OCR routine to create pandas dataframe to posterior analysis."
   ]
  },
  {
   "cell_type": "markdown",
   "metadata": {},
   "source": [
    "### OCR With Tesseract"
   ]
  },
  {
   "cell_type": "markdown",
   "metadata": {},
   "source": [
    "OCR part done with Tesseract to recognize the characters in the pdf's."
   ]
  },
  {
   "cell_type": "code",
   "execution_count": 242,
   "metadata": {
    "collapsed": true
   },
   "outputs": [],
   "source": [
    "# Import modules for OCR\n",
    "try:\n",
    "    import Image\n",
    "except ImportError:\n",
    "    from PIL import Image\n",
    "import pytesseract\n",
    "\n",
    "# Import os for getting image filenames in img directory\n",
    "from os import listdir\n",
    "\n",
    "# Import pandas\n",
    "import pandas as pd\n",
    "\n",
    "# Import datetime\n",
    "import datetime\n",
    "\n",
    "# Import sys\n",
    "import sys\n",
    "\n",
    "# Import progress bar 2\n",
    "import progressbar"
   ]
  },
  {
   "cell_type": "code",
   "execution_count": 243,
   "metadata": {
    "collapsed": true
   },
   "outputs": [],
   "source": [
    "# The cutoff represents the file where a new format starts\n",
    "cutoff = \"14-01-07.jpg\"\n",
    "# Livestock lot types\n",
    "livestock_types = [\"HL\", \"HV\", \"VE\", \"VP\", \"ML\", \"MC\", \"TO\", \"BH\", \"BM\"]\n",
    "# Categories of iron for female/male\n",
    "iron_categories = [\"HEMBRA DE 1a\", \"HEMBRA DE 2a\", \"MACHO DE 1a\", \"MACHO DE 2a\", \"HEMBRA DE PRIMERA\", \"MACHO DE PRIMERA\", \"HEMBRA DE SEGUNDA\", \"MACHO DE SEGUNDA\"]\n",
    "# Digits array\n",
    "digits = [\"0\", \"1\", \"2\", \"3\", \"4\", \"5\", \"6\", \"7\", \"8\", \"9\"]\n",
    "# Number of faulty lines\n",
    "faulty_lines = 0\n",
    "# Total lines\n",
    "total_lines = 0"
   ]
  },
  {
   "cell_type": "code",
   "execution_count": 244,
   "metadata": {
    "collapsed": true
   },
   "outputs": [],
   "source": [
    "# Image filenames \n",
    "image_filenames = [f for f in listdir(\"img\") if \".jpg\" in f]"
   ]
  },
  {
   "cell_type": "code",
   "execution_count": 245,
   "metadata": {
    "collapsed": true
   },
   "outputs": [],
   "source": [
    "# Auction filenames list\n",
    "auction_filenames = []\n",
    "\n",
    "# Temp ary of auction filename\n",
    "temp_ary = []\n",
    "\n",
    "# Generate auction filenames list\n",
    "for index, filename in enumerate(image_filenames):\n",
    "    # Append filename to temp_ary\n",
    "    temp_ary.append(filename)\n",
    "    # If it is the end append temp_ary no matter what\n",
    "    if index == len(image_filenames)-1:\n",
    "        auction_filenames.append(temp_ary)\n",
    "    else:\n",
    "        # Select next filename root to check if it belongs to the same multipage file\n",
    "        next_root_filename = \"-\".join(image_filenames[index+1].replace(\".jpg\", \"\").split(\"-\")[0:3])\n",
    "        # If the next filename is another page of the same file go on and keep appending to temp_ary\n",
    "        if next_root_filename in filename:\n",
    "            pass\n",
    "        # Else apppend temp ary and empty it\n",
    "        else:\n",
    "            auction_filenames.append(temp_ary)\n",
    "            temp_ary = []"
   ]
  },
  {
   "cell_type": "code",
   "execution_count": 246,
   "metadata": {},
   "outputs": [
    {
     "name": "stdout",
     "output_type": "stream",
     "text": [
      "Ente gut, alles gut!\n"
     ]
    }
   ],
   "source": [
    "# Check if it coincides with the number of pdf's records gotten from the auction webstie\n",
    "if len(auction_filenames) == 458:\n",
    "    print(\"Ente gut, alles gut!\")"
   ]
  },
  {
   "cell_type": "code",
   "execution_count": 247,
   "metadata": {
    "collapsed": true
   },
   "outputs": [],
   "source": [
    "# Return if the line corresponds to the category of an iron. If so, return the name of the category\n",
    "def is_iron_category(line):\n",
    "    # Check if there is an iron category in the line\n",
    "    has_iron_category = [category in line for category in iron_categories]\n",
    "    # Business logic\n",
    "    if True in has_iron_category:\n",
    "        return True, iron_categories[has_iron_category.index(True)] \n",
    "    return False, None"
   ]
  },
  {
   "cell_type": "code",
   "execution_count": 248,
   "metadata": {
    "collapsed": true
   },
   "outputs": [],
   "source": [
    "# Return if the line corresponds to a data entry. If so, return the line \n",
    "def is_data_entry(line):\n",
    "    # Number of digits in the line\n",
    "    number_of_digits = sum([line.count(digit) for digit in digits])\n",
    "    # Bussiness logic\n",
    "    has_livestock_type = [livestock_type in line for livestock_type in livestock_types]\n",
    "    if (number_of_digits > 10) and (True in has_livestock_type):\n",
    "        # Return True, the data line, the livestock type of the data line \n",
    "        return True, line, livestock_types[has_livestock_type.index(True)]\n",
    "    return False, None, None"
   ]
  },
  {
   "cell_type": "code",
   "execution_count": 249,
   "metadata": {
    "collapsed": true
   },
   "outputs": [],
   "source": [
    "# Correct common errors in data line that come out of OCR routine\n",
    "def formatted_data_line(line, livestock_type, date, iron_category):\n",
    "    # Make total_lines and faulty_lines accesible\n",
    "    global total_lines\n",
    "    global faulty_lines\n",
    "    # Replace \" ,\" by \",\". Some numbers have this pattern and appear broken\n",
    "    line = line.replace(\" ,\", \",\")\n",
    "    # Remove double spaces if any\n",
    "    while \"  \" in line:\n",
    "        line.replace(\"  \", \" \")\n",
    "    # Remove commas and dots from numbers\n",
    "    line = line.replace(\",\", \"\").replace(\".\", \"\")\n",
    "    # Check if age exists or not\n",
    "    if line.index(livestock_type) == 0: # If age is not present\n",
    "        age, numerical_data = None, line.replace(\"{0} \".format(livestock_type), \"\")\n",
    "    else: # If age is present\n",
    "        age, numerical_data = line.split(\" {0} \".format(livestock_type))\n",
    "    # Check that the correct number of columns is in place\n",
    "    if len(numerical_data.split(\" \")) != 6:\n",
    "        # Add to the number of faulty lines encountered\n",
    "        faulty_lines += 1\n",
    "        # Print line\n",
    "        print(\"### Error in line: ###\")\n",
    "        print(line)\n",
    "        return None\n",
    "    # Add to the number of total lines processed\n",
    "    total_lines +=1\n",
    "    try:\n",
    "        output = (date, age, livestock_type, *map(int, numerical_data.split(\" \")), iron_category)\n",
    "        return output\n",
    "    except:\n",
    "        print(\"### Error: ###\")\n",
    "        print(line)\n",
    "        sys.exit(\"### sys.exit ###\")"
   ]
  },
  {
   "cell_type": "code",
   "execution_count": 250,
   "metadata": {
    "collapsed": true
   },
   "outputs": [],
   "source": [
    "# Method that pulls data from image and append it to dataframe. It returns the last iron brand category \n",
    "def append_image_to_dataframe(auction_filename, iron_category, date):\n",
    "    # Make df accesible\n",
    "    global df\n",
    "    # Variables to hold temp dataframe information\n",
    "    data = []\n",
    "    columns = [\"date\", \"age\", \"type\", \"quantity\", \"weight\", \"price_min\", \"price_max\", \"price_avg\", \"price_unit\", \"category\"]\n",
    "    # Locate and load the image\n",
    "    img_path = \"img/{0}\".format(auction_filename)\n",
    "    img = Image.open(img_path)\n",
    "    # Apply OCR routine to image\n",
    "    text = pytesseract.image_to_string(img)\n",
    "    text_lines = text.split(\"\\n\")\n",
    "    # Loop through each line and prepare dataframe to append\n",
    "    for line in text_lines:\n",
    "        # Check if line corresponds to an iron category or a data entry\n",
    "        output_is_iron_category = is_iron_category(line)\n",
    "        output_is_data_entry = is_data_entry(line)\n",
    "        # Set the iron_category variable if the line describes an iron category\n",
    "        if output_is_iron_category[0] == True: iron_category = output_is_iron_category[1]\n",
    "        # Append to data to data array if line is a data entry\n",
    "        if output_is_data_entry[0] == True: \n",
    "            # Construct formatted line\n",
    "            formatted_line = formatted_data_line(output_is_data_entry[1], output_is_data_entry[2], date, iron_category)\n",
    "            # Append line if it is not None\n",
    "            if formatted_line != None: data.append(formatted_line)\n",
    "    # Create temp dataframe and append it to main dataframe\n",
    "    temp_df = pd.DataFrame(data=data, columns=columns)\n",
    "    df = df.append(temp_df)\n",
    "    # Return the last iron category found in the text\n",
    "    return iron_category"
   ]
  },
  {
   "cell_type": "code",
   "execution_count": 251,
   "metadata": {
    "collapsed": true
   },
   "outputs": [],
   "source": [
    "# Dataframe\n",
    "df = pd.DataFrame([])"
   ]
  },
  {
   "cell_type": "code",
   "execution_count": 252,
   "metadata": {},
   "outputs": [
    {
     "name": "stderr",
     "output_type": "stream",
     "text": [
      "  0% (1 of 458) |                         | Elapsed Time: 0:00:04 ETA:  0:34:46"
     ]
    },
    {
     "name": "stdout",
     "output_type": "stream",
     "text": [
      "### Error in line: ###\n",
      "DEST ML 2 1 18 2200 2200 2200 259600\n"
     ]
    },
    {
     "name": "stderr",
     "output_type": "stream",
     "text": [
      "  1% (5 of 458) |                         | Elapsed Time: 0:00:24 ETA:  0:36:39"
     ]
    },
    {
     "name": "stdout",
     "output_type": "stream",
     "text": [
      "### Error in line: ###\n",
      "XX TO 1 1 522 2500 2740 2625 1399295\n",
      "### Error in line: ###\n",
      "DEST HL 10 1 13 800 2350 1733 246260\n"
     ]
    },
    {
     "name": "stderr",
     "output_type": "stream",
     "text": [
      "  1% (8 of 458) |                         | Elapsed Time: 0:00:37 ETA:  0:35:19"
     ]
    },
    {
     "name": "stdout",
     "output_type": "stream",
     "text": [
      "### Error in line: ###\n",
      "BEST ML 2 1 19 2600 2600 2600 309400\n"
     ]
    },
    {
     "name": "stderr",
     "output_type": "stream",
     "text": [
      "  2% (11 of 458) |                        | Elapsed Time: 0:00:48 ETA:  0:30:44"
     ]
    },
    {
     "name": "stdout",
     "output_type": "stream",
     "text": [
      "### Error in line: ###\n",
      "DEST ML 26 1 16 3000 3000 3000 348692\n"
     ]
    },
    {
     "name": "stderr",
     "output_type": "stream",
     "text": [
      "  2% (13 of 458) |                        | Elapsed Time: 0:00:54 ETA:  0:27:11"
     ]
    },
    {
     "name": "stdout",
     "output_type": "stream",
     "text": [
      "### Error in line: ###\n",
      "2 MC 1 10 263 2800 2950 2883 757289\n"
     ]
    },
    {
     "name": "stderr",
     "output_type": "stream",
     "text": [
      "  3% (18 of 458) |                        | Elapsed Time: 0:01:13 ETA:  0:27:01"
     ]
    },
    {
     "name": "stdout",
     "output_type": "stream",
     "text": [
      "### Error in line: ###\n",
      "XX BM 29 255 2450 2450 2450 6251 72\n"
     ]
    },
    {
     "name": "stderr",
     "output_type": "stream",
     "text": [
      "  4% (20 of 458) |#                       | Elapsed Time: 0:01:23 ETA:  0:28:25"
     ]
    },
    {
     "name": "stdout",
     "output_type": "stream",
     "text": [
      "### Error in line: ###\n",
      "DEST HL 21 1 12 2300 2400 2350 265905\n"
     ]
    },
    {
     "name": "stderr",
     "output_type": "stream",
     "text": [
      "  5% (25 of 458) |#                       | Elapsed Time: 0:01:44 ETA:  0:32:18"
     ]
    },
    {
     "name": "stdout",
     "output_type": "stream",
     "text": [
      "### Error in line: ###\n",
      "DEST HL 28 1 18 2500 2500 2500 294643\n"
     ]
    },
    {
     "name": "stderr",
     "output_type": "stream",
     "text": [
      "  5% (27 of 458) |#                       | Elapsed Time: 0:01:54 ETA:  0:32:37"
     ]
    },
    {
     "name": "stdout",
     "output_type": "stream",
     "text": [
      "### Error in line: ###\n",
      "DEST HL 2 1 17 2250 2250 2250 263250\n"
     ]
    },
    {
     "name": "stderr",
     "output_type": "stream",
     "text": [
      "  6% (30 of 458) |#                       | Elapsed Time: 0:02:07 ETA:  0:30:02"
     ]
    },
    {
     "name": "stdout",
     "output_type": "stream",
     "text": [
      "### Error in line: ###\n",
      "DEST HL 1 1 109 2450 2450 2450 267718\n",
      "### Error in line: ###\n",
      "XX VE 1 1 323 1950 2450 2255 755280\n"
     ]
    },
    {
     "name": "stderr",
     "output_type": "stream",
     "text": [
      "\r",
      "                                                                               \r",
      "\r",
      "  6% (31 of 458) |#                       | Elapsed Time: 0:02:10 ETA:  0:30:07"
     ]
    },
    {
     "name": "stdout",
     "output_type": "stream",
     "text": [
      "### Error in line: ###\n",
      "DEST HL 45 1 18 2500 2950 2738 324329\n"
     ]
    },
    {
     "name": "stderr",
     "output_type": "stream",
     "text": [
      "  7% (33 of 458) |#                       | Elapsed Time: 0:02:19 ETA:  0:29:48"
     ]
    },
    {
     "name": "stdout",
     "output_type": "stream",
     "text": [
      "### Error in line: ###\n",
      "DEST HL 25 1 18 2350 2600 2475 292492\n"
     ]
    },
    {
     "name": "stderr",
     "output_type": "stream",
     "text": [
      "  7% (35 of 458) |#                       | Elapsed Time: 0:02:29 ETA:  0:29:24"
     ]
    },
    {
     "name": "stdout",
     "output_type": "stream",
     "text": [
      "### Error in line: ###\n",
      "1 3/4 ML 1 17 235 2950 3350 3225 766185\n"
     ]
    },
    {
     "name": "stderr",
     "output_type": "stream",
     "text": [
      "  8% (37 of 458) |#                       | Elapsed Time: 0:02:38 ETA:  0:29:28"
     ]
    },
    {
     "name": "stdout",
     "output_type": "stream",
     "text": [
      "### Error in line: ###\n",
      "DEST HL 4 1 10 2500 2500 2500 275000\n",
      "### Error in line: ###\n",
      "DEST ML 24 1 11 3300 3300 3300 367125\n",
      "### Error in line: ###\n",
      "DEST HL 3 1 15 2350 2350 2350 269467\n"
     ]
    },
    {
     "name": "stderr",
     "output_type": "stream",
     "text": [
      "  8% (41 of 458) |##                      | Elapsed Time: 0:02:57 ETA:  0:31:28"
     ]
    },
    {
     "name": "stdout",
     "output_type": "stream",
     "text": [
      "### Error in line: ###\n",
      "1 3/4 HL 232 1900 1900 1900 440800\n"
     ]
    },
    {
     "name": "stderr",
     "output_type": "stream",
     "text": [
      " 10% (47 of 458) |##                      | Elapsed Time: 0:03:23 ETA:  0:28:44"
     ]
    },
    {
     "name": "stdout",
     "output_type": "stream",
     "text": [
      "### Error in line: ###\n",
      "DEST HL 24 1 16 2600 2700 2650 307800\n",
      "### Error in line: ###\n",
      "DEST ML 14 1 14 3200 3500 3350 372357\n"
     ]
    },
    {
     "name": "stderr",
     "output_type": "stream",
     "text": [
      "\r",
      "                                                                               \r",
      "\r",
      " 10% (48 of 458) |##                      | Elapsed Time: 0:03:30 ETA:  0:32:12"
     ]
    },
    {
     "name": "stdout",
     "output_type": "stream",
     "text": [
      "### Error in line: ###\n",
      "XX TO 7 460 2980 3060 3020 13991 14\n"
     ]
    },
    {
     "name": "stderr",
     "output_type": "stream",
     "text": [
      " 11% (51 of 458) |##                      | Elapsed Time: 0:03:43 ETA:  0:29:38"
     ]
    },
    {
     "name": "stdout",
     "output_type": "stream",
     "text": [
      "### Error in line: ###\n",
      "DEST ML 2 1 19 2800 2800 2800 333200\n"
     ]
    },
    {
     "name": "stderr",
     "output_type": "stream",
     "text": [
      " 11% (53 of 458) |##                      | Elapsed Time: 0:03:52 ETA:  0:29:33"
     ]
    },
    {
     "name": "stdout",
     "output_type": "stream",
     "text": [
      "### Error in line: ###\n",
      "DEST HL 1 1 18 2800 2800 2800 330400\n"
     ]
    },
    {
     "name": "stderr",
     "output_type": "stream",
     "text": [
      " 12% (57 of 458) |##                      | Elapsed Time: 0:04:10 ETA:  0:29:46"
     ]
    },
    {
     "name": "stdout",
     "output_type": "stream",
     "text": [
      "### Error in line: ###\n",
      "2 1/4 MC 1 13 295 3080 3280 3207 949044\n"
     ]
    },
    {
     "name": "stderr",
     "output_type": "stream",
     "text": [
      " 14% (65 of 458) |###                     | Elapsed Time: 0:04:48 ETA:  0:29:38"
     ]
    },
    {
     "name": "stdout",
     "output_type": "stream",
     "text": [
      "### Error in line: ###\n",
      "DEST HL 2 1 15 2950 2950 2950 339250\n",
      "### Error in line: ###\n",
      "DEST HL 5 1 14 2700 2700 2700 308880\n",
      "### Error in line: ###\n",
      "DEST ML 3 1 18 3050 3050 3050 359900\n"
     ]
    },
    {
     "name": "stderr",
     "output_type": "stream",
     "text": [
      " 16% (75 of 458) |###                     | Elapsed Time: 0:05:39 ETA:  0:31:06"
     ]
    },
    {
     "name": "stdout",
     "output_type": "stream",
     "text": [
      "### Error in line: ###\n",
      "DEST ML 2 1 15 3400 3600 3500 401200\n"
     ]
    },
    {
     "name": "stderr",
     "output_type": "stream",
     "text": [
      "\r",
      "                                                                               \r",
      "\r",
      " 16% (76 of 458) |###                     | Elapsed Time: 0:05:42 ETA:  0:31:01"
     ]
    },
    {
     "name": "stdout",
     "output_type": "stream",
     "text": [
      "### Error in line: ###\n",
      "DEST ML 24 1 14 3300 3600 3467 403058\n"
     ]
    },
    {
     "name": "stderr",
     "output_type": "stream",
     "text": [
      " 17% (78 of 458) |####                    | Elapsed Time: 0:05:51 ETA:  0:30:28"
     ]
    },
    {
     "name": "stdout",
     "output_type": "stream",
     "text": [
      "### Error in line: ###\n",
      "2 MC 1 12 260 3350 3400 3383 879504\n"
     ]
    },
    {
     "name": "stderr",
     "output_type": "stream",
     "text": [
      " 17% (80 of 458) |####                    | Elapsed Time: 0:06:00 ETA:  0:29:53"
     ]
    },
    {
     "name": "stdout",
     "output_type": "stream",
     "text": [
      "### Error in line: ###\n",
      "DEST ML 5 1 10 2700 3450 3033 337780\n"
     ]
    },
    {
     "name": "stderr",
     "output_type": "stream",
     "text": [
      " 17% (82 of 458) |####                    | Elapsed Time: 0:06:13 ETA:  0:29:40"
     ]
    },
    {
     "name": "stdout",
     "output_type": "stream",
     "text": [
      "### Error in line: ###\n",
      "DEST HL 29 1 17 3000 3100 3067 358462\n",
      "### Error in line: ###\n",
      "DEST ML 1 1 14 3300 3300 3300 376200\n"
     ]
    },
    {
     "name": "stderr",
     "output_type": "stream",
     "text": [
      " 18% (84 of 458) |####                    | Elapsed Time: 0:06:22 ETA:  0:29:49"
     ]
    },
    {
     "name": "stdout",
     "output_type": "stream",
     "text": [
      "### Error in line: ###\n",
      "XX VP 1 458 2440 2440 2440 11 17520\n"
     ]
    },
    {
     "name": "stderr",
     "output_type": "stream",
     "text": [
      " 19% (90 of 458) |####                    | Elapsed Time: 0:06:51 ETA:  0:30:06"
     ]
    },
    {
     "name": "stdout",
     "output_type": "stream",
     "text": [
      "### Error in line: ###\n",
      "XX TO 2 81 1 2800 2840 2820 2288400\n"
     ]
    },
    {
     "name": "stderr",
     "output_type": "stream",
     "text": [
      " 20% (92 of 458) |####                    | Elapsed Time: 0:07:00 ETA:  0:27:42"
     ]
    },
    {
     "name": "stdout",
     "output_type": "stream",
     "text": [
      "### Error in line: ###\n",
      "DEST ML 5 1 17 3300 3350 3325 389020\n"
     ]
    },
    {
     "name": "stderr",
     "output_type": "stream",
     "text": [
      " 52% (241 of 458) |############           | Elapsed Time: 0:19:31 ETA:  0:17:41"
     ]
    },
    {
     "name": "stdout",
     "output_type": "stream",
     "text": [
      "### Error in line: ###\n",
      "MC 10 1750000 1750000 1750000\n"
     ]
    },
    {
     "name": "stderr",
     "output_type": "stream",
     "text": [
      " 61% (283 of 458) |##############         | Elapsed Time: 0:23:01 ETA:  0:14:09"
     ]
    },
    {
     "name": "stdout",
     "output_type": "stream",
     "text": [
      "### Error in line: ###\n",
      "VE 10 1900000 1900000 1900000\n"
     ]
    },
    {
     "name": "stderr",
     "output_type": "stream",
     "text": [
      " 72% (330 of 458) |################       | Elapsed Time: 0:26:28 ETA:  0:09:21"
     ]
    },
    {
     "name": "stdout",
     "output_type": "stream",
     "text": [
      "### Error in line: ###\n",
      "HV 2 2075000 2075000 2075000\n"
     ]
    },
    {
     "name": "stderr",
     "output_type": "stream",
     "text": [
      " 83% (383 of 458) |###################    | Elapsed Time: 0:30:18 ETA:  0:05:09"
     ]
    },
    {
     "name": "stdout",
     "output_type": "stream",
     "text": [
      "### Error in line: ###\n",
      "3 VE 37 434 2940 3400 3228 1 405944\n",
      "### Error in line: ###\n",
      "3 HV 2 449 3640 3640 3640 1 634360\n"
     ]
    },
    {
     "name": "stderr",
     "output_type": "stream",
     "text": [
      " 84% (387 of 458) |###################    | Elapsed Time: 0:30:35 ETA:  0:04:52"
     ]
    },
    {
     "name": "stdout",
     "output_type": "stream",
     "text": [
      "### Error in line: ###\n",
      "2 VE 1 268 1800 1 800 1 800 482400\n"
     ]
    },
    {
     "name": "stderr",
     "output_type": "stream",
     "text": [
      " 85% (390 of 458) |###################    | Elapsed Time: 0:30:50 ETA:  0:05:10"
     ]
    },
    {
     "name": "stdout",
     "output_type": "stream",
     "text": [
      "### Error in line: ###\n",
      "3 VE 80 466 3360 3580 3445 1 608620\n",
      "### Error in line: ###\n",
      "2 ML 20 269 4550 4550 4550 1 223950\n"
     ]
    },
    {
     "name": "stderr",
     "output_type": "stream",
     "text": [
      "\r",
      "                                                                               \r",
      "\r",
      " 85% (391 of 458) |###################    | Elapsed Time: 0:30:56 ETA:  0:05:05"
     ]
    },
    {
     "name": "stdout",
     "output_type": "stream",
     "text": [
      "### Error in line: ###\n",
      "1 1/3 ML 76 237 4350 4800 4520 1071 630\n"
     ]
    },
    {
     "name": "stderr",
     "output_type": "stream",
     "text": [
      " 86% (394 of 458) |###################    | Elapsed Time: 0:31:08 ETA:  0:04:57"
     ]
    },
    {
     "name": "stdout",
     "output_type": "stream",
     "text": [
      "### Error in line: ###\n",
      "3 HV 2 459 3640 3640 3640 1 670760\n",
      "### Error in line: ###\n",
      "3 VE 89 477 3000 3460 3254 1 556306\n"
     ]
    },
    {
     "name": "stderr",
     "output_type": "stream",
     "text": [
      "\r",
      "                                                                               \r",
      "\r",
      " 86% (395 of 458) |###################    | Elapsed Time: 0:31:14 ETA:  0:04:53"
     ]
    },
    {
     "name": "stdout",
     "output_type": "stream",
     "text": [
      "### Error in line: ###\n",
      "2 MC 25 258 3750 4450 4033 1 042267\n"
     ]
    },
    {
     "name": "stderr",
     "output_type": "stream",
     "text": [
      "\r",
      "                                                                               \r",
      "\r",
      " 86% (396 of 458) |###################    | Elapsed Time: 0:31:17 ETA:  0:04:49"
     ]
    },
    {
     "name": "stdout",
     "output_type": "stream",
     "text": [
      "### Error in line: ###\n",
      "3 VE 28 505 3280 3480 3367 1 702000\n"
     ]
    },
    {
     "name": "stderr",
     "output_type": "stream",
     "text": [
      "\r",
      "                                                                               \r",
      "\r",
      " 86% (397 of 458) |###################    | Elapsed Time: 0:31:23 ETA:  0:04:42"
     ]
    },
    {
     "name": "stdout",
     "output_type": "stream",
     "text": [
      "### Error in line: ###\n",
      "2 3/4 VE 23 384 2680 3100 2850 1 093825\n"
     ]
    },
    {
     "name": "stderr",
     "output_type": "stream",
     "text": [
      " 87% (400 of 458) |####################   | Elapsed Time: 0:31:35 ETA:  0:04:08"
     ]
    },
    {
     "name": "stdout",
     "output_type": "stream",
     "text": [
      "### Error in line: ###\n",
      "3 HV 1 464 3560 3560 3560 1651 840\n",
      "### Error in line: ###\n",
      "2 ML 24 252 4900 4900 4900 1 234800\n"
     ]
    },
    {
     "name": "stderr",
     "output_type": "stream",
     "text": [
      "\r",
      "                                                                               \r",
      "\r",
      " 87% (401 of 458) |####################   | Elapsed Time: 0:31:40 ETA:  0:04:24"
     ]
    },
    {
     "name": "stdout",
     "output_type": "stream",
     "text": [
      "### Error in line: ###\n",
      "3 HV 2 447 3580 3580 3580 1 600260\n",
      "### Error in line: ###\n",
      "3 VE 28 442 2320 3340 3002 1 327248\n"
     ]
    },
    {
     "name": "stderr",
     "output_type": "stream",
     "text": [
      "\r",
      "                                                                               \r",
      "\r",
      " 87% (402 of 458) |####################   | Elapsed Time: 0:31:43 ETA:  0:03:56"
     ]
    },
    {
     "name": "stdout",
     "output_type": "stream",
     "text": [
      "### Error in line: ###\n",
      "3 VE 5 488 3420 3620 3535 1 723785\n",
      "### Error in line: ###\n",
      "3 MC 30 415 4040 4060 4047 1 679347\n",
      "### Error in line: ###\n",
      "3 VE 40 534 3200 3700 3502 1 874829\n",
      "### Error in line: ###\n",
      "3 VP 1 484 2600 2600 2600 1 258400\n"
     ]
    },
    {
     "name": "stderr",
     "output_type": "stream",
     "text": [
      "\r",
      "                                                                               \r",
      "\r",
      " 87% (403 of 458) |####################   | Elapsed Time: 0:31:50 ETA:  0:04:11"
     ]
    },
    {
     "name": "stdout",
     "output_type": "stream",
     "text": [
      "### Error in line: ###\n",
      "3 VE 40 447 2620 3440 3065 1 378988\n"
     ]
    },
    {
     "name": "stderr",
     "output_type": "stream",
     "text": [
      "\r",
      "                                                                               \r",
      "\r",
      " 88% (404 of 458) |####################   | Elapsed Time: 0:31:53 ETA:  0:03:50"
     ]
    },
    {
     "name": "stdout",
     "output_type": "stream",
     "text": [
      "### Error in line: ###\n",
      "TO 250 15000 1 200000 277137\n"
     ]
    },
    {
     "name": "stderr",
     "output_type": "stream",
     "text": [
      "\r",
      "                                                                               \r",
      "\r",
      " 88% (405 of 458) |####################   | Elapsed Time: 0:31:59 ETA:  0:04:08"
     ]
    },
    {
     "name": "stdout",
     "output_type": "stream",
     "text": [
      "### Error in line: ###\n",
      "3 HV 2 407 3620 3620 3620 1 473340\n"
     ]
    },
    {
     "name": "stderr",
     "output_type": "stream",
     "text": [
      " 89% (408 of 458) |####################   | Elapsed Time: 0:32:12 ETA:  0:03:45"
     ]
    },
    {
     "name": "stdout",
     "output_type": "stream",
     "text": [
      "### Error in line: ###\n",
      "2 HV 8 278 3900 3900 3900 1 084200\n"
     ]
    },
    {
     "name": "stderr",
     "output_type": "stream",
     "text": [
      " 90% (413 of 458) |####################   | Elapsed Time: 0:32:34 ETA:  0:03:28"
     ]
    },
    {
     "name": "stdout",
     "output_type": "stream",
     "text": [
      "### Error in line: ###\n",
      "ML 136 770000 810000 796667\n",
      "### Error in line: ###\n",
      "2 MC 41 270 4700 4700 4700 1 271 350\n"
     ]
    },
    {
     "name": "stderr",
     "output_type": "stream",
     "text": [
      " 90% (415 of 458) |####################   | Elapsed Time: 0:32:44 ETA:  0:03:14"
     ]
    },
    {
     "name": "stdout",
     "output_type": "stream",
     "text": [
      "### Error in line: ###\n",
      "3 VE 6 490 3620 4020 3820 1 873400\n",
      "### Error in line: ###\n",
      "3 TO 2 463 4260 4260 4260 1 972380\n",
      "### Error in line: ###\n",
      "3 TO 1 438 4000 4000 4000 1 752000\n",
      "### Error in line: ###\n",
      "3 TO 2 428 4340 4340 4340 1 857520\n"
     ]
    },
    {
     "name": "stderr",
     "output_type": "stream",
     "text": [
      "\r",
      "                                                                               \r",
      "\r",
      " 90% (416 of 458) |####################   | Elapsed Time: 0:32:50 ETA:  0:03:12"
     ]
    },
    {
     "name": "stdout",
     "output_type": "stream",
     "text": [
      "### Error in line: ###\n",
      "3 TO 3 535 2880 4100 3640 1 988640\n",
      "### Error in line: ###\n",
      "2 HV 8 252 3850 4000 3925 991 175\n",
      "### Error in line: ###\n",
      "3 HV 3 470 3940 3940 3940 1851 800\n"
     ]
    },
    {
     "name": "stderr",
     "output_type": "stream",
     "text": [
      " 91% (419 of 458) |#####################  | Elapsed Time: 0:33:05 ETA:  0:03:14"
     ]
    },
    {
     "name": "stdout",
     "output_type": "stream",
     "text": [
      "### Error in line: ###\n",
      "2 MC 79 262 4660 5000 4852 1 270550\n",
      "### Error in line: ###\n",
      "3 TO 1 694 4340 4340 4340 3011 960\n"
     ]
    },
    {
     "name": "stderr",
     "output_type": "stream",
     "text": [
      "\r",
      "                                                                               \r",
      "\r",
      " 91% (420 of 458) |#####################  | Elapsed Time: 0:33:12 ETA:  0:03:09"
     ]
    },
    {
     "name": "stdout",
     "output_type": "stream",
     "text": [
      "### Error in line: ###\n",
      "2 HV 4 263 3300 3550 3425 901 650\n"
     ]
    },
    {
     "name": "stderr",
     "output_type": "stream",
     "text": [
      " 92% (422 of 458) |#####################  | Elapsed Time: 0:33:21 ETA:  0:03:07"
     ]
    },
    {
     "name": "stdout",
     "output_type": "stream",
     "text": [
      "### Error in line: ###\n",
      "2 3/4 VE 39 382 3100 3640 3327 1 269100\n",
      "### Error in line: ###\n",
      "3 VE 38 422 2300 3720 3331 1 409267\n",
      "### Error in line: ###\n",
      "3 TO 1 430 4000 4000 4000 1 720000\n"
     ]
    },
    {
     "name": "stderr",
     "output_type": "stream",
     "text": [
      " 92% (424 of 458) |#####################  | Elapsed Time: 0:33:30 ETA:  0:02:56"
     ]
    },
    {
     "name": "stdout",
     "output_type": "stream",
     "text": [
      "### Error in line: ###\n",
      "3 HV 2 402 3900 3900 3900 1 567800\n"
     ]
    },
    {
     "name": "stderr",
     "output_type": "stream",
     "text": [
      " 93% (426 of 458) |#####################  | Elapsed Time: 0:33:39 ETA:  0:02:33"
     ]
    },
    {
     "name": "stdout",
     "output_type": "stream",
     "text": [
      "### Error in line: ###\n",
      "3 HV 1 426 3940 3940 3940 1 678440\n",
      "### Error in line: ###\n",
      "3 VE 33 430 2840 3600 3384 1 456720\n",
      "### Error in line: ###\n",
      "3 VP 16 423 3300 3550 3400 1 439333\n"
     ]
    },
    {
     "name": "stderr",
     "output_type": "stream",
     "text": [
      "\r",
      "                                                                               \r",
      "\r",
      " 93% (427 of 458) |#####################  | Elapsed Time: 0:33:42 ETA:  0:02:17"
     ]
    },
    {
     "name": "stdout",
     "output_type": "stream",
     "text": [
      "### Error in line: ###\n",
      "1 HL 14 142 4200 4300 4250 601 350\n"
     ]
    },
    {
     "name": "stderr",
     "output_type": "stream",
     "text": [
      "\r",
      "                                                                               \r",
      "\r",
      " 93% (428 of 458) |#####################  | Elapsed Time: 0:33:48 ETA:  0:02:22"
     ]
    },
    {
     "name": "stdout",
     "output_type": "stream",
     "text": [
      "### Error in line: ###\n",
      "2 MC 54 266 4200 4900 4662 1 242550\n",
      "### Error in line: ###\n",
      "3 TO 5 464 3900 3900 3900 1 809600\n"
     ]
    },
    {
     "name": "stderr",
     "output_type": "stream",
     "text": [
      "\r",
      "                                                                               \r",
      "\r",
      " 93% (429 of 458) |#####################  | Elapsed Time: 0:33:51 ETA:  0:02:06"
     ]
    },
    {
     "name": "stdout",
     "output_type": "stream",
     "text": [
      "### Error in line: ###\n",
      "3 VE 34 479 3460 4000 3722 1 792428\n",
      "### Error in line: ###\n",
      "2 HV 25 272 3600 4200 3933 1071 000\n"
     ]
    },
    {
     "name": "stderr",
     "output_type": "stream",
     "text": [
      "\r",
      "                                                                               \r",
      "\r",
      " 93% (430 of 458) |#####################  | Elapsed Time: 0:33:57 ETA:  0:02:11"
     ]
    },
    {
     "name": "stdout",
     "output_type": "stream",
     "text": [
      "### Error in line: ###\n",
      "3 MC 28 409 3760 4380 4047 1 653600\n",
      "### Error in line: ###\n",
      "3 TO 2 443 3900 4000 3950 1 748700\n"
     ]
    },
    {
     "name": "stderr",
     "output_type": "stream",
     "text": [
      " 95% (437 of 458) |#####################  | Elapsed Time: 0:34:26 ETA:  0:01:29"
     ]
    },
    {
     "name": "stdout",
     "output_type": "stream",
     "text": [
      "### Error in line: ###\n",
      "3 HV 38 417 3640 3840 3747 1561 573\n"
     ]
    },
    {
     "name": "stderr",
     "output_type": "stream",
     "text": [
      "\r",
      "                                                                               \r",
      "\r",
      " 95% (438 of 458) |#####################  | Elapsed Time: 0:34:32 ETA:  0:01:31"
     ]
    },
    {
     "name": "stdout",
     "output_type": "stream",
     "text": [
      "### Error in line: ###\n",
      "2 3/4 VE 42 384 1 700 3220 2973 1141053\n",
      "### Error in line: ###\n",
      "1 1/3 ML 71 234 4250 4950 4675 1091 200\n"
     ]
    },
    {
     "name": "stderr",
     "output_type": "stream",
     "text": [
      " 96% (440 of 458) |###################### | Elapsed Time: 0:34:40 ETA:  0:01:21"
     ]
    },
    {
     "name": "stdout",
     "output_type": "stream",
     "text": [
      "### Error in line: ###\n",
      "3 HV 1 402 3300 3300 3300 1 326600\n"
     ]
    },
    {
     "name": "stderr",
     "output_type": "stream",
     "text": [
      "\r",
      "                                                                               \r",
      "\r",
      " 96% (441 of 458) |###################### | Elapsed Time: 0:34:43 ETA:  0:01:10"
     ]
    },
    {
     "name": "stdout",
     "output_type": "stream",
     "text": [
      "### Error in line: ###\n",
      "3 VE 8 467 3000 3440 3225 1 509035\n",
      "### Error in line: ###\n",
      "3 VE 94 462 2700 3640 3323 1 532671\n"
     ]
    },
    {
     "name": "stderr",
     "output_type": "stream",
     "text": [
      "\r",
      "                                                                               \r",
      "\r",
      " 96% (442 of 458) |###################### | Elapsed Time: 0:34:49 ETA:  0:01:12"
     ]
    },
    {
     "name": "stdout",
     "output_type": "stream",
     "text": [
      "### Error in line: ###\n",
      "3 HV 1 440 3580 3580 3580 1 575200\n"
     ]
    },
    {
     "name": "stderr",
     "output_type": "stream",
     "text": [
      "\r",
      "                                                                               \r",
      "\r",
      " 96% (443 of 458) |###################### | Elapsed Time: 0:34:52 ETA:  0:01:01"
     ]
    },
    {
     "name": "stdout",
     "output_type": "stream",
     "text": [
      "### Error in line: ###\n",
      "2 3/4 VE 14 377 2700 3200 2867 1 077333\n",
      "### Error in line: ###\n",
      "1 1/2 ML 1 211 150000 150000 150000 31 650000\n",
      "### Error in line: ###\n",
      "3 VE 49 467 3000 3540 3300 1 547568\n",
      "### Error in line: ###\n",
      "3 VP 2 437 3200 3200 3200 1 398400\n"
     ]
    },
    {
     "name": "stderr",
     "output_type": "stream",
     "text": [
      "\r",
      "                                                                               \r",
      "\r",
      " 96% (444 of 458) |###################### | Elapsed Time: 0:34:58 ETA:  0:01:02"
     ]
    },
    {
     "name": "stdout",
     "output_type": "stream",
     "text": [
      "### Error in line: ###\n",
      "3 VE 20 430 2750 3420 3022 1 299340\n"
     ]
    },
    {
     "name": "stderr",
     "output_type": "stream",
     "text": [
      "\r",
      "                                                                               \r",
      "\r",
      " 97% (445 of 458) |###################### | Elapsed Time: 0:35:01 ETA:  0:00:53"
     ]
    },
    {
     "name": "stdout",
     "output_type": "stream",
     "text": [
      "### Error in line: ###\n",
      "3 HV 1 402 3340 3340 3340 1 342680\n",
      "### Error in line: ###\n",
      "3 VE 61 464 3260 3440 3336 1 547562\n",
      "### Error in line: ###\n",
      "3 MC 22 469 3900 4320 4073 1 906473\n"
     ]
    },
    {
     "name": "stderr",
     "output_type": "stream",
     "text": [
      " 98% (449 of 458) |###################### | Elapsed Time: 0:35:19 ETA:  0:00:38"
     ]
    },
    {
     "name": "stdout",
     "output_type": "stream",
     "text": [
      "### Error in line: ###\n",
      "3 HV 3 489 3840 3840 3840 1 877760\n",
      "### Error in line: ###\n",
      "2 MC 78 270 4440 4800 4588 1 239664\n"
     ]
    },
    {
     "name": "stderr",
     "output_type": "stream",
     "text": [
      "\r",
      "                                                                               \r",
      "\r",
      " 98% (450 of 458) |###################### | Elapsed Time: 0:35:25 ETA:  0:00:36"
     ]
    },
    {
     "name": "stdout",
     "output_type": "stream",
     "text": [
      "### Error in line: ###\n",
      "3 VP 5 472 3350 3400 3375 1 593500\n"
     ]
    },
    {
     "name": "stderr",
     "output_type": "stream",
     "text": [
      " 99% (454 of 458) |###################### | Elapsed Time: 0:35:42 ETA:  0:00:18"
     ]
    },
    {
     "name": "stdout",
     "output_type": "stream",
     "text": [
      "### Error in line: ###\n",
      "2 3/4 VE 45 369 2 800 3580 3132 1 153550\n"
     ]
    },
    {
     "name": "stderr",
     "output_type": "stream",
     "text": [
      "100% (458 of 458) |#######################| Elapsed Time: 0:35:59 Time: 0:35:59\n"
     ]
    },
    {
     "name": "stdout",
     "output_type": "stream",
     "text": [
      "#### Error Analysis ####\n",
      "-------------------------------------\n",
      "Faulty lines: 108\n",
      "Total lines: 11301\n",
      "=====================================\n",
      "Percentage of faults: 0.96%\n"
     ]
    }
   ],
   "source": [
    "# Initialize progress bar\n",
    "bar = progressbar.ProgressBar()\n",
    "\n",
    "# Count to limit number of files for testing\n",
    "count = -1\n",
    "\n",
    "# Loop through each auction and process the image data into the dataframe\n",
    "for auction_ary in bar(auction_filenames):\n",
    "    # Get date str: YY-MM-DD\n",
    "    date_str = \"-\".join(auction_ary[0].replace(\".jpg\", \"\").split(\"-\")[0:3]) \n",
    "    # Construct date object\n",
    "    year, month, day = map(int, date_str.split(\"-\"))\n",
    "    year = year + 2000\n",
    "    date = datetime.date(year, month, day)\n",
    "    ####################################\n",
    "    '''final_count = 1\n",
    "    # Break on the count file iteration\n",
    "    count += 1\n",
    "    if count == final_count:\n",
    "        break'''\n",
    "    ####################################\n",
    "    # Category of livestock: Number of iron brands: 1st male, 2nd male, 1st female, 2nd female.\n",
    "    iron_category = None\n",
    "    # Auction filename\n",
    "    for auction_filename in auction_ary:\n",
    "        iron_category = append_image_to_dataframe(auction_filename, iron_category, date)\n",
    "\n",
    "print(\"#### Error Analysis ####\")\n",
    "print(\"-------------------------------------\")\n",
    "print(\"Faulty lines: {0}\".format(faulty_lines))\n",
    "print(\"Total lines: {0}\".format(total_lines))\n",
    "print(\"=====================================\")\n",
    "print(\"Percentage of faults: {0:.2f}%\".format(faulty_lines*100/total_lines))"
   ]
  }
 ],
 "metadata": {
  "anaconda-cloud": {},
  "kernelspec": {
   "display_name": "Python (3.6.1)",
   "language": "python",
   "name": "py361"
  },
  "language_info": {
   "codemirror_mode": {
    "name": "ipython",
    "version": 3
   },
   "file_extension": ".py",
   "mimetype": "text/x-python",
   "name": "python",
   "nbconvert_exporter": "python",
   "pygments_lexer": "ipython3",
   "version": "3.6.1"
  }
 },
 "nbformat": 4,
 "nbformat_minor": 1
}
