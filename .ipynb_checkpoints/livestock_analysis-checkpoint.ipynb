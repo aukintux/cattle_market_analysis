{
 "cells": [
  {
   "cell_type": "markdown",
   "metadata": {},
   "source": [
    "# Livestock Analysis"
   ]
  },
  {
   "cell_type": "markdown",
   "metadata": {},
   "source": [
    "Livestock analysis based on the dataframe previously created using scrape routine and OCR to extract data from auctions pdf's from local auction website."
   ]
  },
  {
   "cell_type": "markdown",
   "metadata": {},
   "source": [
    "### Import Modules"
   ]
  },
  {
   "cell_type": "code",
   "execution_count": 47,
   "metadata": {
    "collapsed": true
   },
   "outputs": [],
   "source": [
    "import pandas as pd\n",
    "import numpy as np"
   ]
  },
  {
   "cell_type": "markdown",
   "metadata": {},
   "source": [
    "### Clean Up Dataframe"
   ]
  },
  {
   "cell_type": "code",
   "execution_count": 55,
   "metadata": {},
   "outputs": [],
   "source": [
    "df = pd.read_csv(\"data.csv\")\n",
    "df.drop([\"Unnamed: 0\"], axis=1, inplace=True)"
   ]
  },
  {
   "cell_type": "code",
   "execution_count": 56,
   "metadata": {},
   "outputs": [],
   "source": [
    "df[\"date\"] = df[\"date\"].astype('datetime64[ns]')"
   ]
  },
  {
   "cell_type": "code",
   "execution_count": 74,
   "metadata": {},
   "outputs": [
    {
     "data": {
      "text/plain": [
       "False"
      ]
     },
     "execution_count": 74,
     "metadata": {},
     "output_type": "execute_result"
    }
   ],
   "source": [
    "# Create sex column\n",
    "df[\"sex\"] = df.category.str.contains(\"MACHO\").replace({True: 1, False: 0})\n",
    "# Fill NaN values with 0 = Female. Checked manually. The ones missing are in file 17-08-31 and are all female 1st iron.\n",
    "df[\"sex\"].fillna(0, inplace=True)\n",
    "df[\"sex\"].isnull().values.any()"
   ]
  },
  {
   "cell_type": "code",
   "execution_count": 75,
   "metadata": {},
   "outputs": [],
   "source": [
    "# Create iron column\n",
    "df[\"iron\"] = df.category.str.contains(\"PRIMERA\") + df.category.str.contains(\"1a\")\n",
    "# Fill NaN values with 0 = Female. Checked manually. The ones missing are in file 17-08-31 and are all female 1st iron.\n",
    "df[\"iron\"].fillna(1, inplace=True)\n",
    "df[\"iron\"] = df[\"iron\"].replace({0: 2})"
   ]
  },
  {
   "cell_type": "code",
   "execution_count": 77,
   "metadata": {},
   "outputs": [],
   "source": [
    "# Change types\n",
    "df[\"sex\"] = df[\"sex\"].astype(np.int32)\n",
    "df[\"iron\"] = df[\"iron\"].astype(np.int32)"
   ]
  },
  {
   "cell_type": "code",
   "execution_count": 79,
   "metadata": {
    "collapsed": true
   },
   "outputs": [],
   "source": [
    "# Drop category column\n",
    "df.drop([\"category\"], axis=1, inplace=True)"
   ]
  },
  {
   "cell_type": "code",
   "execution_count": 83,
   "metadata": {},
   "outputs": [
    {
     "name": "stdout",
     "output_type": "stream",
     "text": [
      "<class 'pandas.core.frame.DataFrame'>\n",
      "RangeIndex: 11301 entries, 0 to 11300\n",
      "Data columns (total 11 columns):\n",
      "date          11301 non-null datetime64[ns]\n",
      "age           10756 non-null object\n",
      "type          11301 non-null object\n",
      "quantity      11301 non-null int64\n",
      "weight        11301 non-null int64\n",
      "price_min     11301 non-null int64\n",
      "price_max     11301 non-null int64\n",
      "price_avg     11301 non-null int64\n",
      "price_unit    11301 non-null int64\n",
      "sex           11301 non-null int32\n",
      "iron          11301 non-null int32\n",
      "dtypes: datetime64[ns](1), int32(2), int64(6), object(2)\n",
      "memory usage: 883.0+ KB\n"
     ]
    }
   ],
   "source": [
    "df.info()"
   ]
  },
  {
   "cell_type": "code",
   "execution_count": 82,
   "metadata": {},
   "outputs": [
    {
     "name": "stdout",
     "output_type": "stream",
     "text": [
      "<class 'pandas.core.frame.DataFrame'>\n",
      "Int64Index: 5247 entries, 3 to 11300\n",
      "Data columns (total 11 columns):\n",
      "date          5247 non-null datetime64[ns]\n",
      "age           4950 non-null object\n",
      "type          5247 non-null object\n",
      "quantity      5247 non-null int64\n",
      "weight        5247 non-null int64\n",
      "price_min     5247 non-null int64\n",
      "price_max     5247 non-null int64\n",
      "price_avg     5247 non-null int64\n",
      "price_unit    5247 non-null int64\n",
      "sex           5247 non-null int32\n",
      "iron          5247 non-null int32\n",
      "dtypes: datetime64[ns](1), int32(2), int64(6), object(2)\n",
      "memory usage: 450.9+ KB\n"
     ]
    }
   ],
   "source": [
    "df[df[\"sex\"] == 1].info()"
   ]
  }
 ],
 "metadata": {
  "kernelspec": {
   "display_name": "Python (3.6.1)",
   "language": "python",
   "name": "py361"
  },
  "language_info": {
   "codemirror_mode": {
    "name": "ipython",
    "version": 3
   },
   "file_extension": ".py",
   "mimetype": "text/x-python",
   "name": "python",
   "nbconvert_exporter": "python",
   "pygments_lexer": "ipython3",
   "version": "3.6.1"
  }
 },
 "nbformat": 4,
 "nbformat_minor": 2
}
