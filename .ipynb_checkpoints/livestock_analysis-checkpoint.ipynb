{
 "cells": [
  {
   "cell_type": "markdown",
   "metadata": {},
   "source": [
    "# Livestock Analysis"
   ]
  },
  {
   "cell_type": "markdown",
   "metadata": {},
   "source": [
    "Livestock analysis based on the dataframe previously created using scrape routine and OCR to extract data from auctions pdf's from local auction website."
   ]
  },
  {
   "cell_type": "markdown",
   "metadata": {},
   "source": [
    "### Import Modules"
   ]
  },
  {
   "cell_type": "code",
   "execution_count": 140,
   "metadata": {},
   "outputs": [
    {
     "data": {
      "text/html": [
       "<script>requirejs.config({paths: { 'plotly': ['https://cdn.plot.ly/plotly-latest.min']},});if(!window.Plotly) {{require(['plotly'],function(plotly) {window.Plotly=plotly;});}}</script>"
      ],
      "text/vnd.plotly.v1+html": [
       "<script>requirejs.config({paths: { 'plotly': ['https://cdn.plot.ly/plotly-latest.min']},});if(!window.Plotly) {{require(['plotly'],function(plotly) {window.Plotly=plotly;});}}</script>"
      ]
     },
     "metadata": {},
     "output_type": "display_data"
    }
   ],
   "source": [
    "# Pandas\n",
    "import pandas as pd\n",
    "# Numpy\n",
    "import numpy as np\n",
    "# Import math for ceil method in calculating bin\n",
    "import math\n",
    "# Plotly\n",
    "import plotly\n",
    "from plotly.offline import download_plotlyjs, init_notebook_mode, plot, iplot\n",
    "import plotly.graph_objs as go\n",
    "init_notebook_mode(connected=True) # Offline plotting\n",
    "# Plotly controls\n",
    "from IPython.display import display, HTML"
   ]
  },
  {
   "cell_type": "markdown",
   "metadata": {},
   "source": [
    "### Clean Up Dataframe"
   ]
  },
  {
   "cell_type": "code",
   "execution_count": 141,
   "metadata": {},
   "outputs": [
    {
     "name": "stdout",
     "output_type": "stream",
     "text": [
      "Ente gut, alles gut!\n"
     ]
    }
   ],
   "source": [
    "# Read dataframe\n",
    "df = pd.read_csv(\"data.csv\")\n",
    "# Remove useless columns\n",
    "df.drop([\"Unnamed: 0\", \"age\"], axis=1, inplace=True)\n",
    "# Turn date type from objecto to datetime\n",
    "df[\"date\"] = df[\"date\"].astype('datetime64[ns]')\n",
    "# Create year, month and week columns\n",
    "df[\"year\"] = df[\"date\"].apply(lambda x: x.year)\n",
    "df[\"month\"] = df[\"date\"].apply(lambda x: x.month)\n",
    "df[\"week\"] = df[\"date\"].apply(lambda x: x.week)\n",
    "# Create sex column\n",
    "df[\"sex\"] = df.category.str.contains(\"MACHO\").replace({True: 1, False: 0})\n",
    "# Fill NaN values with 0 = Female. Checked manually. The ones missing are in file 17-08-31 and are all female 1st iron.\n",
    "df[\"sex\"].fillna(0, inplace=True)\n",
    "# Create iron column\n",
    "df[\"iron\"] = df.category.str.contains(\"PRIMERA\") + df.category.str.contains(\"1a\")\n",
    "# Fill NaN values with 0 = Female. Checked manually. The ones missing are in file 17-08-31 and are all female 1st iron.\n",
    "df[\"iron\"].fillna(1, inplace=True)\n",
    "df[\"iron\"] = df[\"iron\"].replace({0: 2})\n",
    "# Change types\n",
    "df[\"sex\"] = df[\"sex\"].astype(np.int32)\n",
    "df[\"iron\"] = df[\"iron\"].astype(np.int32)\n",
    "# Drop category column\n",
    "df.drop([\"category\"], axis=1, inplace=True)\n",
    "# Check if there are no null values in sex column and in iron column\n",
    "if (df[\"sex\"].isnull().values.any() == False) and (df[\"iron\"].isnull().values.any() == False): print(\"Ente gut, alles gut!\")"
   ]
  },
  {
   "cell_type": "markdown",
   "metadata": {},
   "source": [
    "### Sales Volumes By Units Sold and COP"
   ]
  },
  {
   "cell_type": "markdown",
   "metadata": {},
   "source": [
    "Histogram showing the volumes transacted according to the weight. In this specific example we are interested in the males. Segmented by numer of units sold and amount of money transacted in the local currency: COP."
   ]
  },
  {
   "cell_type": "code",
   "execution_count": 142,
   "metadata": {
    "collapsed": true
   },
   "outputs": [],
   "source": [
    "# Dataframe of Males: ML & MC types.\n",
    "df_1 = df[(df[\"type\"] == \"ML\") | (df[\"type\"] == \"MC\")]"
   ]
  },
  {
   "cell_type": "code",
   "execution_count": 143,
   "metadata": {
    "collapsed": true
   },
   "outputs": [],
   "source": [
    "# Generate volume histogram by weight\n",
    "def volume_hist_by_weight(dataframe):\n",
    "    # Histogram dict\n",
    "    weight_hist_dict = {}\n",
    "    # Set bin size for weight\n",
    "    bin_size = 10\n",
    "    # Main routine\n",
    "    for index, row in dataframe.iterrows():\n",
    "        # Calculate weight bin\n",
    "        weight_bin = int(bin_size*math.ceil(row[\"weight\"]/bin_size) - (bin_size/2))\n",
    "        # Update weight_hist_dict\n",
    "        if weight_bin in weight_hist_dict:\n",
    "            weight_hist_dict[weight_bin][0] += row[\"quantity\"]\n",
    "            weight_hist_dict[weight_bin][1] += row[\"quantity\"]*row[\"price_unit\"]\n",
    "        else:\n",
    "            weight_hist_dict[weight_bin] = [row[\"quantity\"], row[\"quantity\"]*row[\"price_unit\"]]\n",
    "    # Sorted keys\n",
    "    sorted_keys = sorted([k for k in weight_hist_dict])\n",
    "    # Data dictionary for output\n",
    "    data_dict = {\"unit_volume\": [], \"cop_volume\": [], \"bins\": []}\n",
    "    # Populate data dictionary\n",
    "    for key in sorted_keys:\n",
    "        data_dict[\"bins\"].append(key)\n",
    "        data_dict[\"unit_volume\"].append(weight_hist_dict[key][0])\n",
    "        data_dict[\"cop_volume\"].append(weight_hist_dict[key][1]) \n",
    "    # Return data dict\n",
    "    return data_dict"
   ]
  },
  {
   "cell_type": "code",
   "execution_count": 144,
   "metadata": {
    "collapsed": true
   },
   "outputs": [],
   "source": [
    "def plot_volumes(volume_type):\n",
    "    # Define years\n",
    "    years = ['2013', '2014', '2015', '2016', '2017']\n",
    "\n",
    "    # Make figure\n",
    "    figure = {\n",
    "        'data': [],\n",
    "        'layout': {},\n",
    "        'frames': []\n",
    "    }\n",
    "\n",
    "    # Fill in most of layout\n",
    "    figure['layout']['xaxis'] = {'range': [0, 700], 'title': 'Weight'}\n",
    "    figure['layout']['yaxis'] = {'title': 'Volume [Units]'}\n",
    "    figure['layout']['hovermode'] = 'closest'\n",
    "    figure['layout']['sliders'] = {\n",
    "        'args': [\n",
    "            'transition', {\n",
    "                'duration': 1000,\n",
    "                'easing': 'cubic-in-out'\n",
    "            }\n",
    "        ],\n",
    "        'initialValue': '2013',\n",
    "        'plotlycommand': 'animate',\n",
    "        'values': years,\n",
    "        'visible': True\n",
    "    }\n",
    "    figure['layout']['updatemenus'] = [\n",
    "        {\n",
    "            'buttons': [\n",
    "                {\n",
    "                    'args': [None, {'frame': {'duration': 5000, 'redraw': True},\n",
    "                             'fromcurrent': True, 'transition': {'duration': 300, 'easing': 'quadratic-in-out'}}],\n",
    "                    'label': 'Play',\n",
    "                    'method': 'animate'\n",
    "                },\n",
    "                {\n",
    "                    'args': [[None], {'frame': {'duration': 0, 'redraw': True}, 'mode': 'immediate',\n",
    "                    'transition': {'duration': 0}}],\n",
    "                    'label': 'Pause',\n",
    "                    'method': 'animate'\n",
    "                }\n",
    "            ],\n",
    "            'direction': 'left',\n",
    "            'pad': {'r': 10, 't': 87},\n",
    "            'showactive': False,\n",
    "            'type': 'buttons',\n",
    "            'x': 0.1,\n",
    "            'xanchor': 'right',\n",
    "            'y': 0,\n",
    "            'yanchor': 'top'\n",
    "        }\n",
    "    ]\n",
    "\n",
    "    sliders_dict = {\n",
    "        'active': 0,\n",
    "        'yanchor': 'top',\n",
    "        'xanchor': 'left',\n",
    "        'currentvalue': {\n",
    "            'font': {'size': 20},\n",
    "            'prefix': 'Year:',\n",
    "            'visible': True,\n",
    "            'xanchor': 'right'\n",
    "        },\n",
    "        'transition': {'duration': 300, 'easing': 'cubic-in-out'},\n",
    "        'pad': {'b': 10, 't': 50},\n",
    "        'len': 0.9,\n",
    "        'x': 0.1,\n",
    "        'y': 0,\n",
    "        'steps': []\n",
    "    }\n",
    "\n",
    "    # Make data\n",
    "    year = 2013\n",
    "\n",
    "    # Initialize data\n",
    "    df_1_year = df_1[df_1['year'] == year]\n",
    "    data = volume_hist_by_weight(df_1_year)\n",
    "    data_dict = go.Bar(\n",
    "        x=data[\"bins\"],\n",
    "        y=data[volume_type]\n",
    "    )\n",
    "    figure['data'].append(data_dict)\n",
    "\n",
    "    # Make frames\n",
    "    for year in years:\n",
    "        frame = {'data': [], 'name': str(year)}\n",
    "\n",
    "        df_1_year = df_1[df_1['year'] == int(year)]\n",
    "        data = volume_hist_by_weight(df_1_year)\n",
    "\n",
    "        data_dict = go.Bar(\n",
    "            x=data[\"bins\"],\n",
    "            y=data[volume_type]\n",
    "        )\n",
    "        frame['data'].append(data_dict)\n",
    "\n",
    "        figure['frames'].append(frame)\n",
    "        slider_step = {'args': [\n",
    "            [year],\n",
    "            {'frame': {'duration': 500, 'redraw': True},\n",
    "             'mode': 'immediate',\n",
    "           'transition': {'duration': 500}}\n",
    "         ],\n",
    "         'label': year,\n",
    "         'method': 'animate'}\n",
    "        sliders_dict['steps'].append(slider_step)\n",
    "\n",
    "    figure['layout']['sliders'] = [sliders_dict]\n",
    "\n",
    "    iplot(figure)"
   ]
  },
  {
   "cell_type": "markdown",
   "metadata": {},
   "source": [
    "#### Sales Volume in Units"
   ]
  },
  {
   "cell_type": "code",
   "execution_count": 145,
   "metadata": {},
   "outputs": [
    {
     "data": {
      "application/vnd.plotly.v1+json": {
       "data": [
        {
         "type": "bar",
         "x": [
          65,
          75,
          85,
          95,
          105,
          115,
          125,
          135,
          145,
          155,
          165,
          175,
          185,
          195,
          205,
          215,
          225,
          235,
          245,
          255,
          265,
          275,
          285,
          295,
          305,
          315,
          325,
          335,
          345,
          355,
          365,
          375,
          385,
          395,
          405,
          415,
          425,
          435,
          445,
          455,
          465,
          475,
          485,
          495,
          505,
          565
         ],
         "y": [
          12,
          1,
          1,
          16,
          224,
          395,
          287,
          1096,
          1089,
          526,
          4593,
          1161,
          297,
          7794,
          5510,
          305,
          1331,
          7408,
          365,
          1140,
          6158,
          671,
          286,
          4711,
          2222,
          157,
          884,
          1566,
          546,
          25,
          220,
          365,
          252,
          91,
          81,
          68,
          58,
          8,
          55,
          28,
          15,
          24,
          28,
          15,
          44,
          1
         ]
        }
       ],
       "frames": [
        {
         "data": [
          {
           "type": "bar",
           "x": [
            65,
            75,
            85,
            95,
            105,
            115,
            125,
            135,
            145,
            155,
            165,
            175,
            185,
            195,
            205,
            215,
            225,
            235,
            245,
            255,
            265,
            275,
            285,
            295,
            305,
            315,
            325,
            335,
            345,
            355,
            365,
            375,
            385,
            395,
            405,
            415,
            425,
            435,
            445,
            455,
            465,
            475,
            485,
            495,
            505,
            565
           ],
           "y": [
            12,
            1,
            1,
            16,
            224,
            395,
            287,
            1096,
            1089,
            526,
            4593,
            1161,
            297,
            7794,
            5510,
            305,
            1331,
            7408,
            365,
            1140,
            6158,
            671,
            286,
            4711,
            2222,
            157,
            884,
            1566,
            546,
            25,
            220,
            365,
            252,
            91,
            81,
            68,
            58,
            8,
            55,
            28,
            15,
            24,
            28,
            15,
            44,
            1
           ]
          }
         ],
         "name": "2013"
        },
        {
         "data": [
          {
           "type": "bar",
           "x": [
            85,
            95,
            105,
            115,
            125,
            135,
            145,
            155,
            165,
            175,
            185,
            195,
            205,
            215,
            225,
            235,
            245,
            255,
            265,
            275,
            285,
            295,
            305,
            315,
            325,
            335,
            345,
            355,
            365,
            375,
            385,
            395,
            405,
            415,
            425,
            435,
            445,
            455,
            465,
            475,
            485,
            495,
            515,
            535,
            575,
            645,
            655,
            665
           ],
           "y": [
            29,
            82,
            181,
            1234,
            386,
            1044,
            1973,
            677,
            7971,
            919,
            497,
            9549,
            7046,
            78,
            2414,
            8351,
            421,
            2111,
            6480,
            741,
            709,
            6029,
            2438,
            227,
            839,
            2523,
            1008,
            86,
            527,
            429,
            257,
            164,
            130,
            73,
            152,
            176,
            145,
            65,
            8,
            271,
            29,
            4,
            1,
            6,
            2,
            1,
            1,
            1
           ]
          }
         ],
         "name": "2014"
        },
        {
         "data": [
          {
           "type": "bar",
           "x": [
            75,
            85,
            95,
            105,
            115,
            125,
            135,
            145,
            155,
            165,
            175,
            185,
            195,
            205,
            215,
            225,
            235,
            245,
            255,
            265,
            275,
            285,
            295,
            305,
            315,
            325,
            335,
            345,
            355,
            365,
            375,
            385,
            395,
            405,
            415,
            425,
            435,
            445,
            455,
            465,
            475,
            485,
            495,
            505,
            515,
            525,
            625
           ],
           "y": [
            5,
            5,
            93,
            544,
            850,
            292,
            1713,
            1979,
            649,
            9494,
            925,
            326,
            10330,
            8634,
            106,
            2181,
            9925,
            627,
            1352,
            6978,
            597,
            618,
            6077,
            2288,
            288,
            752,
            2924,
            1364,
            120,
            373,
            1092,
            168,
            103,
            56,
            55,
            78,
            186,
            215,
            229,
            120,
            6,
            65,
            45,
            9,
            9,
            7,
            1
           ]
          }
         ],
         "name": "2015"
        },
        {
         "data": [
          {
           "type": "bar",
           "x": [
            55,
            75,
            85,
            95,
            105,
            115,
            125,
            135,
            145,
            155,
            165,
            175,
            185,
            195,
            205,
            215,
            225,
            235,
            245,
            255,
            265,
            275,
            285,
            295,
            305,
            315,
            325,
            335,
            345,
            355,
            365,
            375,
            385,
            395,
            405,
            415,
            425,
            435,
            445,
            455,
            465,
            475,
            485,
            515,
            535,
            575,
            655
           ],
           "y": [
            60,
            41,
            68,
            298,
            839,
            883,
            289,
            1120,
            1266,
            809,
            5732,
            646,
            328,
            7679,
            5214,
            67,
            1482,
            6721,
            515,
            952,
            4195,
            712,
            294,
            3713,
            2771,
            166,
            561,
            2343,
            1107,
            239,
            484,
            356,
            355,
            89,
            112,
            123,
            111,
            48,
            170,
            104,
            46,
            1,
            71,
            14,
            1,
            1,
            1
           ]
          }
         ],
         "name": "2016"
        },
        {
         "data": [
          {
           "type": "bar",
           "x": [
            85,
            95,
            105,
            115,
            125,
            135,
            145,
            155,
            165,
            175,
            185,
            195,
            205,
            225,
            235,
            245,
            255,
            265,
            275,
            285,
            295,
            305,
            315,
            325,
            335,
            345,
            355,
            365,
            375,
            385,
            395,
            405,
            415,
            425,
            435,
            445,
            455,
            465,
            475,
            495,
            505,
            545
           ],
           "y": [
            41,
            50,
            212,
            434,
            131,
            1080,
            749,
            472,
            3879,
            556,
            205,
            5095,
            2389,
            873,
            3401,
            569,
            923,
            2554,
            111,
            221,
            2463,
            2355,
            136,
            499,
            1329,
            612,
            42,
            127,
            256,
            160,
            81,
            105,
            231,
            136,
            63,
            64,
            32,
            14,
            21,
            14,
            6,
            2
           ]
          }
         ],
         "name": "2017"
        }
       ],
       "layout": {
        "hovermode": "closest",
        "sliders": [
         {
          "active": 0,
          "currentvalue": {
           "font": {
            "size": 20
           },
           "prefix": "Year:",
           "visible": true,
           "xanchor": "right"
          },
          "len": 0.9,
          "pad": {
           "b": 10,
           "t": 50
          },
          "steps": [
           {
            "args": [
             [
              "2013"
             ],
             {
              "frame": {
               "duration": 500,
               "redraw": true
              },
              "mode": "immediate",
              "transition": {
               "duration": 500
              }
             }
            ],
            "label": "2013",
            "method": "animate"
           },
           {
            "args": [
             [
              "2014"
             ],
             {
              "frame": {
               "duration": 500,
               "redraw": true
              },
              "mode": "immediate",
              "transition": {
               "duration": 500
              }
             }
            ],
            "label": "2014",
            "method": "animate"
           },
           {
            "args": [
             [
              "2015"
             ],
             {
              "frame": {
               "duration": 500,
               "redraw": true
              },
              "mode": "immediate",
              "transition": {
               "duration": 500
              }
             }
            ],
            "label": "2015",
            "method": "animate"
           },
           {
            "args": [
             [
              "2016"
             ],
             {
              "frame": {
               "duration": 500,
               "redraw": true
              },
              "mode": "immediate",
              "transition": {
               "duration": 500
              }
             }
            ],
            "label": "2016",
            "method": "animate"
           },
           {
            "args": [
             [
              "2017"
             ],
             {
              "frame": {
               "duration": 500,
               "redraw": true
              },
              "mode": "immediate",
              "transition": {
               "duration": 500
              }
             }
            ],
            "label": "2017",
            "method": "animate"
           }
          ],
          "transition": {
           "duration": 300,
           "easing": "cubic-in-out"
          },
          "x": 0.1,
          "xanchor": "left",
          "y": 0,
          "yanchor": "top"
         }
        ],
        "updatemenus": [
         {
          "buttons": [
           {
            "args": [
             null,
             {
              "frame": {
               "duration": 5000,
               "redraw": true
              },
              "fromcurrent": true,
              "transition": {
               "duration": 300,
               "easing": "quadratic-in-out"
              }
             }
            ],
            "label": "Play",
            "method": "animate"
           },
           {
            "args": [
             [
              null
             ],
             {
              "frame": {
               "duration": 0,
               "redraw": true
              },
              "mode": "immediate",
              "transition": {
               "duration": 0
              }
             }
            ],
            "label": "Pause",
            "method": "animate"
           }
          ],
          "direction": "left",
          "pad": {
           "r": 10,
           "t": 87
          },
          "showactive": false,
          "type": "buttons",
          "x": 0.1,
          "xanchor": "right",
          "y": 0,
          "yanchor": "top"
         }
        ],
        "xaxis": {
         "range": [
          0,
          700
         ],
         "title": "Weight"
        },
        "yaxis": {
         "title": "Volume [Units]"
        }
       }
      },
      "text/html": [
       "<div id=\"d6984cb1-04c0-463e-8843-bb734d9d703d\" style=\"height: 525px; width: 100%;\" class=\"plotly-graph-div\"></div><script type=\"text/javascript\">require([\"plotly\"], function(Plotly) { window.PLOTLYENV=window.PLOTLYENV || {};window.PLOTLYENV.BASE_URL=\"https://plot.ly\";\n",
       "        Plotly.plot(\n",
       "            'd6984cb1-04c0-463e-8843-bb734d9d703d',\n",
       "            [{\"type\": \"bar\", \"x\": [65, 75, 85, 95, 105, 115, 125, 135, 145, 155, 165, 175, 185, 195, 205, 215, 225, 235, 245, 255, 265, 275, 285, 295, 305, 315, 325, 335, 345, 355, 365, 375, 385, 395, 405, 415, 425, 435, 445, 455, 465, 475, 485, 495, 505, 565], \"y\": [12, 1, 1, 16, 224, 395, 287, 1096, 1089, 526, 4593, 1161, 297, 7794, 5510, 305, 1331, 7408, 365, 1140, 6158, 671, 286, 4711, 2222, 157, 884, 1566, 546, 25, 220, 365, 252, 91, 81, 68, 58, 8, 55, 28, 15, 24, 28, 15, 44, 1]}],\n",
       "            {\"xaxis\": {\"range\": [0, 700], \"title\": \"Weight\"}, \"yaxis\": {\"title\": \"Volume [Units]\"}, \"hovermode\": \"closest\", \"sliders\": [{\"active\": 0, \"yanchor\": \"top\", \"xanchor\": \"left\", \"currentvalue\": {\"font\": {\"size\": 20}, \"prefix\": \"Year:\", \"visible\": true, \"xanchor\": \"right\"}, \"transition\": {\"duration\": 300, \"easing\": \"cubic-in-out\"}, \"pad\": {\"b\": 10, \"t\": 50}, \"len\": 0.9, \"x\": 0.1, \"y\": 0, \"steps\": [{\"args\": [[\"2013\"], {\"frame\": {\"duration\": 500, \"redraw\": true}, \"mode\": \"immediate\", \"transition\": {\"duration\": 500}}], \"label\": \"2013\", \"method\": \"animate\"}, {\"args\": [[\"2014\"], {\"frame\": {\"duration\": 500, \"redraw\": true}, \"mode\": \"immediate\", \"transition\": {\"duration\": 500}}], \"label\": \"2014\", \"method\": \"animate\"}, {\"args\": [[\"2015\"], {\"frame\": {\"duration\": 500, \"redraw\": true}, \"mode\": \"immediate\", \"transition\": {\"duration\": 500}}], \"label\": \"2015\", \"method\": \"animate\"}, {\"args\": [[\"2016\"], {\"frame\": {\"duration\": 500, \"redraw\": true}, \"mode\": \"immediate\", \"transition\": {\"duration\": 500}}], \"label\": \"2016\", \"method\": \"animate\"}, {\"args\": [[\"2017\"], {\"frame\": {\"duration\": 500, \"redraw\": true}, \"mode\": \"immediate\", \"transition\": {\"duration\": 500}}], \"label\": \"2017\", \"method\": \"animate\"}]}], \"updatemenus\": [{\"buttons\": [{\"args\": [null, {\"frame\": {\"duration\": 5000, \"redraw\": true}, \"fromcurrent\": true, \"transition\": {\"duration\": 300, \"easing\": \"quadratic-in-out\"}}], \"label\": \"Play\", \"method\": \"animate\"}, {\"args\": [[null], {\"frame\": {\"duration\": 0, \"redraw\": true}, \"mode\": \"immediate\", \"transition\": {\"duration\": 0}}], \"label\": \"Pause\", \"method\": \"animate\"}], \"direction\": \"left\", \"pad\": {\"r\": 10, \"t\": 87}, \"showactive\": false, \"type\": \"buttons\", \"x\": 0.1, \"xanchor\": \"right\", \"y\": 0, \"yanchor\": \"top\"}]},\n",
       "            {\"showLink\": true, \"linkText\": \"Export to plot.ly\"}\n",
       "        ).then(function () {return Plotly.addFrames('d6984cb1-04c0-463e-8843-bb734d9d703d',[{\"data\": [{\"type\": \"bar\", \"x\": [65, 75, 85, 95, 105, 115, 125, 135, 145, 155, 165, 175, 185, 195, 205, 215, 225, 235, 245, 255, 265, 275, 285, 295, 305, 315, 325, 335, 345, 355, 365, 375, 385, 395, 405, 415, 425, 435, 445, 455, 465, 475, 485, 495, 505, 565], \"y\": [12, 1, 1, 16, 224, 395, 287, 1096, 1089, 526, 4593, 1161, 297, 7794, 5510, 305, 1331, 7408, 365, 1140, 6158, 671, 286, 4711, 2222, 157, 884, 1566, 546, 25, 220, 365, 252, 91, 81, 68, 58, 8, 55, 28, 15, 24, 28, 15, 44, 1]}], \"name\": \"2013\"}, {\"data\": [{\"type\": \"bar\", \"x\": [85, 95, 105, 115, 125, 135, 145, 155, 165, 175, 185, 195, 205, 215, 225, 235, 245, 255, 265, 275, 285, 295, 305, 315, 325, 335, 345, 355, 365, 375, 385, 395, 405, 415, 425, 435, 445, 455, 465, 475, 485, 495, 515, 535, 575, 645, 655, 665], \"y\": [29, 82, 181, 1234, 386, 1044, 1973, 677, 7971, 919, 497, 9549, 7046, 78, 2414, 8351, 421, 2111, 6480, 741, 709, 6029, 2438, 227, 839, 2523, 1008, 86, 527, 429, 257, 164, 130, 73, 152, 176, 145, 65, 8, 271, 29, 4, 1, 6, 2, 1, 1, 1]}], \"name\": \"2014\"}, {\"data\": [{\"type\": \"bar\", \"x\": [75, 85, 95, 105, 115, 125, 135, 145, 155, 165, 175, 185, 195, 205, 215, 225, 235, 245, 255, 265, 275, 285, 295, 305, 315, 325, 335, 345, 355, 365, 375, 385, 395, 405, 415, 425, 435, 445, 455, 465, 475, 485, 495, 505, 515, 525, 625], \"y\": [5, 5, 93, 544, 850, 292, 1713, 1979, 649, 9494, 925, 326, 10330, 8634, 106, 2181, 9925, 627, 1352, 6978, 597, 618, 6077, 2288, 288, 752, 2924, 1364, 120, 373, 1092, 168, 103, 56, 55, 78, 186, 215, 229, 120, 6, 65, 45, 9, 9, 7, 1]}], \"name\": \"2015\"}, {\"data\": [{\"type\": \"bar\", \"x\": [55, 75, 85, 95, 105, 115, 125, 135, 145, 155, 165, 175, 185, 195, 205, 215, 225, 235, 245, 255, 265, 275, 285, 295, 305, 315, 325, 335, 345, 355, 365, 375, 385, 395, 405, 415, 425, 435, 445, 455, 465, 475, 485, 515, 535, 575, 655], \"y\": [60, 41, 68, 298, 839, 883, 289, 1120, 1266, 809, 5732, 646, 328, 7679, 5214, 67, 1482, 6721, 515, 952, 4195, 712, 294, 3713, 2771, 166, 561, 2343, 1107, 239, 484, 356, 355, 89, 112, 123, 111, 48, 170, 104, 46, 1, 71, 14, 1, 1, 1]}], \"name\": \"2016\"}, {\"data\": [{\"type\": \"bar\", \"x\": [85, 95, 105, 115, 125, 135, 145, 155, 165, 175, 185, 195, 205, 225, 235, 245, 255, 265, 275, 285, 295, 305, 315, 325, 335, 345, 355, 365, 375, 385, 395, 405, 415, 425, 435, 445, 455, 465, 475, 495, 505, 545], \"y\": [41, 50, 212, 434, 131, 1080, 749, 472, 3879, 556, 205, 5095, 2389, 873, 3401, 569, 923, 2554, 111, 221, 2463, 2355, 136, 499, 1329, 612, 42, 127, 256, 160, 81, 105, 231, 136, 63, 64, 32, 14, 21, 14, 6, 2]}], \"name\": \"2017\"}]);}).then(function(){Plotly.animate('d6984cb1-04c0-463e-8843-bb734d9d703d');})\n",
       "        });</script>"
      ],
      "text/vnd.plotly.v1+html": [
       "<div id=\"d6984cb1-04c0-463e-8843-bb734d9d703d\" style=\"height: 525px; width: 100%;\" class=\"plotly-graph-div\"></div><script type=\"text/javascript\">require([\"plotly\"], function(Plotly) { window.PLOTLYENV=window.PLOTLYENV || {};window.PLOTLYENV.BASE_URL=\"https://plot.ly\";\n",
       "        Plotly.plot(\n",
       "            'd6984cb1-04c0-463e-8843-bb734d9d703d',\n",
       "            [{\"type\": \"bar\", \"x\": [65, 75, 85, 95, 105, 115, 125, 135, 145, 155, 165, 175, 185, 195, 205, 215, 225, 235, 245, 255, 265, 275, 285, 295, 305, 315, 325, 335, 345, 355, 365, 375, 385, 395, 405, 415, 425, 435, 445, 455, 465, 475, 485, 495, 505, 565], \"y\": [12, 1, 1, 16, 224, 395, 287, 1096, 1089, 526, 4593, 1161, 297, 7794, 5510, 305, 1331, 7408, 365, 1140, 6158, 671, 286, 4711, 2222, 157, 884, 1566, 546, 25, 220, 365, 252, 91, 81, 68, 58, 8, 55, 28, 15, 24, 28, 15, 44, 1]}],\n",
       "            {\"xaxis\": {\"range\": [0, 700], \"title\": \"Weight\"}, \"yaxis\": {\"title\": \"Volume [Units]\"}, \"hovermode\": \"closest\", \"sliders\": [{\"active\": 0, \"yanchor\": \"top\", \"xanchor\": \"left\", \"currentvalue\": {\"font\": {\"size\": 20}, \"prefix\": \"Year:\", \"visible\": true, \"xanchor\": \"right\"}, \"transition\": {\"duration\": 300, \"easing\": \"cubic-in-out\"}, \"pad\": {\"b\": 10, \"t\": 50}, \"len\": 0.9, \"x\": 0.1, \"y\": 0, \"steps\": [{\"args\": [[\"2013\"], {\"frame\": {\"duration\": 500, \"redraw\": true}, \"mode\": \"immediate\", \"transition\": {\"duration\": 500}}], \"label\": \"2013\", \"method\": \"animate\"}, {\"args\": [[\"2014\"], {\"frame\": {\"duration\": 500, \"redraw\": true}, \"mode\": \"immediate\", \"transition\": {\"duration\": 500}}], \"label\": \"2014\", \"method\": \"animate\"}, {\"args\": [[\"2015\"], {\"frame\": {\"duration\": 500, \"redraw\": true}, \"mode\": \"immediate\", \"transition\": {\"duration\": 500}}], \"label\": \"2015\", \"method\": \"animate\"}, {\"args\": [[\"2016\"], {\"frame\": {\"duration\": 500, \"redraw\": true}, \"mode\": \"immediate\", \"transition\": {\"duration\": 500}}], \"label\": \"2016\", \"method\": \"animate\"}, {\"args\": [[\"2017\"], {\"frame\": {\"duration\": 500, \"redraw\": true}, \"mode\": \"immediate\", \"transition\": {\"duration\": 500}}], \"label\": \"2017\", \"method\": \"animate\"}]}], \"updatemenus\": [{\"buttons\": [{\"args\": [null, {\"frame\": {\"duration\": 5000, \"redraw\": true}, \"fromcurrent\": true, \"transition\": {\"duration\": 300, \"easing\": \"quadratic-in-out\"}}], \"label\": \"Play\", \"method\": \"animate\"}, {\"args\": [[null], {\"frame\": {\"duration\": 0, \"redraw\": true}, \"mode\": \"immediate\", \"transition\": {\"duration\": 0}}], \"label\": \"Pause\", \"method\": \"animate\"}], \"direction\": \"left\", \"pad\": {\"r\": 10, \"t\": 87}, \"showactive\": false, \"type\": \"buttons\", \"x\": 0.1, \"xanchor\": \"right\", \"y\": 0, \"yanchor\": \"top\"}]},\n",
       "            {\"showLink\": true, \"linkText\": \"Export to plot.ly\"}\n",
       "        ).then(function () {return Plotly.addFrames('d6984cb1-04c0-463e-8843-bb734d9d703d',[{\"data\": [{\"type\": \"bar\", \"x\": [65, 75, 85, 95, 105, 115, 125, 135, 145, 155, 165, 175, 185, 195, 205, 215, 225, 235, 245, 255, 265, 275, 285, 295, 305, 315, 325, 335, 345, 355, 365, 375, 385, 395, 405, 415, 425, 435, 445, 455, 465, 475, 485, 495, 505, 565], \"y\": [12, 1, 1, 16, 224, 395, 287, 1096, 1089, 526, 4593, 1161, 297, 7794, 5510, 305, 1331, 7408, 365, 1140, 6158, 671, 286, 4711, 2222, 157, 884, 1566, 546, 25, 220, 365, 252, 91, 81, 68, 58, 8, 55, 28, 15, 24, 28, 15, 44, 1]}], \"name\": \"2013\"}, {\"data\": [{\"type\": \"bar\", \"x\": [85, 95, 105, 115, 125, 135, 145, 155, 165, 175, 185, 195, 205, 215, 225, 235, 245, 255, 265, 275, 285, 295, 305, 315, 325, 335, 345, 355, 365, 375, 385, 395, 405, 415, 425, 435, 445, 455, 465, 475, 485, 495, 515, 535, 575, 645, 655, 665], \"y\": [29, 82, 181, 1234, 386, 1044, 1973, 677, 7971, 919, 497, 9549, 7046, 78, 2414, 8351, 421, 2111, 6480, 741, 709, 6029, 2438, 227, 839, 2523, 1008, 86, 527, 429, 257, 164, 130, 73, 152, 176, 145, 65, 8, 271, 29, 4, 1, 6, 2, 1, 1, 1]}], \"name\": \"2014\"}, {\"data\": [{\"type\": \"bar\", \"x\": [75, 85, 95, 105, 115, 125, 135, 145, 155, 165, 175, 185, 195, 205, 215, 225, 235, 245, 255, 265, 275, 285, 295, 305, 315, 325, 335, 345, 355, 365, 375, 385, 395, 405, 415, 425, 435, 445, 455, 465, 475, 485, 495, 505, 515, 525, 625], \"y\": [5, 5, 93, 544, 850, 292, 1713, 1979, 649, 9494, 925, 326, 10330, 8634, 106, 2181, 9925, 627, 1352, 6978, 597, 618, 6077, 2288, 288, 752, 2924, 1364, 120, 373, 1092, 168, 103, 56, 55, 78, 186, 215, 229, 120, 6, 65, 45, 9, 9, 7, 1]}], \"name\": \"2015\"}, {\"data\": [{\"type\": \"bar\", \"x\": [55, 75, 85, 95, 105, 115, 125, 135, 145, 155, 165, 175, 185, 195, 205, 215, 225, 235, 245, 255, 265, 275, 285, 295, 305, 315, 325, 335, 345, 355, 365, 375, 385, 395, 405, 415, 425, 435, 445, 455, 465, 475, 485, 515, 535, 575, 655], \"y\": [60, 41, 68, 298, 839, 883, 289, 1120, 1266, 809, 5732, 646, 328, 7679, 5214, 67, 1482, 6721, 515, 952, 4195, 712, 294, 3713, 2771, 166, 561, 2343, 1107, 239, 484, 356, 355, 89, 112, 123, 111, 48, 170, 104, 46, 1, 71, 14, 1, 1, 1]}], \"name\": \"2016\"}, {\"data\": [{\"type\": \"bar\", \"x\": [85, 95, 105, 115, 125, 135, 145, 155, 165, 175, 185, 195, 205, 225, 235, 245, 255, 265, 275, 285, 295, 305, 315, 325, 335, 345, 355, 365, 375, 385, 395, 405, 415, 425, 435, 445, 455, 465, 475, 495, 505, 545], \"y\": [41, 50, 212, 434, 131, 1080, 749, 472, 3879, 556, 205, 5095, 2389, 873, 3401, 569, 923, 2554, 111, 221, 2463, 2355, 136, 499, 1329, 612, 42, 127, 256, 160, 81, 105, 231, 136, 63, 64, 32, 14, 21, 14, 6, 2]}], \"name\": \"2017\"}]);}).then(function(){Plotly.animate('d6984cb1-04c0-463e-8843-bb734d9d703d');})\n",
       "        });</script>"
      ]
     },
     "metadata": {},
     "output_type": "display_data"
    }
   ],
   "source": [
    "# Plot unit volume\n",
    "plot_volumes(\"unit_volume\")"
   ]
  },
  {
   "cell_type": "markdown",
   "metadata": {},
   "source": [
    "#### Sales Volume in COP"
   ]
  },
  {
   "cell_type": "code",
   "execution_count": 146,
   "metadata": {},
   "outputs": [
    {
     "data": {
      "application/vnd.plotly.v1+json": {
       "data": [
        {
         "type": "bar",
         "x": [
          65,
          75,
          85,
          95,
          105,
          115,
          125,
          135,
          145,
          155,
          165,
          175,
          185,
          195,
          205,
          215,
          225,
          235,
          245,
          255,
          265,
          275,
          285,
          295,
          305,
          315,
          325,
          335,
          345,
          355,
          365,
          375,
          385,
          395,
          405,
          415,
          425,
          435,
          445,
          455,
          465,
          475,
          485,
          495,
          505,
          565
         ],
         "y": [
          1599000,
          210600,
          306000,
          3838503,
          63956617,
          138442715,
          107293993,
          476979039,
          480639683,
          265018824,
          2387348746,
          633419846,
          174398498,
          4855257501,
          3587374584,
          218629144,
          969885714,
          5506333801,
          273147067,
          915579319,
          4987884408,
          568455300,
          257756721,
          4204275560,
          2081942885,
          155592095,
          899026055,
          1622996015,
          550981793,
          26363961,
          236497239,
          400349974,
          287220742,
          105717225,
          97566682,
          84775355,
          73155636,
          10626721,
          66477346,
          37809162,
          20147516,
          34051536,
          40623968,
          22664160,
          67243770,
          1556320
         ]
        }
       ],
       "frames": [
        {
         "data": [
          {
           "type": "bar",
           "x": [
            65,
            75,
            85,
            95,
            105,
            115,
            125,
            135,
            145,
            155,
            165,
            175,
            185,
            195,
            205,
            215,
            225,
            235,
            245,
            255,
            265,
            275,
            285,
            295,
            305,
            315,
            325,
            335,
            345,
            355,
            365,
            375,
            385,
            395,
            405,
            415,
            425,
            435,
            445,
            455,
            465,
            475,
            485,
            495,
            505,
            565
           ],
           "y": [
            1599000,
            210600,
            306000,
            3838503,
            63956617,
            138442715,
            107293993,
            476979039,
            480639683,
            265018824,
            2387348746,
            633419846,
            174398498,
            4855257501,
            3587374584,
            218629144,
            969885714,
            5506333801,
            273147067,
            915579319,
            4987884408,
            568455300,
            257756721,
            4204275560,
            2081942885,
            155592095,
            899026055,
            1622996015,
            550981793,
            26363961,
            236497239,
            400349974,
            287220742,
            105717225,
            97566682,
            84775355,
            73155636,
            10626721,
            66477346,
            37809162,
            20147516,
            34051536,
            40623968,
            22664160,
            67243770,
            1556320
           ]
          }
         ],
         "name": "2013"
        },
        {
         "data": [
          {
           "type": "bar",
           "x": [
            85,
            95,
            105,
            115,
            125,
            135,
            145,
            155,
            165,
            175,
            185,
            195,
            205,
            215,
            225,
            235,
            245,
            255,
            265,
            275,
            285,
            295,
            305,
            315,
            325,
            335,
            345,
            355,
            365,
            375,
            385,
            395,
            405,
            415,
            425,
            435,
            445,
            455,
            465,
            475,
            485,
            495,
            515,
            535,
            575,
            645,
            655,
            665
           ],
           "y": [
            8688250,
            24477050,
            61671249,
            494544979,
            159770949,
            494078586,
            965915063,
            373339838,
            4505332507,
            530673601,
            297964465,
            6346495705,
            4817883831,
            56117550,
            1826149190,
            6460598544,
            338847024,
            1753259079,
            5467381374,
            644559824,
            637503948,
            6537160423,
            2345740847,
            230291084,
            866345247,
            2606227643,
            2837102576,
            96895700,
            592253532,
            491766993,
            299316692,
            198376392,
            159305560,
            89848700,
            198521590,
            229951434,
            196116840,
            87584620,
            11239798,
            387218316,
            41873440,
            6046560,
            1428920,
            9519360,
            3277360,
            1926000,
            1771200,
            1963920
           ]
          }
         ],
         "name": "2014"
        },
        {
         "data": [
          {
           "type": "bar",
           "x": [
            75,
            85,
            95,
            105,
            115,
            125,
            135,
            145,
            155,
            165,
            175,
            185,
            195,
            205,
            215,
            225,
            235,
            245,
            255,
            265,
            275,
            285,
            295,
            305,
            315,
            325,
            335,
            345,
            355,
            365,
            375,
            385,
            395,
            405,
            415,
            425,
            435,
            445,
            455,
            465,
            475,
            485,
            495,
            505,
            515,
            525,
            625
           ],
           "y": [
            931400,
            1207400,
            27487490,
            200605792,
            338494993,
            126969551,
            851128690,
            1014815396,
            359889634,
            5699263073,
            560975318,
            209302810,
            7474159252,
            6196538408,
            82594650,
            1989453427,
            8187298942,
            528601378,
            1181326228,
            6226599752,
            543449364,
            598381652,
            6007949334,
            2281638317,
            296307215,
            806383962,
            3234124812,
            1575505070,
            136406240,
            452609357,
            1355417659,
            210434800,
            128588820,
            73848160,
            71570320,
            106209030,
            259794571,
            313252666,
            326664161,
            181770865,
            9254280,
            103561659,
            72492350,
            13264960,
            14603920,
            12122880,
            1695600
           ]
          }
         ],
         "name": "2015"
        },
        {
         "data": [
          {
           "type": "bar",
           "x": [
            55,
            75,
            85,
            95,
            105,
            115,
            125,
            135,
            145,
            155,
            165,
            175,
            185,
            195,
            205,
            215,
            225,
            235,
            245,
            255,
            265,
            275,
            285,
            295,
            305,
            315,
            325,
            335,
            345,
            355,
            365,
            375,
            385,
            395,
            405,
            415,
            425,
            435,
            445,
            455,
            465,
            475,
            485,
            515,
            535,
            575,
            655
           ],
           "y": [
            6132000,
            8595650,
            87123640,
            122729999,
            369736954,
            412568032,
            146370041,
            659878990,
            767945622,
            539407500,
            4221569944,
            490231577,
            249481924,
            6679266635,
            4621720359,
            52385500,
            1490290794,
            6796219005,
            514908480,
            1026767758,
            4662482702,
            816607503,
            352548198,
            4444877013,
            3528710196,
            217677616,
            741573083,
            3276585837,
            1587655353,
            349217685,
            734060020,
            523999955,
            557555372,
            129560620,
            183770880,
            198546380,
            191725295,
            81102770,
            304107140,
            193131930,
            83649512,
            1912000,
            139753480,
            29198960,
            1798160,
            2080800,
            2203760
           ]
          }
         ],
         "name": "2016"
        },
        {
         "data": [
          {
           "type": "bar",
           "x": [
            85,
            95,
            105,
            115,
            125,
            135,
            145,
            155,
            165,
            175,
            185,
            195,
            205,
            225,
            235,
            245,
            255,
            265,
            275,
            285,
            295,
            305,
            315,
            325,
            335,
            345,
            355,
            365,
            375,
            385,
            395,
            405,
            415,
            425,
            435,
            445,
            455,
            465,
            475,
            495,
            505,
            545
           ],
           "y": [
            13380350,
            15888300,
            106813285,
            231727278,
            79135775,
            714080062,
            533224791,
            366224886,
            3166570141,
            481254989,
            189562648,
            6336022508,
            2351238822,
            922766592,
            3824407715,
            669740561,
            1117405875,
            3073071853,
            144797542,
            277953110,
            3189274334,
            3252944786,
            195294000,
            724474783,
            1917346164,
            941981820,
            65226610,
            199280060,
            405313810,
            249200683,
            130051090,
            180408300,
            394927842,
            239556120,
            113079339,
            118574390,
            60514822,
            24191160,
            41384280,
            27728960,
            11557200,
            4251000
           ]
          }
         ],
         "name": "2017"
        }
       ],
       "layout": {
        "hovermode": "closest",
        "sliders": [
         {
          "active": 0,
          "currentvalue": {
           "font": {
            "size": 20
           },
           "prefix": "Year:",
           "visible": true,
           "xanchor": "right"
          },
          "len": 0.9,
          "pad": {
           "b": 10,
           "t": 50
          },
          "steps": [
           {
            "args": [
             [
              "2013"
             ],
             {
              "frame": {
               "duration": 500,
               "redraw": true
              },
              "mode": "immediate",
              "transition": {
               "duration": 500
              }
             }
            ],
            "label": "2013",
            "method": "animate"
           },
           {
            "args": [
             [
              "2014"
             ],
             {
              "frame": {
               "duration": 500,
               "redraw": true
              },
              "mode": "immediate",
              "transition": {
               "duration": 500
              }
             }
            ],
            "label": "2014",
            "method": "animate"
           },
           {
            "args": [
             [
              "2015"
             ],
             {
              "frame": {
               "duration": 500,
               "redraw": true
              },
              "mode": "immediate",
              "transition": {
               "duration": 500
              }
             }
            ],
            "label": "2015",
            "method": "animate"
           },
           {
            "args": [
             [
              "2016"
             ],
             {
              "frame": {
               "duration": 500,
               "redraw": true
              },
              "mode": "immediate",
              "transition": {
               "duration": 500
              }
             }
            ],
            "label": "2016",
            "method": "animate"
           },
           {
            "args": [
             [
              "2017"
             ],
             {
              "frame": {
               "duration": 500,
               "redraw": true
              },
              "mode": "immediate",
              "transition": {
               "duration": 500
              }
             }
            ],
            "label": "2017",
            "method": "animate"
           }
          ],
          "transition": {
           "duration": 300,
           "easing": "cubic-in-out"
          },
          "x": 0.1,
          "xanchor": "left",
          "y": 0,
          "yanchor": "top"
         }
        ],
        "updatemenus": [
         {
          "buttons": [
           {
            "args": [
             null,
             {
              "frame": {
               "duration": 5000,
               "redraw": true
              },
              "fromcurrent": true,
              "transition": {
               "duration": 300,
               "easing": "quadratic-in-out"
              }
             }
            ],
            "label": "Play",
            "method": "animate"
           },
           {
            "args": [
             [
              null
             ],
             {
              "frame": {
               "duration": 0,
               "redraw": true
              },
              "mode": "immediate",
              "transition": {
               "duration": 0
              }
             }
            ],
            "label": "Pause",
            "method": "animate"
           }
          ],
          "direction": "left",
          "pad": {
           "r": 10,
           "t": 87
          },
          "showactive": false,
          "type": "buttons",
          "x": 0.1,
          "xanchor": "right",
          "y": 0,
          "yanchor": "top"
         }
        ],
        "xaxis": {
         "range": [
          0,
          700
         ],
         "title": "Weight"
        },
        "yaxis": {
         "title": "Volume [Units]"
        }
       }
      },
      "text/html": [
       "<div id=\"0718072a-c964-46b8-a5f6-54b968e4e46f\" style=\"height: 525px; width: 100%;\" class=\"plotly-graph-div\"></div><script type=\"text/javascript\">require([\"plotly\"], function(Plotly) { window.PLOTLYENV=window.PLOTLYENV || {};window.PLOTLYENV.BASE_URL=\"https://plot.ly\";\n",
       "        Plotly.plot(\n",
       "            '0718072a-c964-46b8-a5f6-54b968e4e46f',\n",
       "            [{\"type\": \"bar\", \"x\": [65, 75, 85, 95, 105, 115, 125, 135, 145, 155, 165, 175, 185, 195, 205, 215, 225, 235, 245, 255, 265, 275, 285, 295, 305, 315, 325, 335, 345, 355, 365, 375, 385, 395, 405, 415, 425, 435, 445, 455, 465, 475, 485, 495, 505, 565], \"y\": [1599000, 210600, 306000, 3838503, 63956617, 138442715, 107293993, 476979039, 480639683, 265018824, 2387348746, 633419846, 174398498, 4855257501, 3587374584, 218629144, 969885714, 5506333801, 273147067, 915579319, 4987884408, 568455300, 257756721, 4204275560, 2081942885, 155592095, 899026055, 1622996015, 550981793, 26363961, 236497239, 400349974, 287220742, 105717225, 97566682, 84775355, 73155636, 10626721, 66477346, 37809162, 20147516, 34051536, 40623968, 22664160, 67243770, 1556320]}],\n",
       "            {\"xaxis\": {\"range\": [0, 700], \"title\": \"Weight\"}, \"yaxis\": {\"title\": \"Volume [Units]\"}, \"hovermode\": \"closest\", \"sliders\": [{\"active\": 0, \"yanchor\": \"top\", \"xanchor\": \"left\", \"currentvalue\": {\"font\": {\"size\": 20}, \"prefix\": \"Year:\", \"visible\": true, \"xanchor\": \"right\"}, \"transition\": {\"duration\": 300, \"easing\": \"cubic-in-out\"}, \"pad\": {\"b\": 10, \"t\": 50}, \"len\": 0.9, \"x\": 0.1, \"y\": 0, \"steps\": [{\"args\": [[\"2013\"], {\"frame\": {\"duration\": 500, \"redraw\": true}, \"mode\": \"immediate\", \"transition\": {\"duration\": 500}}], \"label\": \"2013\", \"method\": \"animate\"}, {\"args\": [[\"2014\"], {\"frame\": {\"duration\": 500, \"redraw\": true}, \"mode\": \"immediate\", \"transition\": {\"duration\": 500}}], \"label\": \"2014\", \"method\": \"animate\"}, {\"args\": [[\"2015\"], {\"frame\": {\"duration\": 500, \"redraw\": true}, \"mode\": \"immediate\", \"transition\": {\"duration\": 500}}], \"label\": \"2015\", \"method\": \"animate\"}, {\"args\": [[\"2016\"], {\"frame\": {\"duration\": 500, \"redraw\": true}, \"mode\": \"immediate\", \"transition\": {\"duration\": 500}}], \"label\": \"2016\", \"method\": \"animate\"}, {\"args\": [[\"2017\"], {\"frame\": {\"duration\": 500, \"redraw\": true}, \"mode\": \"immediate\", \"transition\": {\"duration\": 500}}], \"label\": \"2017\", \"method\": \"animate\"}]}], \"updatemenus\": [{\"buttons\": [{\"args\": [null, {\"frame\": {\"duration\": 5000, \"redraw\": true}, \"fromcurrent\": true, \"transition\": {\"duration\": 300, \"easing\": \"quadratic-in-out\"}}], \"label\": \"Play\", \"method\": \"animate\"}, {\"args\": [[null], {\"frame\": {\"duration\": 0, \"redraw\": true}, \"mode\": \"immediate\", \"transition\": {\"duration\": 0}}], \"label\": \"Pause\", \"method\": \"animate\"}], \"direction\": \"left\", \"pad\": {\"r\": 10, \"t\": 87}, \"showactive\": false, \"type\": \"buttons\", \"x\": 0.1, \"xanchor\": \"right\", \"y\": 0, \"yanchor\": \"top\"}]},\n",
       "            {\"showLink\": true, \"linkText\": \"Export to plot.ly\"}\n",
       "        ).then(function () {return Plotly.addFrames('0718072a-c964-46b8-a5f6-54b968e4e46f',[{\"data\": [{\"type\": \"bar\", \"x\": [65, 75, 85, 95, 105, 115, 125, 135, 145, 155, 165, 175, 185, 195, 205, 215, 225, 235, 245, 255, 265, 275, 285, 295, 305, 315, 325, 335, 345, 355, 365, 375, 385, 395, 405, 415, 425, 435, 445, 455, 465, 475, 485, 495, 505, 565], \"y\": [1599000, 210600, 306000, 3838503, 63956617, 138442715, 107293993, 476979039, 480639683, 265018824, 2387348746, 633419846, 174398498, 4855257501, 3587374584, 218629144, 969885714, 5506333801, 273147067, 915579319, 4987884408, 568455300, 257756721, 4204275560, 2081942885, 155592095, 899026055, 1622996015, 550981793, 26363961, 236497239, 400349974, 287220742, 105717225, 97566682, 84775355, 73155636, 10626721, 66477346, 37809162, 20147516, 34051536, 40623968, 22664160, 67243770, 1556320]}], \"name\": \"2013\"}, {\"data\": [{\"type\": \"bar\", \"x\": [85, 95, 105, 115, 125, 135, 145, 155, 165, 175, 185, 195, 205, 215, 225, 235, 245, 255, 265, 275, 285, 295, 305, 315, 325, 335, 345, 355, 365, 375, 385, 395, 405, 415, 425, 435, 445, 455, 465, 475, 485, 495, 515, 535, 575, 645, 655, 665], \"y\": [8688250, 24477050, 61671249, 494544979, 159770949, 494078586, 965915063, 373339838, 4505332507, 530673601, 297964465, 6346495705, 4817883831, 56117550, 1826149190, 6460598544, 338847024, 1753259079, 5467381374, 644559824, 637503948, 6537160423, 2345740847, 230291084, 866345247, 2606227643, 2837102576, 96895700, 592253532, 491766993, 299316692, 198376392, 159305560, 89848700, 198521590, 229951434, 196116840, 87584620, 11239798, 387218316, 41873440, 6046560, 1428920, 9519360, 3277360, 1926000, 1771200, 1963920]}], \"name\": \"2014\"}, {\"data\": [{\"type\": \"bar\", \"x\": [75, 85, 95, 105, 115, 125, 135, 145, 155, 165, 175, 185, 195, 205, 215, 225, 235, 245, 255, 265, 275, 285, 295, 305, 315, 325, 335, 345, 355, 365, 375, 385, 395, 405, 415, 425, 435, 445, 455, 465, 475, 485, 495, 505, 515, 525, 625], \"y\": [931400, 1207400, 27487490, 200605792, 338494993, 126969551, 851128690, 1014815396, 359889634, 5699263073, 560975318, 209302810, 7474159252, 6196538408, 82594650, 1989453427, 8187298942, 528601378, 1181326228, 6226599752, 543449364, 598381652, 6007949334, 2281638317, 296307215, 806383962, 3234124812, 1575505070, 136406240, 452609357, 1355417659, 210434800, 128588820, 73848160, 71570320, 106209030, 259794571, 313252666, 326664161, 181770865, 9254280, 103561659, 72492350, 13264960, 14603920, 12122880, 1695600]}], \"name\": \"2015\"}, {\"data\": [{\"type\": \"bar\", \"x\": [55, 75, 85, 95, 105, 115, 125, 135, 145, 155, 165, 175, 185, 195, 205, 215, 225, 235, 245, 255, 265, 275, 285, 295, 305, 315, 325, 335, 345, 355, 365, 375, 385, 395, 405, 415, 425, 435, 445, 455, 465, 475, 485, 515, 535, 575, 655], \"y\": [6132000, 8595650, 87123640, 122729999, 369736954, 412568032, 146370041, 659878990, 767945622, 539407500, 4221569944, 490231577, 249481924, 6679266635, 4621720359, 52385500, 1490290794, 6796219005, 514908480, 1026767758, 4662482702, 816607503, 352548198, 4444877013, 3528710196, 217677616, 741573083, 3276585837, 1587655353, 349217685, 734060020, 523999955, 557555372, 129560620, 183770880, 198546380, 191725295, 81102770, 304107140, 193131930, 83649512, 1912000, 139753480, 29198960, 1798160, 2080800, 2203760]}], \"name\": \"2016\"}, {\"data\": [{\"type\": \"bar\", \"x\": [85, 95, 105, 115, 125, 135, 145, 155, 165, 175, 185, 195, 205, 225, 235, 245, 255, 265, 275, 285, 295, 305, 315, 325, 335, 345, 355, 365, 375, 385, 395, 405, 415, 425, 435, 445, 455, 465, 475, 495, 505, 545], \"y\": [13380350, 15888300, 106813285, 231727278, 79135775, 714080062, 533224791, 366224886, 3166570141, 481254989, 189562648, 6336022508, 2351238822, 922766592, 3824407715, 669740561, 1117405875, 3073071853, 144797542, 277953110, 3189274334, 3252944786, 195294000, 724474783, 1917346164, 941981820, 65226610, 199280060, 405313810, 249200683, 130051090, 180408300, 394927842, 239556120, 113079339, 118574390, 60514822, 24191160, 41384280, 27728960, 11557200, 4251000]}], \"name\": \"2017\"}]);}).then(function(){Plotly.animate('0718072a-c964-46b8-a5f6-54b968e4e46f');})\n",
       "        });</script>"
      ],
      "text/vnd.plotly.v1+html": [
       "<div id=\"0718072a-c964-46b8-a5f6-54b968e4e46f\" style=\"height: 525px; width: 100%;\" class=\"plotly-graph-div\"></div><script type=\"text/javascript\">require([\"plotly\"], function(Plotly) { window.PLOTLYENV=window.PLOTLYENV || {};window.PLOTLYENV.BASE_URL=\"https://plot.ly\";\n",
       "        Plotly.plot(\n",
       "            '0718072a-c964-46b8-a5f6-54b968e4e46f',\n",
       "            [{\"type\": \"bar\", \"x\": [65, 75, 85, 95, 105, 115, 125, 135, 145, 155, 165, 175, 185, 195, 205, 215, 225, 235, 245, 255, 265, 275, 285, 295, 305, 315, 325, 335, 345, 355, 365, 375, 385, 395, 405, 415, 425, 435, 445, 455, 465, 475, 485, 495, 505, 565], \"y\": [1599000, 210600, 306000, 3838503, 63956617, 138442715, 107293993, 476979039, 480639683, 265018824, 2387348746, 633419846, 174398498, 4855257501, 3587374584, 218629144, 969885714, 5506333801, 273147067, 915579319, 4987884408, 568455300, 257756721, 4204275560, 2081942885, 155592095, 899026055, 1622996015, 550981793, 26363961, 236497239, 400349974, 287220742, 105717225, 97566682, 84775355, 73155636, 10626721, 66477346, 37809162, 20147516, 34051536, 40623968, 22664160, 67243770, 1556320]}],\n",
       "            {\"xaxis\": {\"range\": [0, 700], \"title\": \"Weight\"}, \"yaxis\": {\"title\": \"Volume [Units]\"}, \"hovermode\": \"closest\", \"sliders\": [{\"active\": 0, \"yanchor\": \"top\", \"xanchor\": \"left\", \"currentvalue\": {\"font\": {\"size\": 20}, \"prefix\": \"Year:\", \"visible\": true, \"xanchor\": \"right\"}, \"transition\": {\"duration\": 300, \"easing\": \"cubic-in-out\"}, \"pad\": {\"b\": 10, \"t\": 50}, \"len\": 0.9, \"x\": 0.1, \"y\": 0, \"steps\": [{\"args\": [[\"2013\"], {\"frame\": {\"duration\": 500, \"redraw\": true}, \"mode\": \"immediate\", \"transition\": {\"duration\": 500}}], \"label\": \"2013\", \"method\": \"animate\"}, {\"args\": [[\"2014\"], {\"frame\": {\"duration\": 500, \"redraw\": true}, \"mode\": \"immediate\", \"transition\": {\"duration\": 500}}], \"label\": \"2014\", \"method\": \"animate\"}, {\"args\": [[\"2015\"], {\"frame\": {\"duration\": 500, \"redraw\": true}, \"mode\": \"immediate\", \"transition\": {\"duration\": 500}}], \"label\": \"2015\", \"method\": \"animate\"}, {\"args\": [[\"2016\"], {\"frame\": {\"duration\": 500, \"redraw\": true}, \"mode\": \"immediate\", \"transition\": {\"duration\": 500}}], \"label\": \"2016\", \"method\": \"animate\"}, {\"args\": [[\"2017\"], {\"frame\": {\"duration\": 500, \"redraw\": true}, \"mode\": \"immediate\", \"transition\": {\"duration\": 500}}], \"label\": \"2017\", \"method\": \"animate\"}]}], \"updatemenus\": [{\"buttons\": [{\"args\": [null, {\"frame\": {\"duration\": 5000, \"redraw\": true}, \"fromcurrent\": true, \"transition\": {\"duration\": 300, \"easing\": \"quadratic-in-out\"}}], \"label\": \"Play\", \"method\": \"animate\"}, {\"args\": [[null], {\"frame\": {\"duration\": 0, \"redraw\": true}, \"mode\": \"immediate\", \"transition\": {\"duration\": 0}}], \"label\": \"Pause\", \"method\": \"animate\"}], \"direction\": \"left\", \"pad\": {\"r\": 10, \"t\": 87}, \"showactive\": false, \"type\": \"buttons\", \"x\": 0.1, \"xanchor\": \"right\", \"y\": 0, \"yanchor\": \"top\"}]},\n",
       "            {\"showLink\": true, \"linkText\": \"Export to plot.ly\"}\n",
       "        ).then(function () {return Plotly.addFrames('0718072a-c964-46b8-a5f6-54b968e4e46f',[{\"data\": [{\"type\": \"bar\", \"x\": [65, 75, 85, 95, 105, 115, 125, 135, 145, 155, 165, 175, 185, 195, 205, 215, 225, 235, 245, 255, 265, 275, 285, 295, 305, 315, 325, 335, 345, 355, 365, 375, 385, 395, 405, 415, 425, 435, 445, 455, 465, 475, 485, 495, 505, 565], \"y\": [1599000, 210600, 306000, 3838503, 63956617, 138442715, 107293993, 476979039, 480639683, 265018824, 2387348746, 633419846, 174398498, 4855257501, 3587374584, 218629144, 969885714, 5506333801, 273147067, 915579319, 4987884408, 568455300, 257756721, 4204275560, 2081942885, 155592095, 899026055, 1622996015, 550981793, 26363961, 236497239, 400349974, 287220742, 105717225, 97566682, 84775355, 73155636, 10626721, 66477346, 37809162, 20147516, 34051536, 40623968, 22664160, 67243770, 1556320]}], \"name\": \"2013\"}, {\"data\": [{\"type\": \"bar\", \"x\": [85, 95, 105, 115, 125, 135, 145, 155, 165, 175, 185, 195, 205, 215, 225, 235, 245, 255, 265, 275, 285, 295, 305, 315, 325, 335, 345, 355, 365, 375, 385, 395, 405, 415, 425, 435, 445, 455, 465, 475, 485, 495, 515, 535, 575, 645, 655, 665], \"y\": [8688250, 24477050, 61671249, 494544979, 159770949, 494078586, 965915063, 373339838, 4505332507, 530673601, 297964465, 6346495705, 4817883831, 56117550, 1826149190, 6460598544, 338847024, 1753259079, 5467381374, 644559824, 637503948, 6537160423, 2345740847, 230291084, 866345247, 2606227643, 2837102576, 96895700, 592253532, 491766993, 299316692, 198376392, 159305560, 89848700, 198521590, 229951434, 196116840, 87584620, 11239798, 387218316, 41873440, 6046560, 1428920, 9519360, 3277360, 1926000, 1771200, 1963920]}], \"name\": \"2014\"}, {\"data\": [{\"type\": \"bar\", \"x\": [75, 85, 95, 105, 115, 125, 135, 145, 155, 165, 175, 185, 195, 205, 215, 225, 235, 245, 255, 265, 275, 285, 295, 305, 315, 325, 335, 345, 355, 365, 375, 385, 395, 405, 415, 425, 435, 445, 455, 465, 475, 485, 495, 505, 515, 525, 625], \"y\": [931400, 1207400, 27487490, 200605792, 338494993, 126969551, 851128690, 1014815396, 359889634, 5699263073, 560975318, 209302810, 7474159252, 6196538408, 82594650, 1989453427, 8187298942, 528601378, 1181326228, 6226599752, 543449364, 598381652, 6007949334, 2281638317, 296307215, 806383962, 3234124812, 1575505070, 136406240, 452609357, 1355417659, 210434800, 128588820, 73848160, 71570320, 106209030, 259794571, 313252666, 326664161, 181770865, 9254280, 103561659, 72492350, 13264960, 14603920, 12122880, 1695600]}], \"name\": \"2015\"}, {\"data\": [{\"type\": \"bar\", \"x\": [55, 75, 85, 95, 105, 115, 125, 135, 145, 155, 165, 175, 185, 195, 205, 215, 225, 235, 245, 255, 265, 275, 285, 295, 305, 315, 325, 335, 345, 355, 365, 375, 385, 395, 405, 415, 425, 435, 445, 455, 465, 475, 485, 515, 535, 575, 655], \"y\": [6132000, 8595650, 87123640, 122729999, 369736954, 412568032, 146370041, 659878990, 767945622, 539407500, 4221569944, 490231577, 249481924, 6679266635, 4621720359, 52385500, 1490290794, 6796219005, 514908480, 1026767758, 4662482702, 816607503, 352548198, 4444877013, 3528710196, 217677616, 741573083, 3276585837, 1587655353, 349217685, 734060020, 523999955, 557555372, 129560620, 183770880, 198546380, 191725295, 81102770, 304107140, 193131930, 83649512, 1912000, 139753480, 29198960, 1798160, 2080800, 2203760]}], \"name\": \"2016\"}, {\"data\": [{\"type\": \"bar\", \"x\": [85, 95, 105, 115, 125, 135, 145, 155, 165, 175, 185, 195, 205, 225, 235, 245, 255, 265, 275, 285, 295, 305, 315, 325, 335, 345, 355, 365, 375, 385, 395, 405, 415, 425, 435, 445, 455, 465, 475, 495, 505, 545], \"y\": [13380350, 15888300, 106813285, 231727278, 79135775, 714080062, 533224791, 366224886, 3166570141, 481254989, 189562648, 6336022508, 2351238822, 922766592, 3824407715, 669740561, 1117405875, 3073071853, 144797542, 277953110, 3189274334, 3252944786, 195294000, 724474783, 1917346164, 941981820, 65226610, 199280060, 405313810, 249200683, 130051090, 180408300, 394927842, 239556120, 113079339, 118574390, 60514822, 24191160, 41384280, 27728960, 11557200, 4251000]}], \"name\": \"2017\"}]);}).then(function(){Plotly.animate('0718072a-c964-46b8-a5f6-54b968e4e46f');})\n",
       "        });</script>"
      ]
     },
     "metadata": {},
     "output_type": "display_data"
    }
   ],
   "source": [
    "# Plot COP volume\n",
    "plot_volumes(\"cop_volume\")"
   ]
  },
  {
   "cell_type": "markdown",
   "metadata": {},
   "source": [
    "### What We Care About: Profit"
   ]
  },
  {
   "cell_type": "markdown",
   "metadata": {},
   "source": [
    "The point is to find the parameters that give the optimal profit. There are 2 independent variables: the initial weight of the animal and the number of months is kept - this is assuming a fixed number of kilograms per day increase. "
   ]
  },
  {
   "cell_type": "markdown",
   "metadata": {},
   "source": [
    "Let:\n",
    "\n",
    "1. $p_i$ be the purchase price.\n",
    "2. $p_f$ be the selling price.\n",
    "3. $\\overline{kg}_i$ be the average kilograms per animal on purchase.\n",
    "4. $\\overline{kg}_f$ be the average kilograms per animal when selling.\n",
    "5. $\\Delta t$ be the time lapse in months.\n",
    "6. $n$ be the number of animals bought.\n",
    "\n",
    "Then the $ROI$ will be:\n",
    "\n",
    "$$ROI = \\frac{n\\cdot (p_f\\cdot \\overline{kg}_f-p_i\\cdot \\overline{kg}_i)}{n\\cdot p_i\\cdot \\overline{kg}_i} \n",
    "= \\frac{p_f\\cdot \\overline{kg}_f}{p_i\\cdot \\overline{kg}_i}-1$$\n",
    "\n",
    "Now, this means that by the end of the operation the capital growth factor will be:\n",
    "\n",
    "$$CGF = 1 + ROI = \\frac{p_f\\cdot \\overline{kg}_f}{p_i\\cdot \\overline{kg}_i}$$\n",
    "\n",
    "Now, given that $\\overline{kg}_f$ depends on the purchase weight and the number of months the livestock is fed, we have:\n",
    "\n",
    "$$ROI = \\frac{p_f\\cdot (\\overline{kg}_i+ \\dot{\\overline{kg}}\\cdot \\Delta t)}{p_i\\cdot \\overline{kg}_i}-1 = \\frac{p_f}{p_i}\\cdot \\left(\\frac{\\dot{\\overline{kg}}\\cdot \\Delta t}{\\overline{kg}_i} +1\\right)-1$$\n",
    "\n",
    "The former equation shows the $ROI$ of the operation, where: $\\dot{\\overline{kg}}$ is the average weight gain per month per unit. However, this equation depends on the time lapse - number of months - of the operation. In order to have a standard measure lets look at the annualized $ROI$.\n",
    "\n",
    "$$CGF_{ANNUALIZED} = \\left[\\frac{p_f}{p_i}\\cdot \\left(\\frac{\\dot{\\overline{kg}}\\cdot \\Delta t}{\\overline{kg}_i} +1\\right)\\right]^{\\left(\\frac{12}{\\Delta t}\\right)}$$"
   ]
  },
  {
   "cell_type": "code",
   "execution_count": 147,
   "metadata": {
    "collapsed": true
   },
   "outputs": [],
   "source": [
    "# Make a dataframe with index of date in the format YYYY-MM and the columns the different weight bins.\n",
    "# The elements of the matrix will correspond to the price of the livestock unit for that specific time period.\n",
    "def get_price_dataframe(df, livestock_types):\n",
    "    # Filter condition\n",
    "    filter_condition = False\n",
    "    for livestock_type in livestock_types:\n",
    "        filter_condition = filter_condition | (df[\"type\"] == livestock_type)\n",
    "    # Filtered dataframe\n",
    "    df = df[filter_condition]\n",
    "    # Select only relevant columns\n",
    "    df = df[[ \"year\", \"month\", \"week\", \"weight\", \"quantity\", \"price_avg\"]]\n",
    "    # Make price_avg_numerator \n",
    "    df[\"price_avg_numerator\"] = df[\"quantity\"]*df[\"price_avg\"] \n",
    "    # Make bin\n",
    "    bin_size = 10\n",
    "    df[\"bin\"] = df[\"weight\"].apply(lambda weight: int(bin_size*math.ceil(weight/bin_size) - (bin_size/2)))\n",
    "    # Grouped by year, month and bin\n",
    "    df_grouped = df.groupby([\"year\", \"month\", \"bin\"])\n",
    "    # Prices by year, month and weight bin\n",
    "    df_prices_by_year_month_bin = pd.DataFrame([])\n",
    "    df_prices_by_year_month_bin[\"price\"] = (df_grouped[\"price_avg_numerator\"].sum()/df_grouped[\"quantity\"].sum()).apply(lambda x: round(x))\n",
    "    # Output dataframe\n",
    "    return df_prices_by_year_month_bin"
   ]
  },
  {
   "cell_type": "code",
   "execution_count": 148,
   "metadata": {},
   "outputs": [],
   "source": [
    "# Get df prices\n",
    "df_prices = get_price_dataframe(df, [\"ML\", \"MC\"])\n",
    "# Define weight support\n",
    "weight_support = {\"min\": 150, \"max\": 400, \"bin_size\": 10}"
   ]
  },
  {
   "cell_type": "code",
   "execution_count": 149,
   "metadata": {},
   "outputs": [
    {
     "name": "stdout",
     "output_type": "stream",
     "text": [
      "Greatest minimum: 115\n",
      "Least maximum: 395\n"
     ]
    }
   ],
   "source": [
    "# Import scipy and CubicSpline for interpolation\n",
    "import scipy\n",
    "from scipy.interpolate import CubicSpline\n",
    "# Initialize variables\n",
    "greatest_min = None\n",
    "least_max = None\n",
    "weight_bin_size = 10\n",
    "# Get years\n",
    "years = df_prices.index.levels[0]\n",
    "# Loop through each year\n",
    "for year in years:\n",
    "    # Select months of the year\n",
    "    months = sorted(list(set(df_prices.loc[(year)].index.get_level_values(0))))\n",
    "    # Loop through each month available for the year\n",
    "    for month in months:\n",
    "        # Get x (weight bins) and y (prices) variables for the corresponding (year, month) tuple \n",
    "        x = list(df_prices.loc[(year,month)][\"price\"].index)\n",
    "        y = list(df_prices.loc[(year,month)][\"price\"].values)\n",
    "        # If greatest_min and least_max are not initialized. Initialize them.\n",
    "        if greatest_min == None: greatest_min = min(x)\n",
    "        if least_max == None: least_max = max(x)\n",
    "        # If greatest_min and least_max are initialized. Update them.\n",
    "        if min(x) > greatest_min: greatest_min = min(x)\n",
    "        if max(x) < least_max: least_max = max(x)\n",
    "# On done print greatest_min and least_max\n",
    "print(\"Greatest minimum:\", greatest_min)\n",
    "print(\"Least maximum:\", least_max)\n",
    "# Create ary from greatest_min to least_max in bin_size steps\n",
    "weight_support_bins = range(greatest_min, least_max + weight_bin_size, weight_bin_size)"
   ]
  },
  {
   "cell_type": "code",
   "execution_count": 150,
   "metadata": {},
   "outputs": [
    {
     "name": "stderr",
     "output_type": "stream",
     "text": [
      "/Users/pedroatencio/anaconda/envs/py361/lib/python3.6/site-packages/ipykernel_launcher.py:8: PerformanceWarning:\n",
      "\n",
      "indexing past lexsort depth may impact performance.\n",
      "\n",
      "/Users/pedroatencio/anaconda/envs/py361/lib/python3.6/site-packages/ipykernel_launcher.py:9: PerformanceWarning:\n",
      "\n",
      "indexing past lexsort depth may impact performance.\n",
      "\n"
     ]
    }
   ],
   "source": [
    "# Fill in the gaps for the weights in weight_support_bins\n",
    "for year in years:\n",
    "    # Select months of the year\n",
    "    months = sorted(list(set(df_prices.loc[(year)].index.get_level_values(0))))\n",
    "    # Loop through each month available for the year\n",
    "    for month in months:\n",
    "        # Get x (weight bins) and y (prices) variables for the corresponding (year, month) tuple \n",
    "        x = list(df_prices.loc[(year,month)][\"price\"].index)\n",
    "        y = list(df_prices.loc[(year,month)][\"price\"].values)\n",
    "        missing_bins = sorted(list(set(weight_support_bins)-set(x)))\n",
    "        # Create spline interpolation and calculate for the weight_support_bins\n",
    "        cs = CubicSpline(x, y)\n",
    "        # Fill in the gaps\n",
    "        for w in missing_bins:\n",
    "            df_prices.loc[(year,month,w)] = int(cs(w))\n",
    "# Sort df_prices dataframe\n",
    "df_prices.sort_index(inplace=True)"
   ]
  },
  {
   "cell_type": "code",
   "execution_count": 158,
   "metadata": {},
   "outputs": [
    {
     "data": {
      "text/html": [
       "<div>\n",
       "<style>\n",
       "    .dataframe thead tr:only-child th {\n",
       "        text-align: right;\n",
       "    }\n",
       "\n",
       "    .dataframe thead th {\n",
       "        text-align: left;\n",
       "    }\n",
       "\n",
       "    .dataframe tbody tr th {\n",
       "        vertical-align: top;\n",
       "    }\n",
       "</style>\n",
       "<table border=\"1\" class=\"dataframe\">\n",
       "  <thead>\n",
       "    <tr style=\"text-align: right;\">\n",
       "      <th></th>\n",
       "      <th></th>\n",
       "      <th></th>\n",
       "      <th>price</th>\n",
       "    </tr>\n",
       "    <tr>\n",
       "      <th>year</th>\n",
       "      <th>month</th>\n",
       "      <th>bin</th>\n",
       "      <th></th>\n",
       "    </tr>\n",
       "  </thead>\n",
       "  <tbody>\n",
       "    <tr>\n",
       "      <th rowspan=\"10\" valign=\"top\">2013</th>\n",
       "      <th rowspan=\"10\" valign=\"top\">1</th>\n",
       "      <th>115</th>\n",
       "      <td>2012</td>\n",
       "    </tr>\n",
       "    <tr>\n",
       "      <th>125</th>\n",
       "      <td>2650</td>\n",
       "    </tr>\n",
       "    <tr>\n",
       "      <th>135</th>\n",
       "      <td>2825</td>\n",
       "    </tr>\n",
       "    <tr>\n",
       "      <th>145</th>\n",
       "      <td>2497</td>\n",
       "    </tr>\n",
       "    <tr>\n",
       "      <th>155</th>\n",
       "      <td>2330</td>\n",
       "    </tr>\n",
       "    <tr>\n",
       "      <th>165</th>\n",
       "      <td>2546</td>\n",
       "    </tr>\n",
       "    <tr>\n",
       "      <th>175</th>\n",
       "      <td>2950</td>\n",
       "    </tr>\n",
       "    <tr>\n",
       "      <th>185</th>\n",
       "      <td>2753</td>\n",
       "    </tr>\n",
       "    <tr>\n",
       "      <th>195</th>\n",
       "      <td>2532</td>\n",
       "    </tr>\n",
       "    <tr>\n",
       "      <th>205</th>\n",
       "      <td>2845</td>\n",
       "    </tr>\n",
       "  </tbody>\n",
       "</table>\n",
       "</div>"
      ],
      "text/plain": [
       "                price\n",
       "year month bin       \n",
       "2013 1     115   2012\n",
       "           125   2650\n",
       "           135   2825\n",
       "           145   2497\n",
       "           155   2330\n",
       "           165   2546\n",
       "           175   2950\n",
       "           185   2753\n",
       "           195   2532\n",
       "           205   2845"
      ]
     },
     "execution_count": 158,
     "metadata": {},
     "output_type": "execute_result"
    }
   ],
   "source": [
    "df_prices.head(10)"
   ]
  },
  {
   "cell_type": "code",
   "execution_count": 151,
   "metadata": {
    "collapsed": true
   },
   "outputs": [],
   "source": [
    "# Get df_prices_support i.e. those for which weight is in the range 150 - 300 kg.\n",
    "df_prices_support = df_prices[(df_prices.index.get_level_values(2) >= min(weight_support_bins)) & (df_prices.index.get_level_values(2) <= max(weight_support_bins))]"
   ]
  },
  {
   "cell_type": "code",
   "execution_count": 152,
   "metadata": {},
   "outputs": [
    {
     "name": "stderr",
     "output_type": "stream",
     "text": [
      "/Users/pedroatencio/anaconda/envs/py361/lib/python3.6/site-packages/ipykernel_launcher.py:2: SettingWithCopyWarning:\n",
      "\n",
      "\n",
      "A value is trying to be set on a copy of a slice from a DataFrame\n",
      "\n",
      "See the caveats in the documentation: http://pandas.pydata.org/pandas-docs/stable/indexing.html#indexing-view-versus-copy\n",
      "\n"
     ]
    }
   ],
   "source": [
    "# Drop the month of September 2017 because data is not complete\n",
    "df_prices_support.drop((2017,9), inplace=True)"
   ]
  },
  {
   "cell_type": "code",
   "execution_count": 159,
   "metadata": {},
   "outputs": [
    {
     "name": "stderr",
     "output_type": "stream",
     "text": [
      "/Users/pedroatencio/anaconda/envs/py361/lib/python3.6/site-packages/ipykernel_launcher.py:7: SettingWithCopyWarning:\n",
      "\n",
      "\n",
      "A value is trying to be set on a copy of a slice from a DataFrame.\n",
      "Try using .loc[row_indexer,col_indexer] = value instead\n",
      "\n",
      "See the caveats in the documentation: http://pandas.pydata.org/pandas-docs/stable/indexing.html#indexing-view-versus-copy\n",
      "\n",
      "/Users/pedroatencio/anaconda/envs/py361/lib/python3.6/site-packages/pandas/core/indexing.py:517: SettingWithCopyWarning:\n",
      "\n",
      "\n",
      "A value is trying to be set on a copy of a slice from a DataFrame.\n",
      "Try using .loc[row_indexer,col_indexer] = value instead\n",
      "\n",
      "See the caveats in the documentation: http://pandas.pydata.org/pandas-docs/stable/indexing.html#indexing-view-versus-copy\n",
      "\n"
     ]
    },
    {
     "ename": "KeyboardInterrupt",
     "evalue": "",
     "output_type": "error",
     "traceback": [
      "\u001b[0;31m---------------------------------------------------------------------------\u001b[0m",
      "\u001b[0;31mKeyboardInterrupt\u001b[0m                         Traceback (most recent call last)",
      "\u001b[0;32m<ipython-input-159-5dc2259edaf2>\u001b[0m in \u001b[0;36m<module>\u001b[0;34m()\u001b[0m\n\u001b[1;32m     34\u001b[0m         \u001b[0;32mif\u001b[0m \u001b[0;34m(\u001b[0m\u001b[0myear_f\u001b[0m\u001b[0;34m,\u001b[0m \u001b[0mmonth_f\u001b[0m\u001b[0;34m,\u001b[0m \u001b[0mweight_bin_f\u001b[0m\u001b[0;34m)\u001b[0m \u001b[0;32min\u001b[0m \u001b[0mindexes_df_roi_annualized\u001b[0m\u001b[0;34m:\u001b[0m\u001b[0;34m\u001b[0m\u001b[0m\n\u001b[1;32m     35\u001b[0m             \u001b[0;31m# Get final price\u001b[0m\u001b[0;34m\u001b[0m\u001b[0;34m\u001b[0m\u001b[0m\n\u001b[0;32m---> 36\u001b[0;31m             \u001b[0mprice_f\u001b[0m \u001b[0;34m=\u001b[0m \u001b[0mdf_roi_annualized\u001b[0m\u001b[0;34m.\u001b[0m\u001b[0mloc\u001b[0m\u001b[0;34m[\u001b[0m\u001b[0;34m(\u001b[0m\u001b[0myear_f\u001b[0m\u001b[0;34m,\u001b[0m \u001b[0mmonth_f\u001b[0m\u001b[0;34m,\u001b[0m \u001b[0mweight_bin_f\u001b[0m\u001b[0;34m)\u001b[0m\u001b[0;34m,\u001b[0m \u001b[0;34m\"price\"\u001b[0m\u001b[0;34m]\u001b[0m\u001b[0;34m\u001b[0m\u001b[0m\n\u001b[0m\u001b[1;32m     37\u001b[0m             \u001b[0;31m# Calculate roi_annualized for the i-th row and column: delta_t_months\u001b[0m\u001b[0;34m\u001b[0m\u001b[0;34m\u001b[0m\u001b[0m\n\u001b[1;32m     38\u001b[0m             \u001b[0mroi_annualized_i_j\u001b[0m \u001b[0;34m=\u001b[0m \u001b[0;34m(\u001b[0m\u001b[0;34m(\u001b[0m\u001b[0mprice_f\u001b[0m\u001b[0;34m*\u001b[0m\u001b[0mweight_bin_f\u001b[0m\u001b[0;34m)\u001b[0m\u001b[0;34m/\u001b[0m\u001b[0;34m(\u001b[0m\u001b[0mprice_i\u001b[0m\u001b[0;34m*\u001b[0m\u001b[0mweight_bin_i\u001b[0m\u001b[0;34m)\u001b[0m\u001b[0;34m)\u001b[0m\u001b[0;34m**\u001b[0m\u001b[0;34m(\u001b[0m\u001b[0;36m12\u001b[0m\u001b[0;34m/\u001b[0m\u001b[0mdelta_t_months\u001b[0m\u001b[0;34m)\u001b[0m\u001b[0;34m\u001b[0m\u001b[0m\n",
      "\u001b[0;32m~/anaconda/envs/py361/lib/python3.6/site-packages/pandas/core/indexing.py\u001b[0m in \u001b[0;36m__getitem__\u001b[0;34m(self, key)\u001b[0m\n\u001b[1;32m   1323\u001b[0m             \u001b[0;32mexcept\u001b[0m \u001b[0;34m(\u001b[0m\u001b[0mKeyError\u001b[0m\u001b[0;34m,\u001b[0m \u001b[0mIndexError\u001b[0m\u001b[0;34m)\u001b[0m\u001b[0;34m:\u001b[0m\u001b[0;34m\u001b[0m\u001b[0m\n\u001b[1;32m   1324\u001b[0m                 \u001b[0;32mpass\u001b[0m\u001b[0;34m\u001b[0m\u001b[0m\n\u001b[0;32m-> 1325\u001b[0;31m             \u001b[0;32mreturn\u001b[0m \u001b[0mself\u001b[0m\u001b[0;34m.\u001b[0m\u001b[0m_getitem_tuple\u001b[0m\u001b[0;34m(\u001b[0m\u001b[0mkey\u001b[0m\u001b[0;34m)\u001b[0m\u001b[0;34m\u001b[0m\u001b[0m\n\u001b[0m\u001b[1;32m   1326\u001b[0m         \u001b[0;32melse\u001b[0m\u001b[0;34m:\u001b[0m\u001b[0;34m\u001b[0m\u001b[0m\n\u001b[1;32m   1327\u001b[0m             \u001b[0mkey\u001b[0m \u001b[0;34m=\u001b[0m \u001b[0mcom\u001b[0m\u001b[0;34m.\u001b[0m\u001b[0m_apply_if_callable\u001b[0m\u001b[0;34m(\u001b[0m\u001b[0mkey\u001b[0m\u001b[0;34m,\u001b[0m \u001b[0mself\u001b[0m\u001b[0;34m.\u001b[0m\u001b[0mobj\u001b[0m\u001b[0;34m)\u001b[0m\u001b[0;34m\u001b[0m\u001b[0m\n",
      "\u001b[0;32m~/anaconda/envs/py361/lib/python3.6/site-packages/pandas/core/indexing.py\u001b[0m in \u001b[0;36m_getitem_tuple\u001b[0;34m(self, tup)\u001b[0m\n\u001b[1;32m    834\u001b[0m     \u001b[0;32mdef\u001b[0m \u001b[0m_getitem_tuple\u001b[0m\u001b[0;34m(\u001b[0m\u001b[0mself\u001b[0m\u001b[0;34m,\u001b[0m \u001b[0mtup\u001b[0m\u001b[0;34m)\u001b[0m\u001b[0;34m:\u001b[0m\u001b[0;34m\u001b[0m\u001b[0m\n\u001b[1;32m    835\u001b[0m         \u001b[0;32mtry\u001b[0m\u001b[0;34m:\u001b[0m\u001b[0;34m\u001b[0m\u001b[0m\n\u001b[0;32m--> 836\u001b[0;31m             \u001b[0;32mreturn\u001b[0m \u001b[0mself\u001b[0m\u001b[0;34m.\u001b[0m\u001b[0m_getitem_lowerdim\u001b[0m\u001b[0;34m(\u001b[0m\u001b[0mtup\u001b[0m\u001b[0;34m)\u001b[0m\u001b[0;34m\u001b[0m\u001b[0m\n\u001b[0m\u001b[1;32m    837\u001b[0m         \u001b[0;32mexcept\u001b[0m \u001b[0mIndexingError\u001b[0m\u001b[0;34m:\u001b[0m\u001b[0;34m\u001b[0m\u001b[0m\n\u001b[1;32m    838\u001b[0m             \u001b[0;32mpass\u001b[0m\u001b[0;34m\u001b[0m\u001b[0m\n",
      "\u001b[0;32m~/anaconda/envs/py361/lib/python3.6/site-packages/pandas/core/indexing.py\u001b[0m in \u001b[0;36m_getitem_lowerdim\u001b[0;34m(self, tup)\u001b[0m\n\u001b[1;32m    946\u001b[0m         \u001b[0;31m# we may have a nested tuples indexer here\u001b[0m\u001b[0;34m\u001b[0m\u001b[0;34m\u001b[0m\u001b[0m\n\u001b[1;32m    947\u001b[0m         \u001b[0;32mif\u001b[0m \u001b[0mself\u001b[0m\u001b[0;34m.\u001b[0m\u001b[0m_is_nested_tuple_indexer\u001b[0m\u001b[0;34m(\u001b[0m\u001b[0mtup\u001b[0m\u001b[0;34m)\u001b[0m\u001b[0;34m:\u001b[0m\u001b[0;34m\u001b[0m\u001b[0m\n\u001b[0;32m--> 948\u001b[0;31m             \u001b[0;32mreturn\u001b[0m \u001b[0mself\u001b[0m\u001b[0;34m.\u001b[0m\u001b[0m_getitem_nested_tuple\u001b[0m\u001b[0;34m(\u001b[0m\u001b[0mtup\u001b[0m\u001b[0;34m)\u001b[0m\u001b[0;34m\u001b[0m\u001b[0m\n\u001b[0m\u001b[1;32m    949\u001b[0m \u001b[0;34m\u001b[0m\u001b[0m\n\u001b[1;32m    950\u001b[0m         \u001b[0;31m# we maybe be using a tuple to represent multiple dimensions here\u001b[0m\u001b[0;34m\u001b[0m\u001b[0;34m\u001b[0m\u001b[0m\n",
      "\u001b[0;32m~/anaconda/envs/py361/lib/python3.6/site-packages/pandas/core/indexing.py\u001b[0m in \u001b[0;36m_getitem_nested_tuple\u001b[0;34m(self, tup)\u001b[0m\n\u001b[1;32m   1021\u001b[0m \u001b[0;34m\u001b[0m\u001b[0m\n\u001b[1;32m   1022\u001b[0m             \u001b[0mcurrent_ndim\u001b[0m \u001b[0;34m=\u001b[0m \u001b[0mobj\u001b[0m\u001b[0;34m.\u001b[0m\u001b[0mndim\u001b[0m\u001b[0;34m\u001b[0m\u001b[0m\n\u001b[0;32m-> 1023\u001b[0;31m             \u001b[0mobj\u001b[0m \u001b[0;34m=\u001b[0m \u001b[0mgetattr\u001b[0m\u001b[0;34m(\u001b[0m\u001b[0mobj\u001b[0m\u001b[0;34m,\u001b[0m \u001b[0mself\u001b[0m\u001b[0;34m.\u001b[0m\u001b[0mname\u001b[0m\u001b[0;34m)\u001b[0m\u001b[0;34m.\u001b[0m\u001b[0m_getitem_axis\u001b[0m\u001b[0;34m(\u001b[0m\u001b[0mkey\u001b[0m\u001b[0;34m,\u001b[0m \u001b[0maxis\u001b[0m\u001b[0;34m=\u001b[0m\u001b[0maxis\u001b[0m\u001b[0;34m)\u001b[0m\u001b[0;34m\u001b[0m\u001b[0m\n\u001b[0m\u001b[1;32m   1024\u001b[0m             \u001b[0maxis\u001b[0m \u001b[0;34m+=\u001b[0m \u001b[0;36m1\u001b[0m\u001b[0;34m\u001b[0m\u001b[0m\n\u001b[1;32m   1025\u001b[0m \u001b[0;34m\u001b[0m\u001b[0m\n",
      "\u001b[0;32m~/anaconda/envs/py361/lib/python3.6/site-packages/pandas/core/indexing.py\u001b[0m in \u001b[0;36m_getitem_axis\u001b[0;34m(self, key, axis)\u001b[0m\n\u001b[1;32m   1550\u001b[0m         \u001b[0;31m# fall thru to straight lookup\u001b[0m\u001b[0;34m\u001b[0m\u001b[0;34m\u001b[0m\u001b[0m\n\u001b[1;32m   1551\u001b[0m         \u001b[0mself\u001b[0m\u001b[0;34m.\u001b[0m\u001b[0m_has_valid_type\u001b[0m\u001b[0;34m(\u001b[0m\u001b[0mkey\u001b[0m\u001b[0;34m,\u001b[0m \u001b[0maxis\u001b[0m\u001b[0;34m)\u001b[0m\u001b[0;34m\u001b[0m\u001b[0m\n\u001b[0;32m-> 1552\u001b[0;31m         \u001b[0;32mreturn\u001b[0m \u001b[0mself\u001b[0m\u001b[0;34m.\u001b[0m\u001b[0m_get_label\u001b[0m\u001b[0;34m(\u001b[0m\u001b[0mkey\u001b[0m\u001b[0;34m,\u001b[0m \u001b[0maxis\u001b[0m\u001b[0;34m=\u001b[0m\u001b[0maxis\u001b[0m\u001b[0;34m)\u001b[0m\u001b[0;34m\u001b[0m\u001b[0m\n\u001b[0m\u001b[1;32m   1553\u001b[0m \u001b[0;34m\u001b[0m\u001b[0m\n\u001b[1;32m   1554\u001b[0m \u001b[0;34m\u001b[0m\u001b[0m\n",
      "\u001b[0;32m~/anaconda/envs/py361/lib/python3.6/site-packages/pandas/core/indexing.py\u001b[0m in \u001b[0;36m_get_label\u001b[0;34m(self, label, axis)\u001b[0m\n\u001b[1;32m    134\u001b[0m             \u001b[0;32mraise\u001b[0m \u001b[0mIndexingError\u001b[0m\u001b[0;34m(\u001b[0m\u001b[0;34m'no slices here, handle elsewhere'\u001b[0m\u001b[0;34m)\u001b[0m\u001b[0;34m\u001b[0m\u001b[0m\n\u001b[1;32m    135\u001b[0m \u001b[0;34m\u001b[0m\u001b[0m\n\u001b[0;32m--> 136\u001b[0;31m         \u001b[0;32mreturn\u001b[0m \u001b[0mself\u001b[0m\u001b[0;34m.\u001b[0m\u001b[0mobj\u001b[0m\u001b[0;34m.\u001b[0m\u001b[0m_xs\u001b[0m\u001b[0;34m(\u001b[0m\u001b[0mlabel\u001b[0m\u001b[0;34m,\u001b[0m \u001b[0maxis\u001b[0m\u001b[0;34m=\u001b[0m\u001b[0maxis\u001b[0m\u001b[0;34m)\u001b[0m\u001b[0;34m\u001b[0m\u001b[0m\n\u001b[0m\u001b[1;32m    137\u001b[0m \u001b[0;34m\u001b[0m\u001b[0m\n\u001b[1;32m    138\u001b[0m     \u001b[0;32mdef\u001b[0m \u001b[0m_get_loc\u001b[0m\u001b[0;34m(\u001b[0m\u001b[0mself\u001b[0m\u001b[0;34m,\u001b[0m \u001b[0mkey\u001b[0m\u001b[0;34m,\u001b[0m \u001b[0maxis\u001b[0m\u001b[0;34m=\u001b[0m\u001b[0;36m0\u001b[0m\u001b[0;34m)\u001b[0m\u001b[0;34m:\u001b[0m\u001b[0;34m\u001b[0m\u001b[0m\n",
      "\u001b[0;32m~/anaconda/envs/py361/lib/python3.6/site-packages/pandas/core/generic.py\u001b[0m in \u001b[0;36mxs\u001b[0;34m(self, key, axis, level, drop_level)\u001b[0m\n\u001b[1;32m   2055\u001b[0m             result = self._constructor_sliced(\n\u001b[1;32m   2056\u001b[0m                 \u001b[0mnew_values\u001b[0m\u001b[0;34m,\u001b[0m \u001b[0mindex\u001b[0m\u001b[0;34m=\u001b[0m\u001b[0mself\u001b[0m\u001b[0;34m.\u001b[0m\u001b[0mcolumns\u001b[0m\u001b[0;34m,\u001b[0m\u001b[0;34m\u001b[0m\u001b[0m\n\u001b[0;32m-> 2057\u001b[0;31m                 name=self.index[loc], dtype=new_values.dtype)\n\u001b[0m\u001b[1;32m   2058\u001b[0m \u001b[0;34m\u001b[0m\u001b[0m\n\u001b[1;32m   2059\u001b[0m         \u001b[0;32melse\u001b[0m\u001b[0;34m:\u001b[0m\u001b[0;34m\u001b[0m\u001b[0m\n",
      "\u001b[0;32m~/anaconda/envs/py361/lib/python3.6/site-packages/pandas/core/series.py\u001b[0m in \u001b[0;36m__init__\u001b[0;34m(self, data, index, dtype, name, copy, fastpath)\u001b[0m\n\u001b[1;32m    246\u001b[0m             \u001b[0;32melse\u001b[0m\u001b[0;34m:\u001b[0m\u001b[0;34m\u001b[0m\u001b[0m\n\u001b[1;32m    247\u001b[0m                 data = _sanitize_array(data, index, dtype, copy,\n\u001b[0;32m--> 248\u001b[0;31m                                        raise_cast_failure=True)\n\u001b[0m\u001b[1;32m    249\u001b[0m \u001b[0;34m\u001b[0m\u001b[0m\n\u001b[1;32m    250\u001b[0m                 \u001b[0mdata\u001b[0m \u001b[0;34m=\u001b[0m \u001b[0mSingleBlockManager\u001b[0m\u001b[0;34m(\u001b[0m\u001b[0mdata\u001b[0m\u001b[0;34m,\u001b[0m \u001b[0mindex\u001b[0m\u001b[0;34m,\u001b[0m \u001b[0mfastpath\u001b[0m\u001b[0;34m=\u001b[0m\u001b[0;32mTrue\u001b[0m\u001b[0;34m)\u001b[0m\u001b[0;34m\u001b[0m\u001b[0m\n",
      "\u001b[0;32m~/anaconda/envs/py361/lib/python3.6/site-packages/pandas/core/series.py\u001b[0m in \u001b[0;36m_sanitize_array\u001b[0;34m(data, index, dtype, copy, raise_cast_failure)\u001b[0m\n\u001b[1;32m   2899\u001b[0m \u001b[0;34m\u001b[0m\u001b[0m\n\u001b[1;32m   2900\u001b[0m     \u001b[0;32mif\u001b[0m \u001b[0mdtype\u001b[0m \u001b[0;32mis\u001b[0m \u001b[0;32mnot\u001b[0m \u001b[0;32mNone\u001b[0m\u001b[0;34m:\u001b[0m\u001b[0;34m\u001b[0m\u001b[0m\n\u001b[0;32m-> 2901\u001b[0;31m         \u001b[0mdtype\u001b[0m \u001b[0;34m=\u001b[0m \u001b[0mpandas_dtype\u001b[0m\u001b[0;34m(\u001b[0m\u001b[0mdtype\u001b[0m\u001b[0;34m)\u001b[0m\u001b[0;34m\u001b[0m\u001b[0m\n\u001b[0m\u001b[1;32m   2902\u001b[0m \u001b[0;34m\u001b[0m\u001b[0m\n\u001b[1;32m   2903\u001b[0m     \u001b[0;32mif\u001b[0m \u001b[0misinstance\u001b[0m\u001b[0;34m(\u001b[0m\u001b[0mdata\u001b[0m\u001b[0;34m,\u001b[0m \u001b[0mma\u001b[0m\u001b[0;34m.\u001b[0m\u001b[0mMaskedArray\u001b[0m\u001b[0;34m)\u001b[0m\u001b[0;34m:\u001b[0m\u001b[0;34m\u001b[0m\u001b[0m\n",
      "\u001b[0;32m~/anaconda/envs/py361/lib/python3.6/site-packages/pandas/core/dtypes/common.py\u001b[0m in \u001b[0;36mpandas_dtype\u001b[0;34m(dtype)\u001b[0m\n\u001b[1;32m   1867\u001b[0m     \u001b[0;32melif\u001b[0m \u001b[0misinstance\u001b[0m\u001b[0;34m(\u001b[0m\u001b[0mdtype\u001b[0m\u001b[0;34m,\u001b[0m \u001b[0mPeriodDtype\u001b[0m\u001b[0;34m)\u001b[0m\u001b[0;34m:\u001b[0m\u001b[0;34m\u001b[0m\u001b[0m\n\u001b[1;32m   1868\u001b[0m         \u001b[0;32mreturn\u001b[0m \u001b[0mdtype\u001b[0m\u001b[0;34m\u001b[0m\u001b[0m\n\u001b[0;32m-> 1869\u001b[0;31m     \u001b[0;32melif\u001b[0m \u001b[0misinstance\u001b[0m\u001b[0;34m(\u001b[0m\u001b[0mdtype\u001b[0m\u001b[0;34m,\u001b[0m \u001b[0mCategoricalDtype\u001b[0m\u001b[0;34m)\u001b[0m\u001b[0;34m:\u001b[0m\u001b[0;34m\u001b[0m\u001b[0m\n\u001b[0m\u001b[1;32m   1870\u001b[0m         \u001b[0;32mreturn\u001b[0m \u001b[0mdtype\u001b[0m\u001b[0;34m\u001b[0m\u001b[0m\n\u001b[1;32m   1871\u001b[0m     \u001b[0;32melif\u001b[0m \u001b[0misinstance\u001b[0m\u001b[0;34m(\u001b[0m\u001b[0mdtype\u001b[0m\u001b[0;34m,\u001b[0m \u001b[0mIntervalDtype\u001b[0m\u001b[0;34m)\u001b[0m\u001b[0;34m:\u001b[0m\u001b[0;34m\u001b[0m\u001b[0m\n",
      "\u001b[0;31mKeyboardInterrupt\u001b[0m: "
     ]
    }
   ],
   "source": [
    "# Define dataframe\n",
    "df_roi_annualized = pd.DataFrame.copy(df_prices_support)\n",
    "# Set variables for ROI calculations\n",
    "weight_gain_per_month = 20 # Set to 20 kg per month. It will be a multiple of 10 and will jump 2 bins/month \n",
    "len_df_roi_annualized = len(df_roi_annualized)\n",
    "# Add columns for the twelve months. Initialize them with value: NaN\n",
    "for i in range(12): df_roi_annualized[\"month_{0}\".format(i+1)] = math.nan\n",
    "\n",
    "# Indexes of dataframe\n",
    "indexes_df_roi_annualized = df_roi_annualized.index\n",
    "\n",
    "# Loop through each row of the df_roi_annualized dataframe to populate it\n",
    "for i in range(len_df_roi_annualized):\n",
    "    # Get i-th row\n",
    "    row_i = df_roi_annualized.iloc[i]\n",
    "    # Get year, month and initial weight_bin\n",
    "    year_i, month_i, weight_bin_i = row_i.name\n",
    "    # Get the initial price\n",
    "    price_i = row_i[\"price\"] \n",
    "    # Calculate each ROI_annualized for the months duration for that row \n",
    "    for j in range(12):\n",
    "        # Months duration\n",
    "        delta_t_months = j+1\n",
    "        # Final weight bin obtained in the months duration\n",
    "        weight_bin_f = weight_bin_i + weight_gain_per_month * delta_t_months\n",
    "        # Final date after the months duration\n",
    "        year_f = year_i\n",
    "        month_f = month_i + delta_t_months\n",
    "        if month_f > 12: # If the month goes overboard to the next year => Recalculate year and month\n",
    "            year_f = year_i + 1\n",
    "            month_f = month_f - 12\n",
    "        # Check that the corresponding final index exists in the dataframe, i.e. that\n",
    "        # the price exists for the final values of year, month and weight\n",
    "        if (year_f, month_f, weight_bin_f) in indexes_df_roi_annualized:\n",
    "            # Get final price\n",
    "            price_f = df_roi_annualized.loc[(year_f, month_f, weight_bin_f), \"price\"]\n",
    "            # Calculate roi_annualized for the i-th row and column: delta_t_months\n",
    "            roi_annualized_i_j = ((price_f*weight_bin_f)/(price_i*weight_bin_i))**(12/delta_t_months)\n",
    "            # Set roi_annualized for the i-th row and column: delta_t_months into df_roi_annualized dataframe if is more than 20%\n",
    "            df_roi_annualized.loc[(year_i,month_i,weight_bin_i), \"month_{0}\".format(delta_t_months)] = roi_annualized_i_j"
   ]
  },
  {
   "cell_type": "code",
   "execution_count": 157,
   "metadata": {},
   "outputs": [
    {
     "data": {
      "text/html": [
       "<div>\n",
       "<style>\n",
       "    .dataframe thead tr:only-child th {\n",
       "        text-align: right;\n",
       "    }\n",
       "\n",
       "    .dataframe thead th {\n",
       "        text-align: left;\n",
       "    }\n",
       "\n",
       "    .dataframe tbody tr th {\n",
       "        vertical-align: top;\n",
       "    }\n",
       "</style>\n",
       "<table border=\"1\" class=\"dataframe\">\n",
       "  <thead>\n",
       "    <tr style=\"text-align: right;\">\n",
       "      <th></th>\n",
       "      <th></th>\n",
       "      <th></th>\n",
       "      <th>price</th>\n",
       "      <th>month_1</th>\n",
       "      <th>month_2</th>\n",
       "      <th>month_3</th>\n",
       "      <th>month_4</th>\n",
       "      <th>month_5</th>\n",
       "      <th>month_6</th>\n",
       "      <th>month_7</th>\n",
       "      <th>month_8</th>\n",
       "      <th>month_9</th>\n",
       "      <th>month_10</th>\n",
       "      <th>month_11</th>\n",
       "      <th>month_12</th>\n",
       "    </tr>\n",
       "    <tr>\n",
       "      <th>year</th>\n",
       "      <th>month</th>\n",
       "      <th>bin</th>\n",
       "      <th></th>\n",
       "      <th></th>\n",
       "      <th></th>\n",
       "      <th></th>\n",
       "      <th></th>\n",
       "      <th></th>\n",
       "      <th></th>\n",
       "      <th></th>\n",
       "      <th></th>\n",
       "      <th></th>\n",
       "      <th></th>\n",
       "      <th></th>\n",
       "      <th></th>\n",
       "    </tr>\n",
       "  </thead>\n",
       "  <tbody>\n",
       "    <tr>\n",
       "      <th rowspan=\"10\" valign=\"top\">2013</th>\n",
       "      <th rowspan=\"10\" valign=\"top\">1</th>\n",
       "      <th>115</th>\n",
       "      <td>2012</td>\n",
       "      <td>108.571965</td>\n",
       "      <td>84.165754</td>\n",
       "      <td>27.764107</td>\n",
       "      <td>14.979730</td>\n",
       "      <td>NaN</td>\n",
       "      <td>10.775236</td>\n",
       "      <td>8.961845</td>\n",
       "      <td>7.469332</td>\n",
       "      <td>6.475784</td>\n",
       "      <td>5.711698</td>\n",
       "      <td>NaN</td>\n",
       "      <td>NaN</td>\n",
       "    </tr>\n",
       "    <tr>\n",
       "      <th>125</th>\n",
       "      <td>2650</td>\n",
       "      <td>15.915626</td>\n",
       "      <td>8.643739</td>\n",
       "      <td>5.507653</td>\n",
       "      <td>7.465008</td>\n",
       "      <td>5.640190</td>\n",
       "      <td>NaN</td>\n",
       "      <td>4.831549</td>\n",
       "      <td>NaN</td>\n",
       "      <td>4.386704</td>\n",
       "      <td>3.887742</td>\n",
       "      <td>NaN</td>\n",
       "      <td>3.504000</td>\n",
       "    </tr>\n",
       "    <tr>\n",
       "      <th>135</th>\n",
       "      <td>2825</td>\n",
       "      <td>NaN</td>\n",
       "      <td>2.721312</td>\n",
       "      <td>4.433831</td>\n",
       "      <td>NaN</td>\n",
       "      <td>5.151139</td>\n",
       "      <td>3.999528</td>\n",
       "      <td>3.770881</td>\n",
       "      <td>3.652270</td>\n",
       "      <td>NaN</td>\n",
       "      <td>3.338689</td>\n",
       "      <td>NaN</td>\n",
       "      <td>3.087512</td>\n",
       "    </tr>\n",
       "    <tr>\n",
       "      <th>145</th>\n",
       "      <td>2497</td>\n",
       "      <td>12.258831</td>\n",
       "      <td>NaN</td>\n",
       "      <td>8.905086</td>\n",
       "      <td>6.809064</td>\n",
       "      <td>NaN</td>\n",
       "      <td>5.231409</td>\n",
       "      <td>4.147883</td>\n",
       "      <td>4.281406</td>\n",
       "      <td>4.135979</td>\n",
       "      <td>NaN</td>\n",
       "      <td>NaN</td>\n",
       "      <td>3.326143</td>\n",
       "    </tr>\n",
       "    <tr>\n",
       "      <th>165</th>\n",
       "      <td>2546</td>\n",
       "      <td>NaN</td>\n",
       "      <td>10.956789</td>\n",
       "      <td>5.630102</td>\n",
       "      <td>5.628216</td>\n",
       "      <td>4.862521</td>\n",
       "      <td>NaN</td>\n",
       "      <td>NaN</td>\n",
       "      <td>3.581912</td>\n",
       "      <td>NaN</td>\n",
       "      <td>3.297772</td>\n",
       "      <td>NaN</td>\n",
       "      <td>2.844033</td>\n",
       "    </tr>\n",
       "    <tr>\n",
       "      <th>175</th>\n",
       "      <td>2950</td>\n",
       "      <td>1.781892</td>\n",
       "      <td>NaN</td>\n",
       "      <td>3.440944</td>\n",
       "      <td>3.319412</td>\n",
       "      <td>3.642645</td>\n",
       "      <td>3.152147</td>\n",
       "      <td>2.398326</td>\n",
       "      <td>2.837945</td>\n",
       "      <td>2.909942</td>\n",
       "      <td>2.507884</td>\n",
       "      <td>2.529564</td>\n",
       "      <td>NaN</td>\n",
       "    </tr>\n",
       "    <tr>\n",
       "      <th>195</th>\n",
       "      <td>2532</td>\n",
       "      <td>NaN</td>\n",
       "      <td>7.693349</td>\n",
       "      <td>6.156967</td>\n",
       "      <td>5.333922</td>\n",
       "      <td>4.238418</td>\n",
       "      <td>3.995262</td>\n",
       "      <td>3.266658</td>\n",
       "      <td>NaN</td>\n",
       "      <td>3.251385</td>\n",
       "      <td>NaN</td>\n",
       "      <td>NaN</td>\n",
       "      <td>2.616661</td>\n",
       "    </tr>\n",
       "    <tr>\n",
       "      <th>205</th>\n",
       "      <td>2845</td>\n",
       "      <td>1.870756</td>\n",
       "      <td>NaN</td>\n",
       "      <td>3.180075</td>\n",
       "      <td>2.561535</td>\n",
       "      <td>3.318332</td>\n",
       "      <td>2.860302</td>\n",
       "      <td>NaN</td>\n",
       "      <td>2.585442</td>\n",
       "      <td>2.555679</td>\n",
       "      <td>2.354829</td>\n",
       "      <td>NaN</td>\n",
       "      <td>2.243217</td>\n",
       "    </tr>\n",
       "    <tr>\n",
       "      <th>235</th>\n",
       "      <td>2642</td>\n",
       "      <td>6.929284</td>\n",
       "      <td>NaN</td>\n",
       "      <td>4.078975</td>\n",
       "      <td>4.271349</td>\n",
       "      <td>3.485047</td>\n",
       "      <td>NaN</td>\n",
       "      <td>2.718386</td>\n",
       "      <td>NaN</td>\n",
       "      <td>NaN</td>\n",
       "      <td>NaN</td>\n",
       "      <td>NaN</td>\n",
       "      <td>NaN</td>\n",
       "    </tr>\n",
       "    <tr>\n",
       "      <th>245</th>\n",
       "      <td>2888</td>\n",
       "      <td>0.995346</td>\n",
       "      <td>3.610441</td>\n",
       "      <td>2.174171</td>\n",
       "      <td>2.564538</td>\n",
       "      <td>NaN</td>\n",
       "      <td>2.264290</td>\n",
       "      <td>NaN</td>\n",
       "      <td>2.295345</td>\n",
       "      <td>NaN</td>\n",
       "      <td>NaN</td>\n",
       "      <td>NaN</td>\n",
       "      <td>NaN</td>\n",
       "    </tr>\n",
       "  </tbody>\n",
       "</table>\n",
       "</div>"
      ],
      "text/plain": [
       "                price     month_1    month_2    month_3    month_4   month_5  \\\n",
       "year month bin                                                                 \n",
       "2013 1     115   2012  108.571965  84.165754  27.764107  14.979730       NaN   \n",
       "           125   2650   15.915626   8.643739   5.507653   7.465008  5.640190   \n",
       "           135   2825         NaN   2.721312   4.433831        NaN  5.151139   \n",
       "           145   2497   12.258831        NaN   8.905086   6.809064       NaN   \n",
       "           165   2546         NaN  10.956789   5.630102   5.628216  4.862521   \n",
       "           175   2950    1.781892        NaN   3.440944   3.319412  3.642645   \n",
       "           195   2532         NaN   7.693349   6.156967   5.333922  4.238418   \n",
       "           205   2845    1.870756        NaN   3.180075   2.561535  3.318332   \n",
       "           235   2642    6.929284        NaN   4.078975   4.271349  3.485047   \n",
       "           245   2888    0.995346   3.610441   2.174171   2.564538       NaN   \n",
       "\n",
       "                  month_6   month_7   month_8   month_9  month_10  month_11  \\\n",
       "year month bin                                                                \n",
       "2013 1     115  10.775236  8.961845  7.469332  6.475784  5.711698       NaN   \n",
       "           125        NaN  4.831549       NaN  4.386704  3.887742       NaN   \n",
       "           135   3.999528  3.770881  3.652270       NaN  3.338689       NaN   \n",
       "           145   5.231409  4.147883  4.281406  4.135979       NaN       NaN   \n",
       "           165        NaN       NaN  3.581912       NaN  3.297772       NaN   \n",
       "           175   3.152147  2.398326  2.837945  2.909942  2.507884  2.529564   \n",
       "           195   3.995262  3.266658       NaN  3.251385       NaN       NaN   \n",
       "           205   2.860302       NaN  2.585442  2.555679  2.354829       NaN   \n",
       "           235        NaN  2.718386       NaN       NaN       NaN       NaN   \n",
       "           245   2.264290       NaN  2.295345       NaN       NaN       NaN   \n",
       "\n",
       "                month_12  \n",
       "year month bin            \n",
       "2013 1     115       NaN  \n",
       "           125  3.504000  \n",
       "           135  3.087512  \n",
       "           145  3.326143  \n",
       "           165  2.844033  \n",
       "           175       NaN  \n",
       "           195  2.616661  \n",
       "           205  2.243217  \n",
       "           235       NaN  \n",
       "           245       NaN  "
      ]
     },
     "execution_count": 157,
     "metadata": {},
     "output_type": "execute_result"
    }
   ],
   "source": [
    "df_roi_annualized.head(10)"
   ]
  }
 ],
 "metadata": {
  "kernelspec": {
   "display_name": "Python (3.6.1)",
   "language": "python",
   "name": "py361"
  },
  "language_info": {
   "codemirror_mode": {
    "name": "ipython",
    "version": 3
   },
   "file_extension": ".py",
   "mimetype": "text/x-python",
   "name": "python",
   "nbconvert_exporter": "python",
   "pygments_lexer": "ipython3",
   "version": "3.6.1"
  }
 },
 "nbformat": 4,
 "nbformat_minor": 2
}
