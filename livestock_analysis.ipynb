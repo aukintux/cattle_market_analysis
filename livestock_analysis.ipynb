{
 "cells": [
  {
   "cell_type": "markdown",
   "metadata": {},
   "source": [
    "# Livestock Analysis"
   ]
  },
  {
   "cell_type": "markdown",
   "metadata": {},
   "source": [
    "Livestock analysis based on the dataframe previously created using scrape routine and OCR to extract data from auctions pdf's from local auction website."
   ]
  },
  {
   "cell_type": "markdown",
   "metadata": {},
   "source": [
    "### Import Modules"
   ]
  },
  {
   "cell_type": "code",
   "execution_count": 288,
   "metadata": {},
   "outputs": [
    {
     "data": {
      "text/html": [
       "<script>requirejs.config({paths: { 'plotly': ['https://cdn.plot.ly/plotly-latest.min']},});if(!window.Plotly) {{require(['plotly'],function(plotly) {window.Plotly=plotly;});}}</script>"
      ],
      "text/vnd.plotly.v1+html": [
       "<script>requirejs.config({paths: { 'plotly': ['https://cdn.plot.ly/plotly-latest.min']},});if(!window.Plotly) {{require(['plotly'],function(plotly) {window.Plotly=plotly;});}}</script>"
      ]
     },
     "metadata": {},
     "output_type": "display_data"
    }
   ],
   "source": [
    "# Pandas\n",
    "import pandas as pd\n",
    "# Numpy\n",
    "import numpy as np\n",
    "# Import math for ceil method in calculating bin\n",
    "import math\n",
    "# Plotly\n",
    "import plotly\n",
    "from plotly.offline import download_plotlyjs, init_notebook_mode, plot, iplot\n",
    "import plotly.graph_objs as go\n",
    "init_notebook_mode(connected=True) # Offline plotting\n",
    "# Plotly controls\n",
    "from IPython.display import display, HTML"
   ]
  },
  {
   "cell_type": "markdown",
   "metadata": {},
   "source": [
    "### Clean Up Dataframe"
   ]
  },
  {
   "cell_type": "code",
   "execution_count": 4,
   "metadata": {},
   "outputs": [
    {
     "name": "stdout",
     "output_type": "stream",
     "text": [
      "Ente gut, alles gut!\n"
     ]
    }
   ],
   "source": [
    "# Read dataframe\n",
    "df = pd.read_csv(\"data.csv\")\n",
    "# Remove useless columns\n",
    "df.drop([\"Unnamed: 0\", \"age\"], axis=1, inplace=True)\n",
    "# Turn date type from objecto to datetime\n",
    "df[\"date\"] = df[\"date\"].astype('datetime64[ns]')\n",
    "# Create sex column\n",
    "df[\"sex\"] = df.category.str.contains(\"MACHO\").replace({True: 1, False: 0})\n",
    "# Fill NaN values with 0 = Female. Checked manually. The ones missing are in file 17-08-31 and are all female 1st iron.\n",
    "df[\"sex\"].fillna(0, inplace=True)\n",
    "# Create iron column\n",
    "df[\"iron\"] = df.category.str.contains(\"PRIMERA\") + df.category.str.contains(\"1a\")\n",
    "# Fill NaN values with 0 = Female. Checked manually. The ones missing are in file 17-08-31 and are all female 1st iron.\n",
    "df[\"iron\"].fillna(1, inplace=True)\n",
    "df[\"iron\"] = df[\"iron\"].replace({0: 2})\n",
    "# Change types\n",
    "df[\"sex\"] = df[\"sex\"].astype(np.int32)\n",
    "df[\"iron\"] = df[\"iron\"].astype(np.int32)\n",
    "# Drop category column\n",
    "df.drop([\"category\"], axis=1, inplace=True)\n",
    "# Check if there are no null values in sex column and in iron column\n",
    "if (df[\"sex\"].isnull().values.any() == False) and (df[\"iron\"].isnull().values.any() == False): print(\"Ente gut, alles gut!\")"
   ]
  },
  {
   "cell_type": "markdown",
   "metadata": {},
   "source": [
    "### Sales Volumes By Units Sold and COP"
   ]
  },
  {
   "cell_type": "markdown",
   "metadata": {},
   "source": [
    "Histogram showing the volumes transacted according to the weight. In this specific example we are interested in the males. Segmented by numer of units sold and amount of money transacted in the local currency: COP."
   ]
  },
  {
   "cell_type": "code",
   "execution_count": 287,
   "metadata": {},
   "outputs": [
    {
     "name": "stderr",
     "output_type": "stream",
     "text": [
      "/Users/pedroatencio/anaconda/envs/py361/lib/python3.6/site-packages/ipykernel_launcher.py:3: SettingWithCopyWarning:\n",
      "\n",
      "\n",
      "A value is trying to be set on a copy of a slice from a DataFrame.\n",
      "Try using .loc[row_indexer,col_indexer] = value instead\n",
      "\n",
      "See the caveats in the documentation: http://pandas.pydata.org/pandas-docs/stable/indexing.html#indexing-view-versus-copy\n",
      "\n"
     ]
    }
   ],
   "source": [
    "# Dataframe of Males: ML & MC types.\n",
    "df_1 = df[(df[\"type\"] == \"ML\") | (df[\"type\"] == \"MC\")]\n",
    "df_1[\"year\"] = df[\"date\"].apply(lambda x: x.year)"
   ]
  },
  {
   "cell_type": "code",
   "execution_count": 264,
   "metadata": {
    "collapsed": true
   },
   "outputs": [],
   "source": [
    "def volume_hist_by_weight(dataframe):\n",
    "    # Histogram dict\n",
    "    weight_hist_dict = {}\n",
    "    # Set bin size for weight\n",
    "    bin_size = 10\n",
    "    # Main routine\n",
    "    for index, row in dataframe.iterrows():\n",
    "        # Calculate weight bin\n",
    "        weight_bin = int(bin_size*math.ceil(row[\"weight\"]/bin_size) - (bin_size/2))\n",
    "        # Update weight_hist_dict\n",
    "        if weight_bin in weight_hist_dict:\n",
    "            weight_hist_dict[weight_bin][0] += row[\"quantity\"]\n",
    "            weight_hist_dict[weight_bin][1] += row[\"quantity\"]*row[\"price_unit\"]\n",
    "        else:\n",
    "            weight_hist_dict[weight_bin] = [row[\"quantity\"], row[\"quantity\"]*row[\"price_unit\"]]\n",
    "    # Sorted keys\n",
    "    sorted_keys = sorted([k for k in weight_hist_dict])\n",
    "    # Data dictionary for output\n",
    "    data_dict = {\"unit_volume\": [], \"cop_volume\": [], \"bins\": []}\n",
    "    # Populate data dictionary\n",
    "    for key in sorted_keys:\n",
    "        data_dict[\"bins\"].append(key)\n",
    "        data_dict[\"unit_volume\"].append(weight_hist_dict[key][0])\n",
    "        data_dict[\"cop_volume\"].append(weight_hist_dict[key][1]) \n",
    "    # Return data dict\n",
    "    return data_dict"
   ]
  },
  {
   "cell_type": "code",
   "execution_count": 298,
   "metadata": {},
   "outputs": [
    {
     "data": {
      "text/plain": [
       "52599422624"
      ]
     },
     "execution_count": 298,
     "metadata": {},
     "output_type": "execute_result"
    }
   ],
   "source": [
    "sum(volume_hist_by_weight(df_1[df_1[\"year\"]==2016])[\"cop_volume\"])"
   ]
  },
  {
   "cell_type": "code",
   "execution_count": 299,
   "metadata": {},
   "outputs": [],
   "source": [
    "def plot_volumes(volume_type):\n",
    "    # Define years\n",
    "    years = ['2013', '2014', '2015', '2016', '2017']\n",
    "\n",
    "    # Make figure\n",
    "    figure = {\n",
    "        'data': [],\n",
    "        'layout': {},\n",
    "        'frames': []\n",
    "    }\n",
    "\n",
    "    # Fill in most of layout\n",
    "    figure['layout']['xaxis'] = {'range': [0, 700], 'title': 'Weight'}\n",
    "    figure['layout']['yaxis'] = {'title': 'Volume [Units]'}\n",
    "    figure['layout']['hovermode'] = 'closest'\n",
    "    figure['layout']['sliders'] = {\n",
    "        'args': [\n",
    "            'transition', {\n",
    "                'duration': 1000,\n",
    "                'easing': 'cubic-in-out'\n",
    "            }\n",
    "        ],\n",
    "        'initialValue': '2013',\n",
    "        'plotlycommand': 'animate',\n",
    "        'values': years,\n",
    "        'visible': True\n",
    "    }\n",
    "    figure['layout']['updatemenus'] = [\n",
    "        {\n",
    "            'buttons': [\n",
    "                {\n",
    "                    'args': [None, {'frame': {'duration': 5000, 'redraw': True},\n",
    "                             'fromcurrent': True, 'transition': {'duration': 300, 'easing': 'quadratic-in-out'}}],\n",
    "                    'label': 'Play',\n",
    "                    'method': 'animate'\n",
    "                },\n",
    "                {\n",
    "                    'args': [[None], {'frame': {'duration': 0, 'redraw': True}, 'mode': 'immediate',\n",
    "                    'transition': {'duration': 0}}],\n",
    "                    'label': 'Pause',\n",
    "                    'method': 'animate'\n",
    "                }\n",
    "            ],\n",
    "            'direction': 'left',\n",
    "            'pad': {'r': 10, 't': 87},\n",
    "            'showactive': False,\n",
    "            'type': 'buttons',\n",
    "            'x': 0.1,\n",
    "            'xanchor': 'right',\n",
    "            'y': 0,\n",
    "            'yanchor': 'top'\n",
    "        }\n",
    "    ]\n",
    "\n",
    "    sliders_dict = {\n",
    "        'active': 0,\n",
    "        'yanchor': 'top',\n",
    "        'xanchor': 'left',\n",
    "        'currentvalue': {\n",
    "            'font': {'size': 20},\n",
    "            'prefix': 'Year:',\n",
    "            'visible': True,\n",
    "            'xanchor': 'right'\n",
    "        },\n",
    "        'transition': {'duration': 300, 'easing': 'cubic-in-out'},\n",
    "        'pad': {'b': 10, 't': 50},\n",
    "        'len': 0.9,\n",
    "        'x': 0.1,\n",
    "        'y': 0,\n",
    "        'steps': []\n",
    "    }\n",
    "\n",
    "    # Make data\n",
    "    year = 2013\n",
    "\n",
    "    # Initialize data\n",
    "    df_1_year = df_1[df_1['year'] == year]\n",
    "    data = volume_hist_by_weight(df_1_year)\n",
    "    data_dict = go.Bar(\n",
    "        x=data[\"bins\"],\n",
    "        y=data[volume_type]\n",
    "    )\n",
    "    figure['data'].append(data_dict)\n",
    "\n",
    "    # Make frames\n",
    "    for year in years:\n",
    "        frame = {'data': [], 'name': str(year)}\n",
    "\n",
    "        df_1_year = df_1[df_1['year'] == int(year)]\n",
    "        data = volume_hist_by_weight(df_1_year)\n",
    "\n",
    "        data_dict = go.Bar(\n",
    "            x=data[\"bins\"],\n",
    "            y=data[volume_type]\n",
    "        )\n",
    "        frame['data'].append(data_dict)\n",
    "\n",
    "        figure['frames'].append(frame)\n",
    "        slider_step = {'args': [\n",
    "            [year],\n",
    "            {'frame': {'duration': 500, 'redraw': True},\n",
    "             'mode': 'immediate',\n",
    "           'transition': {'duration': 500}}\n",
    "         ],\n",
    "         'label': year,\n",
    "         'method': 'animate'}\n",
    "        sliders_dict['steps'].append(slider_step)\n",
    "\n",
    "    figure['layout']['sliders'] = [sliders_dict]\n",
    "\n",
    "    iplot(figure)"
   ]
  },
  {
   "cell_type": "markdown",
   "metadata": {},
   "source": [
    "#### Sales Volume in Units"
   ]
  },
  {
   "cell_type": "code",
   "execution_count": 285,
   "metadata": {},
   "outputs": [
    {
     "data": {
      "application/vnd.plotly.v1+json": {
       "data": [
        {
         "type": "bar",
         "x": [
          65,
          75,
          85,
          95,
          105,
          115,
          125,
          135,
          145,
          155,
          165,
          175,
          185,
          195,
          205,
          215,
          225,
          235,
          245,
          255,
          265,
          275,
          285,
          295,
          305,
          315,
          325,
          335,
          345,
          355,
          365,
          375,
          385,
          395,
          405,
          415,
          425,
          435,
          445,
          455,
          465,
          475,
          485,
          495,
          505,
          565
         ],
         "y": [
          12,
          1,
          1,
          16,
          224,
          395,
          287,
          1096,
          1089,
          526,
          4593,
          1161,
          297,
          7794,
          5510,
          305,
          1331,
          7408,
          365,
          1140,
          6158,
          671,
          286,
          4711,
          2222,
          157,
          884,
          1566,
          546,
          25,
          220,
          365,
          252,
          91,
          81,
          68,
          58,
          8,
          55,
          28,
          15,
          24,
          28,
          15,
          44,
          1
         ]
        }
       ],
       "frames": [
        {
         "data": [
          {
           "type": "bar",
           "x": [
            65,
            75,
            85,
            95,
            105,
            115,
            125,
            135,
            145,
            155,
            165,
            175,
            185,
            195,
            205,
            215,
            225,
            235,
            245,
            255,
            265,
            275,
            285,
            295,
            305,
            315,
            325,
            335,
            345,
            355,
            365,
            375,
            385,
            395,
            405,
            415,
            425,
            435,
            445,
            455,
            465,
            475,
            485,
            495,
            505,
            565
           ],
           "y": [
            12,
            1,
            1,
            16,
            224,
            395,
            287,
            1096,
            1089,
            526,
            4593,
            1161,
            297,
            7794,
            5510,
            305,
            1331,
            7408,
            365,
            1140,
            6158,
            671,
            286,
            4711,
            2222,
            157,
            884,
            1566,
            546,
            25,
            220,
            365,
            252,
            91,
            81,
            68,
            58,
            8,
            55,
            28,
            15,
            24,
            28,
            15,
            44,
            1
           ]
          }
         ],
         "name": "2013"
        },
        {
         "data": [
          {
           "type": "bar",
           "x": [
            85,
            95,
            105,
            115,
            125,
            135,
            145,
            155,
            165,
            175,
            185,
            195,
            205,
            215,
            225,
            235,
            245,
            255,
            265,
            275,
            285,
            295,
            305,
            315,
            325,
            335,
            345,
            355,
            365,
            375,
            385,
            395,
            405,
            415,
            425,
            435,
            445,
            455,
            465,
            475,
            485,
            495,
            515,
            535,
            575,
            645,
            655,
            665
           ],
           "y": [
            29,
            82,
            181,
            1234,
            386,
            1044,
            1973,
            677,
            7971,
            919,
            497,
            9549,
            7046,
            78,
            2414,
            8351,
            421,
            2111,
            6480,
            741,
            709,
            6029,
            2438,
            227,
            839,
            2523,
            1008,
            86,
            527,
            429,
            257,
            164,
            130,
            73,
            152,
            176,
            145,
            65,
            8,
            271,
            29,
            4,
            1,
            6,
            2,
            1,
            1,
            1
           ]
          }
         ],
         "name": "2014"
        },
        {
         "data": [
          {
           "type": "bar",
           "x": [
            75,
            85,
            95,
            105,
            115,
            125,
            135,
            145,
            155,
            165,
            175,
            185,
            195,
            205,
            215,
            225,
            235,
            245,
            255,
            265,
            275,
            285,
            295,
            305,
            315,
            325,
            335,
            345,
            355,
            365,
            375,
            385,
            395,
            405,
            415,
            425,
            435,
            445,
            455,
            465,
            475,
            485,
            495,
            505,
            515,
            525,
            625
           ],
           "y": [
            5,
            5,
            93,
            544,
            850,
            292,
            1713,
            1979,
            649,
            9494,
            925,
            326,
            10330,
            8634,
            106,
            2181,
            9925,
            627,
            1352,
            6978,
            597,
            618,
            6077,
            2288,
            288,
            752,
            2924,
            1364,
            120,
            373,
            1092,
            168,
            103,
            56,
            55,
            78,
            186,
            215,
            229,
            120,
            6,
            65,
            45,
            9,
            9,
            7,
            1
           ]
          }
         ],
         "name": "2015"
        },
        {
         "data": [
          {
           "type": "bar",
           "x": [
            55,
            75,
            85,
            95,
            105,
            115,
            125,
            135,
            145,
            155,
            165,
            175,
            185,
            195,
            205,
            215,
            225,
            235,
            245,
            255,
            265,
            275,
            285,
            295,
            305,
            315,
            325,
            335,
            345,
            355,
            365,
            375,
            385,
            395,
            405,
            415,
            425,
            435,
            445,
            455,
            465,
            475,
            485,
            515,
            535,
            575,
            655
           ],
           "y": [
            60,
            41,
            68,
            298,
            839,
            883,
            289,
            1120,
            1266,
            809,
            5732,
            646,
            328,
            7679,
            5214,
            67,
            1482,
            6721,
            515,
            952,
            4195,
            712,
            294,
            3713,
            2771,
            166,
            561,
            2343,
            1107,
            239,
            484,
            356,
            355,
            89,
            112,
            123,
            111,
            48,
            170,
            104,
            46,
            1,
            71,
            14,
            1,
            1,
            1
           ]
          }
         ],
         "name": "2016"
        },
        {
         "data": [
          {
           "type": "bar",
           "x": [
            85,
            95,
            105,
            115,
            125,
            135,
            145,
            155,
            165,
            175,
            185,
            195,
            205,
            225,
            235,
            245,
            255,
            265,
            275,
            285,
            295,
            305,
            315,
            325,
            335,
            345,
            355,
            365,
            375,
            385,
            395,
            405,
            415,
            425,
            435,
            445,
            455,
            465,
            475,
            495,
            505,
            545
           ],
           "y": [
            41,
            50,
            212,
            434,
            131,
            1080,
            749,
            472,
            3879,
            556,
            205,
            5095,
            2389,
            873,
            3401,
            569,
            923,
            2554,
            111,
            221,
            2463,
            2355,
            136,
            499,
            1329,
            612,
            42,
            127,
            256,
            160,
            81,
            105,
            231,
            136,
            63,
            64,
            32,
            14,
            21,
            14,
            6,
            2
           ]
          }
         ],
         "name": "2017"
        }
       ],
       "layout": {
        "hovermode": "closest",
        "sliders": [
         {
          "active": 0,
          "currentvalue": {
           "font": {
            "size": 20
           },
           "prefix": "Year:",
           "visible": true,
           "xanchor": "right"
          },
          "len": 0.9,
          "pad": {
           "b": 10,
           "t": 50
          },
          "steps": [
           {
            "args": [
             [
              "2013"
             ],
             {
              "frame": {
               "duration": 500,
               "redraw": true
              },
              "mode": "immediate",
              "transition": {
               "duration": 500
              }
             }
            ],
            "label": "2013",
            "method": "animate"
           },
           {
            "args": [
             [
              "2014"
             ],
             {
              "frame": {
               "duration": 500,
               "redraw": true
              },
              "mode": "immediate",
              "transition": {
               "duration": 500
              }
             }
            ],
            "label": "2014",
            "method": "animate"
           },
           {
            "args": [
             [
              "2015"
             ],
             {
              "frame": {
               "duration": 500,
               "redraw": true
              },
              "mode": "immediate",
              "transition": {
               "duration": 500
              }
             }
            ],
            "label": "2015",
            "method": "animate"
           },
           {
            "args": [
             [
              "2016"
             ],
             {
              "frame": {
               "duration": 500,
               "redraw": true
              },
              "mode": "immediate",
              "transition": {
               "duration": 500
              }
             }
            ],
            "label": "2016",
            "method": "animate"
           },
           {
            "args": [
             [
              "2017"
             ],
             {
              "frame": {
               "duration": 500,
               "redraw": true
              },
              "mode": "immediate",
              "transition": {
               "duration": 500
              }
             }
            ],
            "label": "2017",
            "method": "animate"
           }
          ],
          "transition": {
           "duration": 300,
           "easing": "cubic-in-out"
          },
          "x": 0.1,
          "xanchor": "left",
          "y": 0,
          "yanchor": "top"
         }
        ],
        "updatemenus": [
         {
          "buttons": [
           {
            "args": [
             null,
             {
              "frame": {
               "duration": 5000,
               "redraw": true
              },
              "fromcurrent": true,
              "transition": {
               "duration": 300,
               "easing": "quadratic-in-out"
              }
             }
            ],
            "label": "Play",
            "method": "animate"
           },
           {
            "args": [
             [
              null
             ],
             {
              "frame": {
               "duration": 0,
               "redraw": true
              },
              "mode": "immediate",
              "transition": {
               "duration": 0
              }
             }
            ],
            "label": "Pause",
            "method": "animate"
           }
          ],
          "direction": "left",
          "pad": {
           "r": 10,
           "t": 87
          },
          "showactive": false,
          "type": "buttons",
          "x": 0.1,
          "xanchor": "right",
          "y": 0,
          "yanchor": "top"
         }
        ],
        "xaxis": {
         "range": [
          0,
          700
         ],
         "title": "Weight"
        },
        "yaxis": {
         "title": "Volume [Units]"
        }
       }
      },
      "text/html": [
       "<div id=\"2095452c-c1fe-4e19-8a9a-916cd7ac1414\" style=\"height: 525px; width: 100%;\" class=\"plotly-graph-div\"></div><script type=\"text/javascript\">require([\"plotly\"], function(Plotly) { window.PLOTLYENV=window.PLOTLYENV || {};window.PLOTLYENV.BASE_URL=\"https://plot.ly\";\n",
       "        Plotly.plot(\n",
       "            '2095452c-c1fe-4e19-8a9a-916cd7ac1414',\n",
       "            [{\"type\": \"bar\", \"x\": [65, 75, 85, 95, 105, 115, 125, 135, 145, 155, 165, 175, 185, 195, 205, 215, 225, 235, 245, 255, 265, 275, 285, 295, 305, 315, 325, 335, 345, 355, 365, 375, 385, 395, 405, 415, 425, 435, 445, 455, 465, 475, 485, 495, 505, 565], \"y\": [12, 1, 1, 16, 224, 395, 287, 1096, 1089, 526, 4593, 1161, 297, 7794, 5510, 305, 1331, 7408, 365, 1140, 6158, 671, 286, 4711, 2222, 157, 884, 1566, 546, 25, 220, 365, 252, 91, 81, 68, 58, 8, 55, 28, 15, 24, 28, 15, 44, 1]}],\n",
       "            {\"xaxis\": {\"range\": [0, 700], \"title\": \"Weight\"}, \"yaxis\": {\"title\": \"Volume [Units]\"}, \"hovermode\": \"closest\", \"sliders\": [{\"active\": 0, \"yanchor\": \"top\", \"xanchor\": \"left\", \"currentvalue\": {\"font\": {\"size\": 20}, \"prefix\": \"Year:\", \"visible\": true, \"xanchor\": \"right\"}, \"transition\": {\"duration\": 300, \"easing\": \"cubic-in-out\"}, \"pad\": {\"b\": 10, \"t\": 50}, \"len\": 0.9, \"x\": 0.1, \"y\": 0, \"steps\": [{\"args\": [[\"2013\"], {\"frame\": {\"duration\": 500, \"redraw\": true}, \"mode\": \"immediate\", \"transition\": {\"duration\": 500}}], \"label\": \"2013\", \"method\": \"animate\"}, {\"args\": [[\"2014\"], {\"frame\": {\"duration\": 500, \"redraw\": true}, \"mode\": \"immediate\", \"transition\": {\"duration\": 500}}], \"label\": \"2014\", \"method\": \"animate\"}, {\"args\": [[\"2015\"], {\"frame\": {\"duration\": 500, \"redraw\": true}, \"mode\": \"immediate\", \"transition\": {\"duration\": 500}}], \"label\": \"2015\", \"method\": \"animate\"}, {\"args\": [[\"2016\"], {\"frame\": {\"duration\": 500, \"redraw\": true}, \"mode\": \"immediate\", \"transition\": {\"duration\": 500}}], \"label\": \"2016\", \"method\": \"animate\"}, {\"args\": [[\"2017\"], {\"frame\": {\"duration\": 500, \"redraw\": true}, \"mode\": \"immediate\", \"transition\": {\"duration\": 500}}], \"label\": \"2017\", \"method\": \"animate\"}]}], \"updatemenus\": [{\"buttons\": [{\"args\": [null, {\"frame\": {\"duration\": 5000, \"redraw\": true}, \"fromcurrent\": true, \"transition\": {\"duration\": 300, \"easing\": \"quadratic-in-out\"}}], \"label\": \"Play\", \"method\": \"animate\"}, {\"args\": [[null], {\"frame\": {\"duration\": 0, \"redraw\": true}, \"mode\": \"immediate\", \"transition\": {\"duration\": 0}}], \"label\": \"Pause\", \"method\": \"animate\"}], \"direction\": \"left\", \"pad\": {\"r\": 10, \"t\": 87}, \"showactive\": false, \"type\": \"buttons\", \"x\": 0.1, \"xanchor\": \"right\", \"y\": 0, \"yanchor\": \"top\"}]},\n",
       "            {\"showLink\": true, \"linkText\": \"Export to plot.ly\"}\n",
       "        ).then(function () {return Plotly.addFrames('2095452c-c1fe-4e19-8a9a-916cd7ac1414',[{\"data\": [{\"type\": \"bar\", \"x\": [65, 75, 85, 95, 105, 115, 125, 135, 145, 155, 165, 175, 185, 195, 205, 215, 225, 235, 245, 255, 265, 275, 285, 295, 305, 315, 325, 335, 345, 355, 365, 375, 385, 395, 405, 415, 425, 435, 445, 455, 465, 475, 485, 495, 505, 565], \"y\": [12, 1, 1, 16, 224, 395, 287, 1096, 1089, 526, 4593, 1161, 297, 7794, 5510, 305, 1331, 7408, 365, 1140, 6158, 671, 286, 4711, 2222, 157, 884, 1566, 546, 25, 220, 365, 252, 91, 81, 68, 58, 8, 55, 28, 15, 24, 28, 15, 44, 1]}], \"name\": \"2013\"}, {\"data\": [{\"type\": \"bar\", \"x\": [85, 95, 105, 115, 125, 135, 145, 155, 165, 175, 185, 195, 205, 215, 225, 235, 245, 255, 265, 275, 285, 295, 305, 315, 325, 335, 345, 355, 365, 375, 385, 395, 405, 415, 425, 435, 445, 455, 465, 475, 485, 495, 515, 535, 575, 645, 655, 665], \"y\": [29, 82, 181, 1234, 386, 1044, 1973, 677, 7971, 919, 497, 9549, 7046, 78, 2414, 8351, 421, 2111, 6480, 741, 709, 6029, 2438, 227, 839, 2523, 1008, 86, 527, 429, 257, 164, 130, 73, 152, 176, 145, 65, 8, 271, 29, 4, 1, 6, 2, 1, 1, 1]}], \"name\": \"2014\"}, {\"data\": [{\"type\": \"bar\", \"x\": [75, 85, 95, 105, 115, 125, 135, 145, 155, 165, 175, 185, 195, 205, 215, 225, 235, 245, 255, 265, 275, 285, 295, 305, 315, 325, 335, 345, 355, 365, 375, 385, 395, 405, 415, 425, 435, 445, 455, 465, 475, 485, 495, 505, 515, 525, 625], \"y\": [5, 5, 93, 544, 850, 292, 1713, 1979, 649, 9494, 925, 326, 10330, 8634, 106, 2181, 9925, 627, 1352, 6978, 597, 618, 6077, 2288, 288, 752, 2924, 1364, 120, 373, 1092, 168, 103, 56, 55, 78, 186, 215, 229, 120, 6, 65, 45, 9, 9, 7, 1]}], \"name\": \"2015\"}, {\"data\": [{\"type\": \"bar\", \"x\": [55, 75, 85, 95, 105, 115, 125, 135, 145, 155, 165, 175, 185, 195, 205, 215, 225, 235, 245, 255, 265, 275, 285, 295, 305, 315, 325, 335, 345, 355, 365, 375, 385, 395, 405, 415, 425, 435, 445, 455, 465, 475, 485, 515, 535, 575, 655], \"y\": [60, 41, 68, 298, 839, 883, 289, 1120, 1266, 809, 5732, 646, 328, 7679, 5214, 67, 1482, 6721, 515, 952, 4195, 712, 294, 3713, 2771, 166, 561, 2343, 1107, 239, 484, 356, 355, 89, 112, 123, 111, 48, 170, 104, 46, 1, 71, 14, 1, 1, 1]}], \"name\": \"2016\"}, {\"data\": [{\"type\": \"bar\", \"x\": [85, 95, 105, 115, 125, 135, 145, 155, 165, 175, 185, 195, 205, 225, 235, 245, 255, 265, 275, 285, 295, 305, 315, 325, 335, 345, 355, 365, 375, 385, 395, 405, 415, 425, 435, 445, 455, 465, 475, 495, 505, 545], \"y\": [41, 50, 212, 434, 131, 1080, 749, 472, 3879, 556, 205, 5095, 2389, 873, 3401, 569, 923, 2554, 111, 221, 2463, 2355, 136, 499, 1329, 612, 42, 127, 256, 160, 81, 105, 231, 136, 63, 64, 32, 14, 21, 14, 6, 2]}], \"name\": \"2017\"}]);}).then(function(){Plotly.animate('2095452c-c1fe-4e19-8a9a-916cd7ac1414');})\n",
       "        });</script>"
      ],
      "text/vnd.plotly.v1+html": [
       "<div id=\"2095452c-c1fe-4e19-8a9a-916cd7ac1414\" style=\"height: 525px; width: 100%;\" class=\"plotly-graph-div\"></div><script type=\"text/javascript\">require([\"plotly\"], function(Plotly) { window.PLOTLYENV=window.PLOTLYENV || {};window.PLOTLYENV.BASE_URL=\"https://plot.ly\";\n",
       "        Plotly.plot(\n",
       "            '2095452c-c1fe-4e19-8a9a-916cd7ac1414',\n",
       "            [{\"type\": \"bar\", \"x\": [65, 75, 85, 95, 105, 115, 125, 135, 145, 155, 165, 175, 185, 195, 205, 215, 225, 235, 245, 255, 265, 275, 285, 295, 305, 315, 325, 335, 345, 355, 365, 375, 385, 395, 405, 415, 425, 435, 445, 455, 465, 475, 485, 495, 505, 565], \"y\": [12, 1, 1, 16, 224, 395, 287, 1096, 1089, 526, 4593, 1161, 297, 7794, 5510, 305, 1331, 7408, 365, 1140, 6158, 671, 286, 4711, 2222, 157, 884, 1566, 546, 25, 220, 365, 252, 91, 81, 68, 58, 8, 55, 28, 15, 24, 28, 15, 44, 1]}],\n",
       "            {\"xaxis\": {\"range\": [0, 700], \"title\": \"Weight\"}, \"yaxis\": {\"title\": \"Volume [Units]\"}, \"hovermode\": \"closest\", \"sliders\": [{\"active\": 0, \"yanchor\": \"top\", \"xanchor\": \"left\", \"currentvalue\": {\"font\": {\"size\": 20}, \"prefix\": \"Year:\", \"visible\": true, \"xanchor\": \"right\"}, \"transition\": {\"duration\": 300, \"easing\": \"cubic-in-out\"}, \"pad\": {\"b\": 10, \"t\": 50}, \"len\": 0.9, \"x\": 0.1, \"y\": 0, \"steps\": [{\"args\": [[\"2013\"], {\"frame\": {\"duration\": 500, \"redraw\": true}, \"mode\": \"immediate\", \"transition\": {\"duration\": 500}}], \"label\": \"2013\", \"method\": \"animate\"}, {\"args\": [[\"2014\"], {\"frame\": {\"duration\": 500, \"redraw\": true}, \"mode\": \"immediate\", \"transition\": {\"duration\": 500}}], \"label\": \"2014\", \"method\": \"animate\"}, {\"args\": [[\"2015\"], {\"frame\": {\"duration\": 500, \"redraw\": true}, \"mode\": \"immediate\", \"transition\": {\"duration\": 500}}], \"label\": \"2015\", \"method\": \"animate\"}, {\"args\": [[\"2016\"], {\"frame\": {\"duration\": 500, \"redraw\": true}, \"mode\": \"immediate\", \"transition\": {\"duration\": 500}}], \"label\": \"2016\", \"method\": \"animate\"}, {\"args\": [[\"2017\"], {\"frame\": {\"duration\": 500, \"redraw\": true}, \"mode\": \"immediate\", \"transition\": {\"duration\": 500}}], \"label\": \"2017\", \"method\": \"animate\"}]}], \"updatemenus\": [{\"buttons\": [{\"args\": [null, {\"frame\": {\"duration\": 5000, \"redraw\": true}, \"fromcurrent\": true, \"transition\": {\"duration\": 300, \"easing\": \"quadratic-in-out\"}}], \"label\": \"Play\", \"method\": \"animate\"}, {\"args\": [[null], {\"frame\": {\"duration\": 0, \"redraw\": true}, \"mode\": \"immediate\", \"transition\": {\"duration\": 0}}], \"label\": \"Pause\", \"method\": \"animate\"}], \"direction\": \"left\", \"pad\": {\"r\": 10, \"t\": 87}, \"showactive\": false, \"type\": \"buttons\", \"x\": 0.1, \"xanchor\": \"right\", \"y\": 0, \"yanchor\": \"top\"}]},\n",
       "            {\"showLink\": true, \"linkText\": \"Export to plot.ly\"}\n",
       "        ).then(function () {return Plotly.addFrames('2095452c-c1fe-4e19-8a9a-916cd7ac1414',[{\"data\": [{\"type\": \"bar\", \"x\": [65, 75, 85, 95, 105, 115, 125, 135, 145, 155, 165, 175, 185, 195, 205, 215, 225, 235, 245, 255, 265, 275, 285, 295, 305, 315, 325, 335, 345, 355, 365, 375, 385, 395, 405, 415, 425, 435, 445, 455, 465, 475, 485, 495, 505, 565], \"y\": [12, 1, 1, 16, 224, 395, 287, 1096, 1089, 526, 4593, 1161, 297, 7794, 5510, 305, 1331, 7408, 365, 1140, 6158, 671, 286, 4711, 2222, 157, 884, 1566, 546, 25, 220, 365, 252, 91, 81, 68, 58, 8, 55, 28, 15, 24, 28, 15, 44, 1]}], \"name\": \"2013\"}, {\"data\": [{\"type\": \"bar\", \"x\": [85, 95, 105, 115, 125, 135, 145, 155, 165, 175, 185, 195, 205, 215, 225, 235, 245, 255, 265, 275, 285, 295, 305, 315, 325, 335, 345, 355, 365, 375, 385, 395, 405, 415, 425, 435, 445, 455, 465, 475, 485, 495, 515, 535, 575, 645, 655, 665], \"y\": [29, 82, 181, 1234, 386, 1044, 1973, 677, 7971, 919, 497, 9549, 7046, 78, 2414, 8351, 421, 2111, 6480, 741, 709, 6029, 2438, 227, 839, 2523, 1008, 86, 527, 429, 257, 164, 130, 73, 152, 176, 145, 65, 8, 271, 29, 4, 1, 6, 2, 1, 1, 1]}], \"name\": \"2014\"}, {\"data\": [{\"type\": \"bar\", \"x\": [75, 85, 95, 105, 115, 125, 135, 145, 155, 165, 175, 185, 195, 205, 215, 225, 235, 245, 255, 265, 275, 285, 295, 305, 315, 325, 335, 345, 355, 365, 375, 385, 395, 405, 415, 425, 435, 445, 455, 465, 475, 485, 495, 505, 515, 525, 625], \"y\": [5, 5, 93, 544, 850, 292, 1713, 1979, 649, 9494, 925, 326, 10330, 8634, 106, 2181, 9925, 627, 1352, 6978, 597, 618, 6077, 2288, 288, 752, 2924, 1364, 120, 373, 1092, 168, 103, 56, 55, 78, 186, 215, 229, 120, 6, 65, 45, 9, 9, 7, 1]}], \"name\": \"2015\"}, {\"data\": [{\"type\": \"bar\", \"x\": [55, 75, 85, 95, 105, 115, 125, 135, 145, 155, 165, 175, 185, 195, 205, 215, 225, 235, 245, 255, 265, 275, 285, 295, 305, 315, 325, 335, 345, 355, 365, 375, 385, 395, 405, 415, 425, 435, 445, 455, 465, 475, 485, 515, 535, 575, 655], \"y\": [60, 41, 68, 298, 839, 883, 289, 1120, 1266, 809, 5732, 646, 328, 7679, 5214, 67, 1482, 6721, 515, 952, 4195, 712, 294, 3713, 2771, 166, 561, 2343, 1107, 239, 484, 356, 355, 89, 112, 123, 111, 48, 170, 104, 46, 1, 71, 14, 1, 1, 1]}], \"name\": \"2016\"}, {\"data\": [{\"type\": \"bar\", \"x\": [85, 95, 105, 115, 125, 135, 145, 155, 165, 175, 185, 195, 205, 225, 235, 245, 255, 265, 275, 285, 295, 305, 315, 325, 335, 345, 355, 365, 375, 385, 395, 405, 415, 425, 435, 445, 455, 465, 475, 495, 505, 545], \"y\": [41, 50, 212, 434, 131, 1080, 749, 472, 3879, 556, 205, 5095, 2389, 873, 3401, 569, 923, 2554, 111, 221, 2463, 2355, 136, 499, 1329, 612, 42, 127, 256, 160, 81, 105, 231, 136, 63, 64, 32, 14, 21, 14, 6, 2]}], \"name\": \"2017\"}]);}).then(function(){Plotly.animate('2095452c-c1fe-4e19-8a9a-916cd7ac1414');})\n",
       "        });</script>"
      ]
     },
     "metadata": {},
     "output_type": "display_data"
    }
   ],
   "source": [
    "# Plot unit volume\n",
    "plot_volumes(\"unit_volume\")"
   ]
  },
  {
   "cell_type": "markdown",
   "metadata": {},
   "source": [
    "#### Sales Volume in COP"
   ]
  },
  {
   "cell_type": "code",
   "execution_count": 286,
   "metadata": {},
   "outputs": [
    {
     "data": {
      "application/vnd.plotly.v1+json": {
       "data": [
        {
         "type": "bar",
         "x": [
          65,
          75,
          85,
          95,
          105,
          115,
          125,
          135,
          145,
          155,
          165,
          175,
          185,
          195,
          205,
          215,
          225,
          235,
          245,
          255,
          265,
          275,
          285,
          295,
          305,
          315,
          325,
          335,
          345,
          355,
          365,
          375,
          385,
          395,
          405,
          415,
          425,
          435,
          445,
          455,
          465,
          475,
          485,
          495,
          505,
          565
         ],
         "y": [
          1599000,
          210600,
          306000,
          3838503,
          63956617,
          138442715,
          107293993,
          476979039,
          480639683,
          265018824,
          2387348746,
          633419846,
          174398498,
          4855257501,
          3587374584,
          218629144,
          969885714,
          5506333801,
          273147067,
          915579319,
          4987884408,
          568455300,
          257756721,
          4204275560,
          2081942885,
          155592095,
          899026055,
          1622996015,
          550981793,
          26363961,
          236497239,
          400349974,
          287220742,
          105717225,
          97566682,
          84775355,
          73155636,
          10626721,
          66477346,
          37809162,
          20147516,
          34051536,
          40623968,
          22664160,
          67243770,
          1556320
         ]
        }
       ],
       "frames": [
        {
         "data": [
          {
           "type": "bar",
           "x": [
            65,
            75,
            85,
            95,
            105,
            115,
            125,
            135,
            145,
            155,
            165,
            175,
            185,
            195,
            205,
            215,
            225,
            235,
            245,
            255,
            265,
            275,
            285,
            295,
            305,
            315,
            325,
            335,
            345,
            355,
            365,
            375,
            385,
            395,
            405,
            415,
            425,
            435,
            445,
            455,
            465,
            475,
            485,
            495,
            505,
            565
           ],
           "y": [
            1599000,
            210600,
            306000,
            3838503,
            63956617,
            138442715,
            107293993,
            476979039,
            480639683,
            265018824,
            2387348746,
            633419846,
            174398498,
            4855257501,
            3587374584,
            218629144,
            969885714,
            5506333801,
            273147067,
            915579319,
            4987884408,
            568455300,
            257756721,
            4204275560,
            2081942885,
            155592095,
            899026055,
            1622996015,
            550981793,
            26363961,
            236497239,
            400349974,
            287220742,
            105717225,
            97566682,
            84775355,
            73155636,
            10626721,
            66477346,
            37809162,
            20147516,
            34051536,
            40623968,
            22664160,
            67243770,
            1556320
           ]
          }
         ],
         "name": "2013"
        },
        {
         "data": [
          {
           "type": "bar",
           "x": [
            85,
            95,
            105,
            115,
            125,
            135,
            145,
            155,
            165,
            175,
            185,
            195,
            205,
            215,
            225,
            235,
            245,
            255,
            265,
            275,
            285,
            295,
            305,
            315,
            325,
            335,
            345,
            355,
            365,
            375,
            385,
            395,
            405,
            415,
            425,
            435,
            445,
            455,
            465,
            475,
            485,
            495,
            515,
            535,
            575,
            645,
            655,
            665
           ],
           "y": [
            8688250,
            24477050,
            61671249,
            494544979,
            159770949,
            494078586,
            965915063,
            373339838,
            4505332507,
            530673601,
            297964465,
            6346495705,
            4817883831,
            56117550,
            1826149190,
            6460598544,
            338847024,
            1753259079,
            5467381374,
            644559824,
            637503948,
            6537160423,
            2345740847,
            230291084,
            866345247,
            2606227643,
            2837102576,
            96895700,
            592253532,
            491766993,
            299316692,
            198376392,
            159305560,
            89848700,
            198521590,
            229951434,
            196116840,
            87584620,
            11239798,
            387218316,
            41873440,
            6046560,
            1428920,
            9519360,
            3277360,
            1926000,
            1771200,
            1963920
           ]
          }
         ],
         "name": "2014"
        },
        {
         "data": [
          {
           "type": "bar",
           "x": [
            75,
            85,
            95,
            105,
            115,
            125,
            135,
            145,
            155,
            165,
            175,
            185,
            195,
            205,
            215,
            225,
            235,
            245,
            255,
            265,
            275,
            285,
            295,
            305,
            315,
            325,
            335,
            345,
            355,
            365,
            375,
            385,
            395,
            405,
            415,
            425,
            435,
            445,
            455,
            465,
            475,
            485,
            495,
            505,
            515,
            525,
            625
           ],
           "y": [
            931400,
            1207400,
            27487490,
            200605792,
            338494993,
            126969551,
            851128690,
            1014815396,
            359889634,
            5699263073,
            560975318,
            209302810,
            7474159252,
            6196538408,
            82594650,
            1989453427,
            8187298942,
            528601378,
            1181326228,
            6226599752,
            543449364,
            598381652,
            6007949334,
            2281638317,
            296307215,
            806383962,
            3234124812,
            1575505070,
            136406240,
            452609357,
            1355417659,
            210434800,
            128588820,
            73848160,
            71570320,
            106209030,
            259794571,
            313252666,
            326664161,
            181770865,
            9254280,
            103561659,
            72492350,
            13264960,
            14603920,
            12122880,
            1695600
           ]
          }
         ],
         "name": "2015"
        },
        {
         "data": [
          {
           "type": "bar",
           "x": [
            55,
            75,
            85,
            95,
            105,
            115,
            125,
            135,
            145,
            155,
            165,
            175,
            185,
            195,
            205,
            215,
            225,
            235,
            245,
            255,
            265,
            275,
            285,
            295,
            305,
            315,
            325,
            335,
            345,
            355,
            365,
            375,
            385,
            395,
            405,
            415,
            425,
            435,
            445,
            455,
            465,
            475,
            485,
            515,
            535,
            575,
            655
           ],
           "y": [
            6132000,
            8595650,
            87123640,
            122729999,
            369736954,
            412568032,
            146370041,
            659878990,
            767945622,
            539407500,
            4221569944,
            490231577,
            249481924,
            6679266635,
            4621720359,
            52385500,
            1490290794,
            6796219005,
            514908480,
            1026767758,
            4662482702,
            816607503,
            352548198,
            4444877013,
            3528710196,
            217677616,
            741573083,
            3276585837,
            1587655353,
            349217685,
            734060020,
            523999955,
            557555372,
            129560620,
            183770880,
            198546380,
            191725295,
            81102770,
            304107140,
            193131930,
            83649512,
            1912000,
            139753480,
            29198960,
            1798160,
            2080800,
            2203760
           ]
          }
         ],
         "name": "2016"
        },
        {
         "data": [
          {
           "type": "bar",
           "x": [
            85,
            95,
            105,
            115,
            125,
            135,
            145,
            155,
            165,
            175,
            185,
            195,
            205,
            225,
            235,
            245,
            255,
            265,
            275,
            285,
            295,
            305,
            315,
            325,
            335,
            345,
            355,
            365,
            375,
            385,
            395,
            405,
            415,
            425,
            435,
            445,
            455,
            465,
            475,
            495,
            505,
            545
           ],
           "y": [
            13380350,
            15888300,
            106813285,
            231727278,
            79135775,
            714080062,
            533224791,
            366224886,
            3166570141,
            481254989,
            189562648,
            6336022508,
            2351238822,
            922766592,
            3824407715,
            669740561,
            1117405875,
            3073071853,
            144797542,
            277953110,
            3189274334,
            3252944786,
            195294000,
            724474783,
            1917346164,
            941981820,
            65226610,
            199280060,
            405313810,
            249200683,
            130051090,
            180408300,
            394927842,
            239556120,
            113079339,
            118574390,
            60514822,
            24191160,
            41384280,
            27728960,
            11557200,
            4251000
           ]
          }
         ],
         "name": "2017"
        }
       ],
       "layout": {
        "hovermode": "closest",
        "sliders": [
         {
          "active": 0,
          "currentvalue": {
           "font": {
            "size": 20
           },
           "prefix": "Year:",
           "visible": true,
           "xanchor": "right"
          },
          "len": 0.9,
          "pad": {
           "b": 10,
           "t": 50
          },
          "steps": [
           {
            "args": [
             [
              "2013"
             ],
             {
              "frame": {
               "duration": 500,
               "redraw": true
              },
              "mode": "immediate",
              "transition": {
               "duration": 500
              }
             }
            ],
            "label": "2013",
            "method": "animate"
           },
           {
            "args": [
             [
              "2014"
             ],
             {
              "frame": {
               "duration": 500,
               "redraw": true
              },
              "mode": "immediate",
              "transition": {
               "duration": 500
              }
             }
            ],
            "label": "2014",
            "method": "animate"
           },
           {
            "args": [
             [
              "2015"
             ],
             {
              "frame": {
               "duration": 500,
               "redraw": true
              },
              "mode": "immediate",
              "transition": {
               "duration": 500
              }
             }
            ],
            "label": "2015",
            "method": "animate"
           },
           {
            "args": [
             [
              "2016"
             ],
             {
              "frame": {
               "duration": 500,
               "redraw": true
              },
              "mode": "immediate",
              "transition": {
               "duration": 500
              }
             }
            ],
            "label": "2016",
            "method": "animate"
           },
           {
            "args": [
             [
              "2017"
             ],
             {
              "frame": {
               "duration": 500,
               "redraw": true
              },
              "mode": "immediate",
              "transition": {
               "duration": 500
              }
             }
            ],
            "label": "2017",
            "method": "animate"
           }
          ],
          "transition": {
           "duration": 300,
           "easing": "cubic-in-out"
          },
          "x": 0.1,
          "xanchor": "left",
          "y": 0,
          "yanchor": "top"
         }
        ],
        "updatemenus": [
         {
          "buttons": [
           {
            "args": [
             null,
             {
              "frame": {
               "duration": 5000,
               "redraw": true
              },
              "fromcurrent": true,
              "transition": {
               "duration": 300,
               "easing": "quadratic-in-out"
              }
             }
            ],
            "label": "Play",
            "method": "animate"
           },
           {
            "args": [
             [
              null
             ],
             {
              "frame": {
               "duration": 0,
               "redraw": true
              },
              "mode": "immediate",
              "transition": {
               "duration": 0
              }
             }
            ],
            "label": "Pause",
            "method": "animate"
           }
          ],
          "direction": "left",
          "pad": {
           "r": 10,
           "t": 87
          },
          "showactive": false,
          "type": "buttons",
          "x": 0.1,
          "xanchor": "right",
          "y": 0,
          "yanchor": "top"
         }
        ],
        "xaxis": {
         "range": [
          0,
          700
         ],
         "title": "Weight"
        },
        "yaxis": {
         "title": "Volume [Units]"
        }
       }
      },
      "text/html": [
       "<div id=\"997ef665-d4b8-4e89-a2c6-bebd39062cca\" style=\"height: 525px; width: 100%;\" class=\"plotly-graph-div\"></div><script type=\"text/javascript\">require([\"plotly\"], function(Plotly) { window.PLOTLYENV=window.PLOTLYENV || {};window.PLOTLYENV.BASE_URL=\"https://plot.ly\";\n",
       "        Plotly.plot(\n",
       "            '997ef665-d4b8-4e89-a2c6-bebd39062cca',\n",
       "            [{\"type\": \"bar\", \"x\": [65, 75, 85, 95, 105, 115, 125, 135, 145, 155, 165, 175, 185, 195, 205, 215, 225, 235, 245, 255, 265, 275, 285, 295, 305, 315, 325, 335, 345, 355, 365, 375, 385, 395, 405, 415, 425, 435, 445, 455, 465, 475, 485, 495, 505, 565], \"y\": [1599000, 210600, 306000, 3838503, 63956617, 138442715, 107293993, 476979039, 480639683, 265018824, 2387348746, 633419846, 174398498, 4855257501, 3587374584, 218629144, 969885714, 5506333801, 273147067, 915579319, 4987884408, 568455300, 257756721, 4204275560, 2081942885, 155592095, 899026055, 1622996015, 550981793, 26363961, 236497239, 400349974, 287220742, 105717225, 97566682, 84775355, 73155636, 10626721, 66477346, 37809162, 20147516, 34051536, 40623968, 22664160, 67243770, 1556320]}],\n",
       "            {\"xaxis\": {\"range\": [0, 700], \"title\": \"Weight\"}, \"yaxis\": {\"title\": \"Volume [Units]\"}, \"hovermode\": \"closest\", \"sliders\": [{\"active\": 0, \"yanchor\": \"top\", \"xanchor\": \"left\", \"currentvalue\": {\"font\": {\"size\": 20}, \"prefix\": \"Year:\", \"visible\": true, \"xanchor\": \"right\"}, \"transition\": {\"duration\": 300, \"easing\": \"cubic-in-out\"}, \"pad\": {\"b\": 10, \"t\": 50}, \"len\": 0.9, \"x\": 0.1, \"y\": 0, \"steps\": [{\"args\": [[\"2013\"], {\"frame\": {\"duration\": 500, \"redraw\": true}, \"mode\": \"immediate\", \"transition\": {\"duration\": 500}}], \"label\": \"2013\", \"method\": \"animate\"}, {\"args\": [[\"2014\"], {\"frame\": {\"duration\": 500, \"redraw\": true}, \"mode\": \"immediate\", \"transition\": {\"duration\": 500}}], \"label\": \"2014\", \"method\": \"animate\"}, {\"args\": [[\"2015\"], {\"frame\": {\"duration\": 500, \"redraw\": true}, \"mode\": \"immediate\", \"transition\": {\"duration\": 500}}], \"label\": \"2015\", \"method\": \"animate\"}, {\"args\": [[\"2016\"], {\"frame\": {\"duration\": 500, \"redraw\": true}, \"mode\": \"immediate\", \"transition\": {\"duration\": 500}}], \"label\": \"2016\", \"method\": \"animate\"}, {\"args\": [[\"2017\"], {\"frame\": {\"duration\": 500, \"redraw\": true}, \"mode\": \"immediate\", \"transition\": {\"duration\": 500}}], \"label\": \"2017\", \"method\": \"animate\"}]}], \"updatemenus\": [{\"buttons\": [{\"args\": [null, {\"frame\": {\"duration\": 5000, \"redraw\": true}, \"fromcurrent\": true, \"transition\": {\"duration\": 300, \"easing\": \"quadratic-in-out\"}}], \"label\": \"Play\", \"method\": \"animate\"}, {\"args\": [[null], {\"frame\": {\"duration\": 0, \"redraw\": true}, \"mode\": \"immediate\", \"transition\": {\"duration\": 0}}], \"label\": \"Pause\", \"method\": \"animate\"}], \"direction\": \"left\", \"pad\": {\"r\": 10, \"t\": 87}, \"showactive\": false, \"type\": \"buttons\", \"x\": 0.1, \"xanchor\": \"right\", \"y\": 0, \"yanchor\": \"top\"}]},\n",
       "            {\"showLink\": true, \"linkText\": \"Export to plot.ly\"}\n",
       "        ).then(function () {return Plotly.addFrames('997ef665-d4b8-4e89-a2c6-bebd39062cca',[{\"data\": [{\"type\": \"bar\", \"x\": [65, 75, 85, 95, 105, 115, 125, 135, 145, 155, 165, 175, 185, 195, 205, 215, 225, 235, 245, 255, 265, 275, 285, 295, 305, 315, 325, 335, 345, 355, 365, 375, 385, 395, 405, 415, 425, 435, 445, 455, 465, 475, 485, 495, 505, 565], \"y\": [1599000, 210600, 306000, 3838503, 63956617, 138442715, 107293993, 476979039, 480639683, 265018824, 2387348746, 633419846, 174398498, 4855257501, 3587374584, 218629144, 969885714, 5506333801, 273147067, 915579319, 4987884408, 568455300, 257756721, 4204275560, 2081942885, 155592095, 899026055, 1622996015, 550981793, 26363961, 236497239, 400349974, 287220742, 105717225, 97566682, 84775355, 73155636, 10626721, 66477346, 37809162, 20147516, 34051536, 40623968, 22664160, 67243770, 1556320]}], \"name\": \"2013\"}, {\"data\": [{\"type\": \"bar\", \"x\": [85, 95, 105, 115, 125, 135, 145, 155, 165, 175, 185, 195, 205, 215, 225, 235, 245, 255, 265, 275, 285, 295, 305, 315, 325, 335, 345, 355, 365, 375, 385, 395, 405, 415, 425, 435, 445, 455, 465, 475, 485, 495, 515, 535, 575, 645, 655, 665], \"y\": [8688250, 24477050, 61671249, 494544979, 159770949, 494078586, 965915063, 373339838, 4505332507, 530673601, 297964465, 6346495705, 4817883831, 56117550, 1826149190, 6460598544, 338847024, 1753259079, 5467381374, 644559824, 637503948, 6537160423, 2345740847, 230291084, 866345247, 2606227643, 2837102576, 96895700, 592253532, 491766993, 299316692, 198376392, 159305560, 89848700, 198521590, 229951434, 196116840, 87584620, 11239798, 387218316, 41873440, 6046560, 1428920, 9519360, 3277360, 1926000, 1771200, 1963920]}], \"name\": \"2014\"}, {\"data\": [{\"type\": \"bar\", \"x\": [75, 85, 95, 105, 115, 125, 135, 145, 155, 165, 175, 185, 195, 205, 215, 225, 235, 245, 255, 265, 275, 285, 295, 305, 315, 325, 335, 345, 355, 365, 375, 385, 395, 405, 415, 425, 435, 445, 455, 465, 475, 485, 495, 505, 515, 525, 625], \"y\": [931400, 1207400, 27487490, 200605792, 338494993, 126969551, 851128690, 1014815396, 359889634, 5699263073, 560975318, 209302810, 7474159252, 6196538408, 82594650, 1989453427, 8187298942, 528601378, 1181326228, 6226599752, 543449364, 598381652, 6007949334, 2281638317, 296307215, 806383962, 3234124812, 1575505070, 136406240, 452609357, 1355417659, 210434800, 128588820, 73848160, 71570320, 106209030, 259794571, 313252666, 326664161, 181770865, 9254280, 103561659, 72492350, 13264960, 14603920, 12122880, 1695600]}], \"name\": \"2015\"}, {\"data\": [{\"type\": \"bar\", \"x\": [55, 75, 85, 95, 105, 115, 125, 135, 145, 155, 165, 175, 185, 195, 205, 215, 225, 235, 245, 255, 265, 275, 285, 295, 305, 315, 325, 335, 345, 355, 365, 375, 385, 395, 405, 415, 425, 435, 445, 455, 465, 475, 485, 515, 535, 575, 655], \"y\": [6132000, 8595650, 87123640, 122729999, 369736954, 412568032, 146370041, 659878990, 767945622, 539407500, 4221569944, 490231577, 249481924, 6679266635, 4621720359, 52385500, 1490290794, 6796219005, 514908480, 1026767758, 4662482702, 816607503, 352548198, 4444877013, 3528710196, 217677616, 741573083, 3276585837, 1587655353, 349217685, 734060020, 523999955, 557555372, 129560620, 183770880, 198546380, 191725295, 81102770, 304107140, 193131930, 83649512, 1912000, 139753480, 29198960, 1798160, 2080800, 2203760]}], \"name\": \"2016\"}, {\"data\": [{\"type\": \"bar\", \"x\": [85, 95, 105, 115, 125, 135, 145, 155, 165, 175, 185, 195, 205, 225, 235, 245, 255, 265, 275, 285, 295, 305, 315, 325, 335, 345, 355, 365, 375, 385, 395, 405, 415, 425, 435, 445, 455, 465, 475, 495, 505, 545], \"y\": [13380350, 15888300, 106813285, 231727278, 79135775, 714080062, 533224791, 366224886, 3166570141, 481254989, 189562648, 6336022508, 2351238822, 922766592, 3824407715, 669740561, 1117405875, 3073071853, 144797542, 277953110, 3189274334, 3252944786, 195294000, 724474783, 1917346164, 941981820, 65226610, 199280060, 405313810, 249200683, 130051090, 180408300, 394927842, 239556120, 113079339, 118574390, 60514822, 24191160, 41384280, 27728960, 11557200, 4251000]}], \"name\": \"2017\"}]);}).then(function(){Plotly.animate('997ef665-d4b8-4e89-a2c6-bebd39062cca');})\n",
       "        });</script>"
      ],
      "text/vnd.plotly.v1+html": [
       "<div id=\"997ef665-d4b8-4e89-a2c6-bebd39062cca\" style=\"height: 525px; width: 100%;\" class=\"plotly-graph-div\"></div><script type=\"text/javascript\">require([\"plotly\"], function(Plotly) { window.PLOTLYENV=window.PLOTLYENV || {};window.PLOTLYENV.BASE_URL=\"https://plot.ly\";\n",
       "        Plotly.plot(\n",
       "            '997ef665-d4b8-4e89-a2c6-bebd39062cca',\n",
       "            [{\"type\": \"bar\", \"x\": [65, 75, 85, 95, 105, 115, 125, 135, 145, 155, 165, 175, 185, 195, 205, 215, 225, 235, 245, 255, 265, 275, 285, 295, 305, 315, 325, 335, 345, 355, 365, 375, 385, 395, 405, 415, 425, 435, 445, 455, 465, 475, 485, 495, 505, 565], \"y\": [1599000, 210600, 306000, 3838503, 63956617, 138442715, 107293993, 476979039, 480639683, 265018824, 2387348746, 633419846, 174398498, 4855257501, 3587374584, 218629144, 969885714, 5506333801, 273147067, 915579319, 4987884408, 568455300, 257756721, 4204275560, 2081942885, 155592095, 899026055, 1622996015, 550981793, 26363961, 236497239, 400349974, 287220742, 105717225, 97566682, 84775355, 73155636, 10626721, 66477346, 37809162, 20147516, 34051536, 40623968, 22664160, 67243770, 1556320]}],\n",
       "            {\"xaxis\": {\"range\": [0, 700], \"title\": \"Weight\"}, \"yaxis\": {\"title\": \"Volume [Units]\"}, \"hovermode\": \"closest\", \"sliders\": [{\"active\": 0, \"yanchor\": \"top\", \"xanchor\": \"left\", \"currentvalue\": {\"font\": {\"size\": 20}, \"prefix\": \"Year:\", \"visible\": true, \"xanchor\": \"right\"}, \"transition\": {\"duration\": 300, \"easing\": \"cubic-in-out\"}, \"pad\": {\"b\": 10, \"t\": 50}, \"len\": 0.9, \"x\": 0.1, \"y\": 0, \"steps\": [{\"args\": [[\"2013\"], {\"frame\": {\"duration\": 500, \"redraw\": true}, \"mode\": \"immediate\", \"transition\": {\"duration\": 500}}], \"label\": \"2013\", \"method\": \"animate\"}, {\"args\": [[\"2014\"], {\"frame\": {\"duration\": 500, \"redraw\": true}, \"mode\": \"immediate\", \"transition\": {\"duration\": 500}}], \"label\": \"2014\", \"method\": \"animate\"}, {\"args\": [[\"2015\"], {\"frame\": {\"duration\": 500, \"redraw\": true}, \"mode\": \"immediate\", \"transition\": {\"duration\": 500}}], \"label\": \"2015\", \"method\": \"animate\"}, {\"args\": [[\"2016\"], {\"frame\": {\"duration\": 500, \"redraw\": true}, \"mode\": \"immediate\", \"transition\": {\"duration\": 500}}], \"label\": \"2016\", \"method\": \"animate\"}, {\"args\": [[\"2017\"], {\"frame\": {\"duration\": 500, \"redraw\": true}, \"mode\": \"immediate\", \"transition\": {\"duration\": 500}}], \"label\": \"2017\", \"method\": \"animate\"}]}], \"updatemenus\": [{\"buttons\": [{\"args\": [null, {\"frame\": {\"duration\": 5000, \"redraw\": true}, \"fromcurrent\": true, \"transition\": {\"duration\": 300, \"easing\": \"quadratic-in-out\"}}], \"label\": \"Play\", \"method\": \"animate\"}, {\"args\": [[null], {\"frame\": {\"duration\": 0, \"redraw\": true}, \"mode\": \"immediate\", \"transition\": {\"duration\": 0}}], \"label\": \"Pause\", \"method\": \"animate\"}], \"direction\": \"left\", \"pad\": {\"r\": 10, \"t\": 87}, \"showactive\": false, \"type\": \"buttons\", \"x\": 0.1, \"xanchor\": \"right\", \"y\": 0, \"yanchor\": \"top\"}]},\n",
       "            {\"showLink\": true, \"linkText\": \"Export to plot.ly\"}\n",
       "        ).then(function () {return Plotly.addFrames('997ef665-d4b8-4e89-a2c6-bebd39062cca',[{\"data\": [{\"type\": \"bar\", \"x\": [65, 75, 85, 95, 105, 115, 125, 135, 145, 155, 165, 175, 185, 195, 205, 215, 225, 235, 245, 255, 265, 275, 285, 295, 305, 315, 325, 335, 345, 355, 365, 375, 385, 395, 405, 415, 425, 435, 445, 455, 465, 475, 485, 495, 505, 565], \"y\": [1599000, 210600, 306000, 3838503, 63956617, 138442715, 107293993, 476979039, 480639683, 265018824, 2387348746, 633419846, 174398498, 4855257501, 3587374584, 218629144, 969885714, 5506333801, 273147067, 915579319, 4987884408, 568455300, 257756721, 4204275560, 2081942885, 155592095, 899026055, 1622996015, 550981793, 26363961, 236497239, 400349974, 287220742, 105717225, 97566682, 84775355, 73155636, 10626721, 66477346, 37809162, 20147516, 34051536, 40623968, 22664160, 67243770, 1556320]}], \"name\": \"2013\"}, {\"data\": [{\"type\": \"bar\", \"x\": [85, 95, 105, 115, 125, 135, 145, 155, 165, 175, 185, 195, 205, 215, 225, 235, 245, 255, 265, 275, 285, 295, 305, 315, 325, 335, 345, 355, 365, 375, 385, 395, 405, 415, 425, 435, 445, 455, 465, 475, 485, 495, 515, 535, 575, 645, 655, 665], \"y\": [8688250, 24477050, 61671249, 494544979, 159770949, 494078586, 965915063, 373339838, 4505332507, 530673601, 297964465, 6346495705, 4817883831, 56117550, 1826149190, 6460598544, 338847024, 1753259079, 5467381374, 644559824, 637503948, 6537160423, 2345740847, 230291084, 866345247, 2606227643, 2837102576, 96895700, 592253532, 491766993, 299316692, 198376392, 159305560, 89848700, 198521590, 229951434, 196116840, 87584620, 11239798, 387218316, 41873440, 6046560, 1428920, 9519360, 3277360, 1926000, 1771200, 1963920]}], \"name\": \"2014\"}, {\"data\": [{\"type\": \"bar\", \"x\": [75, 85, 95, 105, 115, 125, 135, 145, 155, 165, 175, 185, 195, 205, 215, 225, 235, 245, 255, 265, 275, 285, 295, 305, 315, 325, 335, 345, 355, 365, 375, 385, 395, 405, 415, 425, 435, 445, 455, 465, 475, 485, 495, 505, 515, 525, 625], \"y\": [931400, 1207400, 27487490, 200605792, 338494993, 126969551, 851128690, 1014815396, 359889634, 5699263073, 560975318, 209302810, 7474159252, 6196538408, 82594650, 1989453427, 8187298942, 528601378, 1181326228, 6226599752, 543449364, 598381652, 6007949334, 2281638317, 296307215, 806383962, 3234124812, 1575505070, 136406240, 452609357, 1355417659, 210434800, 128588820, 73848160, 71570320, 106209030, 259794571, 313252666, 326664161, 181770865, 9254280, 103561659, 72492350, 13264960, 14603920, 12122880, 1695600]}], \"name\": \"2015\"}, {\"data\": [{\"type\": \"bar\", \"x\": [55, 75, 85, 95, 105, 115, 125, 135, 145, 155, 165, 175, 185, 195, 205, 215, 225, 235, 245, 255, 265, 275, 285, 295, 305, 315, 325, 335, 345, 355, 365, 375, 385, 395, 405, 415, 425, 435, 445, 455, 465, 475, 485, 515, 535, 575, 655], \"y\": [6132000, 8595650, 87123640, 122729999, 369736954, 412568032, 146370041, 659878990, 767945622, 539407500, 4221569944, 490231577, 249481924, 6679266635, 4621720359, 52385500, 1490290794, 6796219005, 514908480, 1026767758, 4662482702, 816607503, 352548198, 4444877013, 3528710196, 217677616, 741573083, 3276585837, 1587655353, 349217685, 734060020, 523999955, 557555372, 129560620, 183770880, 198546380, 191725295, 81102770, 304107140, 193131930, 83649512, 1912000, 139753480, 29198960, 1798160, 2080800, 2203760]}], \"name\": \"2016\"}, {\"data\": [{\"type\": \"bar\", \"x\": [85, 95, 105, 115, 125, 135, 145, 155, 165, 175, 185, 195, 205, 225, 235, 245, 255, 265, 275, 285, 295, 305, 315, 325, 335, 345, 355, 365, 375, 385, 395, 405, 415, 425, 435, 445, 455, 465, 475, 495, 505, 545], \"y\": [13380350, 15888300, 106813285, 231727278, 79135775, 714080062, 533224791, 366224886, 3166570141, 481254989, 189562648, 6336022508, 2351238822, 922766592, 3824407715, 669740561, 1117405875, 3073071853, 144797542, 277953110, 3189274334, 3252944786, 195294000, 724474783, 1917346164, 941981820, 65226610, 199280060, 405313810, 249200683, 130051090, 180408300, 394927842, 239556120, 113079339, 118574390, 60514822, 24191160, 41384280, 27728960, 11557200, 4251000]}], \"name\": \"2017\"}]);}).then(function(){Plotly.animate('997ef665-d4b8-4e89-a2c6-bebd39062cca');})\n",
       "        });</script>"
      ]
     },
     "metadata": {},
     "output_type": "display_data"
    }
   ],
   "source": [
    "# Plot COP volume\n",
    "plot_volumes(\"cop_volume\")"
   ]
  },
  {
   "cell_type": "markdown",
   "metadata": {},
   "source": [
    "### What We Care About: Profit"
   ]
  },
  {
   "cell_type": "markdown",
   "metadata": {},
   "source": [
    "The point is to find the parameters that give the optimal profit. There are 2 independent variables: the initial weight of the animal and the number of months is kept - this is assuming a fixed number of kilograms per day increase. "
   ]
  },
  {
   "cell_type": "markdown",
   "metadata": {},
   "source": [
    "Let:\n",
    "\n",
    "1. $p_i$ be the purchase price.\n",
    "2. $p_f$ be the selling price.\n",
    "3. $\\overline{kg}_i$ be the average kilograms per animal on purchase.\n",
    "4. $\\overline{kg}_f$ be the average kilograms per animal when selling.\n",
    "5. $\\Delta t$ be the time lapse in months.\n",
    "6. $n$ be the number of animals bought.\n",
    "\n",
    "Then the $ROI$ will be:\n",
    "\n",
    "$$ROI = \\frac{n\\cdot (p_f\\cdot \\overline{kg}_f-p_i\\cdot \\overline{kg}_i)}{n\\cdot p_i\\cdot \\overline{kg}_i} \n",
    "= \\frac{p_f\\cdot \\overline{kg}_f}{p_i\\cdot \\overline{kg}_i}-1$$\n",
    "\n",
    "Now, given that $\\overline{kg}_f$ depends on the purchase weight and the number of months the livestock is fed, we have:\n",
    "\n",
    "$$ROI = \\frac{p_f\\cdot (\\overline{kg}_i+ \\dot{\\overline{kg}}\\cdot \\Delta t)}{p_i\\cdot \\overline{kg}_i}-1 = \\frac{p_f}{p_i}\\cdot \\left(\\frac{\\dot{\\overline{kg}}\\cdot \\Delta t}{\\overline{kg}_i} +1\\right)-1$$\n",
    "\n",
    "The former equation shows the $ROI$ of the operation, where: $\\dot{\\overline{kg}}$ is the average weight gain per month per unit. However, this equation depends on the time lapse - number of months - of the operation. In order to have a standard measure lets look at the annualized $ROI$.\n",
    "\n",
    "$$ROI_{ANNUALIZED} = \\left[\\frac{p_f}{p_i}\\cdot \\left(\\frac{\\dot{\\overline{kg}}\\cdot \\Delta t}{\\overline{kg}_i} +1\\right)-1\\right]^{\\left(\\frac{12}{\\Delta t}\\right)}$$"
   ]
  }
 ],
 "metadata": {
  "kernelspec": {
   "display_name": "Python (3.6.1)",
   "language": "python",
   "name": "py361"
  },
  "language_info": {
   "codemirror_mode": {
    "name": "ipython",
    "version": 3
   },
   "file_extension": ".py",
   "mimetype": "text/x-python",
   "name": "python",
   "nbconvert_exporter": "python",
   "pygments_lexer": "ipython3",
   "version": "3.6.1"
  }
 },
 "nbformat": 4,
 "nbformat_minor": 2
}
