{
 "cells": [
  {
   "cell_type": "markdown",
   "metadata": {},
   "source": [
    "# Livestock Market Analysis"
   ]
  },
  {
   "cell_type": "markdown",
   "metadata": {},
   "source": [
    "Analysis of the Livestock Market in the Caribean Region of Colombia."
   ]
  },
  {
   "cell_type": "markdown",
   "metadata": {},
   "source": [
    "### OCR With Tesseract"
   ]
  },
  {
   "cell_type": "markdown",
   "metadata": {},
   "source": [
    "OCR part done with Tesseract to recognize the characters in the pdf's."
   ]
  },
  {
   "cell_type": "code",
   "execution_count": 217,
   "metadata": {
    "collapsed": true
   },
   "outputs": [],
   "source": [
    "# Import modules for OCR\n",
    "try:\n",
    "    import Image\n",
    "except ImportError:\n",
    "    from PIL import Image\n",
    "import pytesseract\n",
    "\n",
    "# Import os for getting image filenames in img directory\n",
    "from os import listdir\n",
    "\n",
    "# Import pandas\n",
    "import pandas as pd\n",
    "\n",
    "# Import datetime\n",
    "import datetime\n",
    "\n",
    "# Import sys\n",
    "import sys\n",
    "\n",
    "# Import progress bar 2\n",
    "import progressbar"
   ]
  },
  {
   "cell_type": "code",
   "execution_count": 218,
   "metadata": {
    "collapsed": true
   },
   "outputs": [],
   "source": [
    "# The cutoff represents the file where a new format starts\n",
    "cutoff = \"14-01-07.jpg\"\n",
    "# Livestock lot types\n",
    "livestock_types = [\"HL\", \"HV\", \"VE\", \"VP\", \"ML\", \"MC\", \"TO\", \"BH\", \"BM\"]\n",
    "# Categories of iron for female/male\n",
    "iron_categories = [\"HEMBRA DE 1a\", \"HEMBRA DE 2a\", \"MACHO DE 1a\", \"MACHO DE 2a\", \"HEMBRA DE PRIMERA\", \"MACHO DE PRIMERA\", \"HEMBRA DE SEGUNDA\", \"MACHO DE SEGUNDA\"]\n",
    "# Digits array\n",
    "digits = [\"0\", \"1\", \"2\", \"3\", \"4\", \"5\", \"6\", \"7\", \"8\", \"9\"]\n",
    "# Number of faulty lines\n",
    "faulty_lines = 0\n",
    "# Total lines\n",
    "total_lines = 0"
   ]
  },
  {
   "cell_type": "code",
   "execution_count": 219,
   "metadata": {
    "collapsed": true
   },
   "outputs": [],
   "source": [
    "# Image filenames \n",
    "image_filenames = [f for f in listdir(\"img\") if \".jpg\" in f]"
   ]
  },
  {
   "cell_type": "code",
   "execution_count": 220,
   "metadata": {
    "collapsed": true
   },
   "outputs": [],
   "source": [
    "# Auction filenames list\n",
    "auction_filenames = []\n",
    "\n",
    "# Temp ary of auction filename\n",
    "temp_ary = []\n",
    "\n",
    "# Generate auction filenames list\n",
    "for index, filename in enumerate(image_filenames):\n",
    "    # Append filename to temp_ary\n",
    "    temp_ary.append(filename)\n",
    "    # If it is the end append temp_ary no matter what\n",
    "    if index == len(image_filenames)-1:\n",
    "        auction_filenames.append(temp_ary)\n",
    "    else:\n",
    "        # Select next filename root to check if it belongs to the same multipage file\n",
    "        next_root_filename = \"-\".join(image_filenames[index+1].replace(\".jpg\", \"\").split(\"-\")[0:3])\n",
    "        # If the next filename is another page of the same file go on and keep appending to temp_ary\n",
    "        if next_root_filename in filename:\n",
    "            pass\n",
    "        # Else apppend temp ary and empty it\n",
    "        else:\n",
    "            auction_filenames.append(temp_ary)\n",
    "            temp_ary = []"
   ]
  },
  {
   "cell_type": "code",
   "execution_count": 221,
   "metadata": {},
   "outputs": [
    {
     "name": "stdout",
     "output_type": "stream",
     "text": [
      "Ente gut, alles gut!\n"
     ]
    }
   ],
   "source": [
    "# Check if it coincides with the number of pdf's records gotten from the auction webstie\n",
    "if len(auction_filenames) == 458:\n",
    "    print(\"Ente gut, alles gut!\")"
   ]
  },
  {
   "cell_type": "code",
   "execution_count": 222,
   "metadata": {
    "collapsed": true
   },
   "outputs": [],
   "source": [
    "# Return if the line corresponds to the category of an iron. If so, return the name of the category\n",
    "def is_iron_category(line):\n",
    "    # Check if there is an iron category in the line\n",
    "    has_iron_category = [category in line for category in iron_categories]\n",
    "    # Business logic\n",
    "    if True in has_iron_category:\n",
    "        return True, iron_categories[has_iron_category.index(True)] \n",
    "    return False, None"
   ]
  },
  {
   "cell_type": "code",
   "execution_count": 223,
   "metadata": {
    "collapsed": true
   },
   "outputs": [],
   "source": [
    "# Return if the line corresponds to a data entry. If so, return the line \n",
    "def is_data_entry(line):\n",
    "    # Number of digits in the line\n",
    "    number_of_digits = sum([line.count(digit) for digit in digits])\n",
    "    # Bussiness logic\n",
    "    has_livestock_type = [livestock_type in line for livestock_type in livestock_types]\n",
    "    if (number_of_digits > 10) and (True in has_livestock_type):\n",
    "        # Return True, the data line, the livestock type of the data line \n",
    "        return True, line, livestock_types[has_livestock_type.index(True)]\n",
    "    return False, None, None"
   ]
  },
  {
   "cell_type": "code",
   "execution_count": 224,
   "metadata": {
    "collapsed": true
   },
   "outputs": [],
   "source": [
    "# Correct common errors in data line that come out of OCR routine\n",
    "def formatted_data_line(line, livestock_type, date, iron_category):\n",
    "    # Make total_lines and faulty_lines accesible\n",
    "    global total_lines\n",
    "    global faulty_lines\n",
    "    # Replace \" ,\" by \",\". Some numbers have this pattern and appear broken\n",
    "    line = line.replace(\" ,\", \",\")\n",
    "    # Remove double spaces if any\n",
    "    while \"  \" in line:\n",
    "        line.replace(\"  \", \" \")\n",
    "    # Remove commas and dots from numbers\n",
    "    line = line.replace(\",\", \"\").replace(\".\", \"\")\n",
    "    # Check if age exists or not\n",
    "    if line.index(livestock_type) == 0: # If age is not present\n",
    "        age, numerical_data = None, line.replace(\"{0} \".format(livestock_type), \"\")\n",
    "    else: # If age is present\n",
    "        age, numerical_data = line.split(\" {0} \".format(livestock_type))\n",
    "    # Check that the correct number of columns is in place\n",
    "    if len(numerical_data.split(\" \")) != 6:\n",
    "        # Add to the number of faulty lines encountered\n",
    "        faulty_lines += 1\n",
    "        # Print line\n",
    "        print(\"### Error in line: ###\")\n",
    "        print(line)\n",
    "        return None\n",
    "    # Add to the number of total lines processed\n",
    "    total_lines +=1\n",
    "    try:\n",
    "        output = (date, age, livestock_type, *map(int, numerical_data.split(\" \")), iron_category)\n",
    "        return output\n",
    "    except:\n",
    "        print(\"### Error: ###\")\n",
    "        print(line)\n",
    "        sys.exit(\"### sys.exit ###\")"
   ]
  },
  {
   "cell_type": "code",
   "execution_count": 225,
   "metadata": {
    "collapsed": true
   },
   "outputs": [],
   "source": [
    "# Method that pulls data from image and append it to dataframe. It returns the last iron brand category \n",
    "def append_image_to_dataframe(auction_filename, iron_category, date):\n",
    "    # Make df accesible\n",
    "    global df\n",
    "    # Variables to hold temp dataframe information\n",
    "    data = []\n",
    "    columns = [\"date\", \"age\", \"type\", \"quantity\", \"weight\", \"price_min\", \"price_max\", \"price_avg\", \"price_unit\", \"category\"]\n",
    "    # Locate and load the image\n",
    "    img_path = \"img/{0}\".format(auction_filename)\n",
    "    img = Image.open(img_path)\n",
    "    # Apply OCR routine to image\n",
    "    text = pytesseract.image_to_string(img)\n",
    "    text_lines = text.split(\"\\n\")\n",
    "    # Loop through each line and prepare dataframe to append\n",
    "    for line in text_lines:\n",
    "        # Check if line corresponds to an iron category or a data entry\n",
    "        output_is_iron_category = is_iron_category(line)\n",
    "        output_is_data_entry = is_data_entry(line)\n",
    "        # Set the iron_category variable if the line describes an iron category\n",
    "        if output_is_iron_category[0] == True: iron_category = output_is_iron_category[1]\n",
    "        # Append to data to data array if line is a data entry\n",
    "        if output_is_data_entry[0] == True: \n",
    "            # Construct formatted line\n",
    "            formatted_line = formatted_data_line(output_is_data_entry[1], output_is_data_entry[2], date, iron_category)\n",
    "            # Append line if it is not None\n",
    "            if formatted_line != None: data.append(formatted_line)\n",
    "    # Create temp dataframe and append it to main dataframe\n",
    "    temp_df = pd.DataFrame(data=data, columns=columns)\n",
    "    df = df.append(temp_df)\n",
    "    # Return the last iron category found in the text\n",
    "    return iron_category"
   ]
  },
  {
   "cell_type": "code",
   "execution_count": 226,
   "metadata": {
    "collapsed": true
   },
   "outputs": [],
   "source": [
    "# Dataframe\n",
    "df = pd.DataFrame([])"
   ]
  },
  {
   "cell_type": "code",
   "execution_count": 227,
   "metadata": {},
   "outputs": [
    {
     "name": "stderr",
     "output_type": "stream",
     "text": [
      " 20% (1 of 5) |#####                      | Elapsed Time: 0:00:06 ETA:  0:00:26"
     ]
    },
    {
     "name": "stdout",
     "output_type": "stream",
     "text": [
      "### Error in line: ###\n",
      "2 3/4 VE 45 369 2 800 3580 3132 1 153550\n"
     ]
    },
    {
     "name": "stderr",
     "output_type": "stream",
     "text": [
      "100% (5 of 5) |###########################| Elapsed Time: 0:00:19 Time: 0:00:19\n"
     ]
    },
    {
     "ename": "StopIteration",
     "evalue": "",
     "output_type": "error",
     "traceback": [
      "\u001b[0;31m---------------------------------------------------------------------------\u001b[0m",
      "\u001b[0;31mStopIteration\u001b[0m                             Traceback (most recent call last)",
      "\u001b[0;32m<ipython-input-227-61bd90078b75>\u001b[0m in \u001b[0;36m<module>\u001b[0;34m()\u001b[0m\n\u001b[1;32m     26\u001b[0m         \u001b[0miron_category\u001b[0m \u001b[0;34m=\u001b[0m \u001b[0mappend_image_to_dataframe\u001b[0m\u001b[0;34m(\u001b[0m\u001b[0mauction_filename\u001b[0m\u001b[0;34m,\u001b[0m \u001b[0miron_category\u001b[0m\u001b[0;34m,\u001b[0m \u001b[0mdate\u001b[0m\u001b[0;34m)\u001b[0m\u001b[0;34m\u001b[0m\u001b[0m\n\u001b[1;32m     27\u001b[0m     \u001b[0;31m# Update progress bar\u001b[0m\u001b[0;34m\u001b[0m\u001b[0;34m\u001b[0m\u001b[0m\n\u001b[0;32m---> 28\u001b[0;31m     \u001b[0mbar\u001b[0m\u001b[0;34m.\u001b[0m\u001b[0mnext\u001b[0m\u001b[0;34m(\u001b[0m\u001b[0;34m)\u001b[0m\u001b[0;34m\u001b[0m\u001b[0m\n\u001b[0m\u001b[1;32m     29\u001b[0m \u001b[0;31m# Finish progress bar\u001b[0m\u001b[0;34m\u001b[0m\u001b[0;34m\u001b[0m\u001b[0m\n\u001b[1;32m     30\u001b[0m \u001b[0mbar\u001b[0m\u001b[0;34m.\u001b[0m\u001b[0mfinish\u001b[0m\u001b[0;34m(\u001b[0m\u001b[0;34m)\u001b[0m\u001b[0;34m\u001b[0m\u001b[0m\n",
      "\u001b[0;32m~/anaconda/envs/py361/lib/python3.6/site-packages/progressbar/bar.py\u001b[0m in \u001b[0;36m__next__\u001b[0;34m(self)\u001b[0m\n\u001b[1;32m    430\u001b[0m     \u001b[0;32mdef\u001b[0m \u001b[0m__next__\u001b[0m\u001b[0;34m(\u001b[0m\u001b[0mself\u001b[0m\u001b[0;34m)\u001b[0m\u001b[0;34m:\u001b[0m\u001b[0;34m\u001b[0m\u001b[0m\n\u001b[1;32m    431\u001b[0m         \u001b[0;32mtry\u001b[0m\u001b[0;34m:\u001b[0m\u001b[0;34m\u001b[0m\u001b[0m\n\u001b[0;32m--> 432\u001b[0;31m             \u001b[0mvalue\u001b[0m \u001b[0;34m=\u001b[0m \u001b[0mnext\u001b[0m\u001b[0;34m(\u001b[0m\u001b[0mself\u001b[0m\u001b[0;34m.\u001b[0m\u001b[0m_iterable\u001b[0m\u001b[0;34m)\u001b[0m\u001b[0;34m\u001b[0m\u001b[0m\n\u001b[0m\u001b[1;32m    433\u001b[0m             \u001b[0;32mif\u001b[0m \u001b[0mself\u001b[0m\u001b[0;34m.\u001b[0m\u001b[0mstart_time\u001b[0m \u001b[0;32mis\u001b[0m \u001b[0;32mNone\u001b[0m\u001b[0;34m:\u001b[0m\u001b[0;34m\u001b[0m\u001b[0m\n\u001b[1;32m    434\u001b[0m                 \u001b[0mself\u001b[0m\u001b[0;34m.\u001b[0m\u001b[0mstart\u001b[0m\u001b[0;34m(\u001b[0m\u001b[0;34m)\u001b[0m\u001b[0;34m\u001b[0m\u001b[0m\n",
      "\u001b[0;31mStopIteration\u001b[0m: "
     ]
    }
   ],
   "source": [
    "# Initialize progress bar\n",
    "bar = progressbar.ProgressBar()\n",
    "\n",
    "# Count to limit number of files for testing\n",
    "count = -1\n",
    "\n",
    "# Loop through each auction and process the image data into the dataframe\n",
    "for auction_ary in bar(auction_filenames[-5:]):\n",
    "    # Get date str: YY-MM-DD\n",
    "    date_str = \"-\".join(auction_ary[0].replace(\".jpg\", \"\").split(\"-\")[0:3]) \n",
    "    # Construct date object\n",
    "    year, month, day = map(int, date_str.split(\"-\"))\n",
    "    year = year + 2000\n",
    "    date = datetime.date(year, month, day)\n",
    "    ####################################\n",
    "    '''final_count = 1\n",
    "    # Break on the count file iteration\n",
    "    count += 1\n",
    "    if count == final_count:\n",
    "        break'''\n",
    "    ####################################\n",
    "    # Category of livestock: Number of iron brands: 1st male, 2nd male, 1st female, 2nd female.\n",
    "    iron_category = None\n",
    "    # Auction filename\n",
    "    for auction_filename in auction_ary:\n",
    "        iron_category = append_image_to_dataframe(auction_filename, iron_category, date)\n",
    "    # Update progress bar\n",
    "    bar.next()\n",
    "# Finish progress bar\n",
    "bar.finish()\n",
    "\n",
    "print(\"#### Error Analysis ####\")\n",
    "print(\"-------------------------------------\")\n",
    "print(\"Faulty lines: {0}\".format(faulty_lines))\n",
    "print(\"Total lines: {0}\".format(total_lines))\n",
    "print(\"=====================================\")\n",
    "print(\"Percentage of faults: {0:.2f}%\".format(faulty_lines*100/total_lines))"
   ]
  },
  {
   "cell_type": "code",
   "execution_count": 228,
   "metadata": {},
   "outputs": [
    {
     "name": "stderr",
     "output_type": "stream",
     "text": [
      "ERROR:root:Line magic function `%t` not found.\n"
     ]
    }
   ],
   "source": []
  },
  {
   "cell_type": "code",
   "execution_count": null,
   "metadata": {},
   "outputs": [],
   "source": [
    "auction_filenames[-5:]"
   ]
  },
  {
   "cell_type": "code",
   "execution_count": null,
   "metadata": {},
   "outputs": [],
   "source": [
    "df"
   ]
  }
 ],
 "metadata": {
  "anaconda-cloud": {},
  "kernelspec": {
   "display_name": "Python (3.6.1)",
   "language": "python",
   "name": "py361"
  },
  "language_info": {
   "codemirror_mode": {
    "name": "ipython",
    "version": 3
   },
   "file_extension": ".py",
   "mimetype": "text/x-python",
   "name": "python",
   "nbconvert_exporter": "python",
   "pygments_lexer": "ipython3",
   "version": "3.6.1"
  }
 },
 "nbformat": 4,
 "nbformat_minor": 1
}
