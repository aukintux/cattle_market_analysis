{
 "cells": [
  {
   "cell_type": "markdown",
   "metadata": {},
   "source": [
    "# Livestock Market Analysis"
   ]
  },
  {
   "cell_type": "markdown",
   "metadata": {},
   "source": [
    "Analysis of the Livestock Market in the Caribean Region of Colombia."
   ]
  },
  {
   "cell_type": "markdown",
   "metadata": {},
   "source": [
    "### OCR With Tesseract"
   ]
  },
  {
   "cell_type": "markdown",
   "metadata": {},
   "source": [
    "OCR part done with Tesseract to recognize the characters in the pdf's."
   ]
  },
  {
   "cell_type": "code",
   "execution_count": 43,
   "metadata": {
    "collapsed": true
   },
   "outputs": [],
   "source": [
    "# Import modules for OCR\n",
    "try:\n",
    "    import Image\n",
    "except ImportError:\n",
    "    from PIL import Image\n",
    "import pytesseract\n",
    "\n",
    "# Import os for getting image filenames in img directory\n",
    "from os import listdir"
   ]
  },
  {
   "cell_type": "code",
   "execution_count": 84,
   "metadata": {
    "collapsed": true
   },
   "outputs": [],
   "source": [
    "# The cutoff represents the file where a new format starts\n",
    "cutoff = \"14-01-07.jpg\"\n",
    "# Livestock lot types\n",
    "livestock_types = [\"HL\", \"HV\", \"VE\", \"VP\", \"ML\", \"MC\", \"TO\", \"BH\", \"BM\"]\n",
    "# Categories of iron for female/male\n",
    "iron_categories = [\"HEMBRA DE 1a\", \"HEMBRA DE 2a\", \"MACHO DE 1a\", \"MACHO DE 2a\"]\n",
    "# Digits array\n",
    "digits = [\"0\", \"1\", \"2\", \"3\", \"4\", \"5\", \"6\", \"7\", \"8\", \"9\"]"
   ]
  },
  {
   "cell_type": "code",
   "execution_count": 45,
   "metadata": {
    "collapsed": true
   },
   "outputs": [],
   "source": [
    "# Image filenames \n",
    "image_filenames = [f for f in listdir(\"img\") if \".jpg\" in f]"
   ]
  },
  {
   "cell_type": "code",
   "execution_count": 46,
   "metadata": {
    "collapsed": true
   },
   "outputs": [],
   "source": [
    "# Auction filenames list\n",
    "auction_filenames = []\n",
    "\n",
    "# Temp ary of auction filename\n",
    "temp_ary = []\n",
    "\n",
    "# Generate auction filenames list\n",
    "for index, filename in enumerate(image_filenames):\n",
    "    # Append filename to temp_ary\n",
    "    temp_ary.append(filename)\n",
    "    # If it is the end append temp_ary no matter what\n",
    "    if index == len(image_filenames)-1:\n",
    "        auction_filenames.append(temp_ary)\n",
    "    else:\n",
    "        # Select next filename root to check if it belongs to the same multipage file\n",
    "        next_root_filename = \"-\".join(image_filenames[index+1].replace(\".jpg\", \"\").split(\"-\")[0:3])\n",
    "        # If the next filename is another page of the same file go on and keep appending to temp_ary\n",
    "        if next_root_filename in filename:\n",
    "            pass\n",
    "        # Else apppend temp ary and empty it\n",
    "        else:\n",
    "            auction_filenames.append(temp_ary)\n",
    "            temp_ary = []"
   ]
  },
  {
   "cell_type": "code",
   "execution_count": 47,
   "metadata": {},
   "outputs": [
    {
     "name": "stdout",
     "output_type": "stream",
     "text": [
      "Ente gut, alles gut!\n"
     ]
    }
   ],
   "source": [
    "# Check if it coincides with the number of pdf's records gotten from the auction webstie\n",
    "if len(auction_filenames) == 458:\n",
    "    print(\"Ente gut, alles gut!\")"
   ]
  },
  {
   "cell_type": "code",
   "execution_count": 83,
   "metadata": {},
   "outputs": [
    {
     "name": "stdout",
     "output_type": "stream",
     "text": [
      "img/13-01-08.jpg\n",
      "['2 3/4', 'HV', '5', '370', '2,580', '2,580', '2,580', '954,600']\n",
      "['XX', 'VE', '76', '472', '2,380', '2,740', '2,557', '1,210,308']\n",
      "['XX', 'BH', '1', '404', '1,000', '1,000', '1,000', '404,000']\n",
      "['XX', 'TO', '8', '647', '2,680', '2,860', '2,765', '1,785,980']\n",
      "['2', 'HV', '1', '268', '1,800', '1,800', '1,800', '482,400']\n",
      "['2 1/4', 'HV', '1', '298', '2,200', '2,200', '2,200', '655,600']\n",
      "['2 1/2', 'HV', '10', '345', '2,340', '2,400', '2,373', '816,368']\n",
      "['2 3/4', 'HV', '1', '364', '2,600', '2,600', '2,600', '946,400']\n",
      "['XX', 'VE', '163', '391', '1,950', '2,560', '2,279', '903,677']\n",
      "['2 1/2', 'MC', '1', '342', '2,550', '2,550', '2,550', '872,100']\n",
      "['2 3/4', 'MC', '1', '396', '2,640', '2,640', '2,640', '1,045,440']\n",
      "['XX', 'TO', '3', '507', '2,740', '2,780', '2,760', '1,399,293']\n",
      "################################################\n"
     ]
    }
   ],
   "source": [
    "# Count to limit number of files for testing\n",
    "count = -1\n",
    "\n",
    "# Loop through each auction and process the image data into the dataframe\n",
    "for auction_ary in auction_filenames:\n",
    "    # Break on the count file iteration\n",
    "    count += 1\n",
    "    if count == 1:\n",
    "        break\n",
    "    # Category of livestock: Number of iron brands: 1st male, 2nd male, 1st female, 2nd female.\n",
    "    current_category = \"\"\n",
    "    # Auction filename\n",
    "    for auction_filename in auction_ary:\n",
    "        current_category = append_image_to_dataframe(auction_filename, current_category)"
   ]
  },
  {
   "cell_type": "code",
   "execution_count": 51,
   "metadata": {
    "collapsed": true
   },
   "outputs": [],
   "source": [
    "# Method that pulls data from image and append it to dataframe. It returns the last iron brand category \n",
    "def append_image_to_dataframe(auction_filename, current_category):\n",
    "    img_path = \"img/{0}\".format(auction_filename)\n",
    "    print(img_path)\n",
    "    img = Image.open(img_path)\n",
    "    text = pytesseract.image_to_string(img)\n",
    "    text_lines = text.split(\"\\n\")\n",
    "    for line in text_lines:\n",
    "        output = is_data_entry(line)\n",
    "        if output[0] is True: print(output[1])\n",
    "    print(\"################################################\")"
   ]
  },
  {
   "cell_type": "code",
   "execution_count": 85,
   "metadata": {},
   "outputs": [],
   "source": [
    "# Return if the line corresponds to the category of an iron. If so, return the name of the category\n",
    "def is_iron_category(line):\n",
    "    # Check if there is an iron category in the line\n",
    "    has_iron_category = [category in line for category in iron_categories]\n",
    "    # Business logic\n",
    "    if True in has_iron_category:\n",
    "        return True, iron_categories[has_iron_category.index(True)] \n",
    "    return False, None"
   ]
  },
  {
   "cell_type": "code",
   "execution_count": 86,
   "metadata": {
    "collapsed": true
   },
   "outputs": [],
   "source": [
    "# Return if the line corresponds to a data entry. If so, return the line \n",
    "def is_data_entry(line):\n",
    "    # Number of digits in the line\n",
    "    number_of_digits = sum([line.count(digit) for digit in digits])\n",
    "    # Bussiness logic\n",
    "    has_livestock_type = [livestock_type in line for livestock_type in livestock_types]\n",
    "    if (number_of_digits > 10) and (True in has_livestock_type):\n",
    "        # Return True and the data line with the corrections of erros introduced by OCR routine\n",
    "        # and properly formatted into list, ready to enter it into data frame \n",
    "        return True, formatted_data_line(line, livestock_types[has_livestock_type.index(True)])\n",
    "    return False, None"
   ]
  },
  {
   "cell_type": "code",
   "execution_count": 87,
   "metadata": {},
   "outputs": [],
   "source": [
    "# Correct common errors in data line that come out of OCR routine\n",
    "def formatted_data_line(line, livestock_type):\n",
    "    # Replace \" ,\" by \",\". Some numbers appear broken\n",
    "    line = line.replace(\" ,\", \",\")\n",
    "    # Remove double spaces if any\n",
    "    while \"  \" in line:\n",
    "        line.replace(\"  \", \" \")\n",
    "    # Break up data line into columns\n",
    "    age, numerical_data = line.split(\" {0} \".format(livestock_type))\n",
    "    return [age, livestock_type, *numerical_data.split(\" \")]"
   ]
  }
 ],
 "metadata": {
  "anaconda-cloud": {},
  "kernelspec": {
   "display_name": "Python (3.6.1)",
   "language": "python",
   "name": "py361"
  },
  "language_info": {
   "codemirror_mode": {
    "name": "ipython",
    "version": 3
   },
   "file_extension": ".py",
   "mimetype": "text/x-python",
   "name": "python",
   "nbconvert_exporter": "python",
   "pygments_lexer": "ipython3",
   "version": "3.6.1"
  }
 },
 "nbformat": 4,
 "nbformat_minor": 1
}
