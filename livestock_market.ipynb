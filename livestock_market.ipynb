{
 "cells": [
  {
   "cell_type": "markdown",
   "metadata": {},
   "source": [
    "# Livestock Market Analysis"
   ]
  },
  {
   "cell_type": "markdown",
   "metadata": {},
   "source": [
    "Analysis of the Livestock Market in the Caribean Region of Colombia."
   ]
  },
  {
   "cell_type": "markdown",
   "metadata": {},
   "source": [
    "### OCR With Tesseract"
   ]
  },
  {
   "cell_type": "markdown",
   "metadata": {},
   "source": [
    "OCR part done with Tesseract to recognize the characters in the pdf's."
   ]
  },
  {
   "cell_type": "code",
   "execution_count": 25,
   "metadata": {
    "collapsed": true
   },
   "outputs": [],
   "source": [
    "# Import modules for OCR\n",
    "try:\n",
    "    import Image\n",
    "except ImportError:\n",
    "    from PIL import Image\n",
    "import pytesseract\n",
    "\n",
    "# Import os for getting image filenames in img directory\n",
    "from os import listdir"
   ]
  },
  {
   "cell_type": "code",
   "execution_count": null,
   "metadata": {
    "collapsed": true
   },
   "outputs": [],
   "source": [
    "cutoff = \"13-12-12.jpg\""
   ]
  },
  {
   "cell_type": "code",
   "execution_count": 35,
   "metadata": {},
   "outputs": [
    {
     "name": "stdout",
     "output_type": "stream",
     "text": [
      "img/13-01-08.jpg\n"
     ]
    }
   ],
   "source": [
    "# Image filenames \n",
    "image_filenames = [f for f in listdir(\"img\") if \".jpg\" in f]\n",
    "\n",
    "img_path = \"img/\" + image_filenames[0]\n",
    "print(img_path)"
   ]
  },
  {
   "cell_type": "code",
   "execution_count": 36,
   "metadata": {
    "collapsed": true
   },
   "outputs": [],
   "source": [
    "img = Image.open(img_path)"
   ]
  },
  {
   "cell_type": "code",
   "execution_count": 37,
   "metadata": {},
   "outputs": [
    {
     "name": "stdout",
     "output_type": "stream",
     "text": [
      "Miércoles, 09 de Enero de 2013\n",
      "\n",
      "Teléfonos: (4) 8940027 - 8940060 -- Fax: 7959544 7909973\n",
      "\n",
      "SUBASTAR S.A\n",
      "\n",
      "Nit. 812.000.577—3\n",
      "\n",
      "Kilometro 8 via PIanetaRica\n",
      "\n",
      "Email: info@subastar.com.co\n",
      "\n",
      "SUBASTAR S.A.\n",
      "RESULTADOS GENERALES FERIA 00001 CIUDAD 001 TIPO GANADO GORDO DE 2013- No Incluye Facturas por Donacién\n",
      "\n",
      "MONTERIA\n",
      "\n",
      "1/\n",
      "\n",
      " \n",
      "\n",
      " \n",
      "\n",
      " \n",
      "\n",
      " \n",
      "\n",
      " \n",
      "\n",
      " \n",
      "\n",
      " \n",
      "\n",
      " \n",
      "\n",
      " \n",
      "\n",
      " \n",
      "\n",
      " \n",
      "\n",
      " \n",
      "\n",
      " \n",
      "\n",
      " \n",
      "\n",
      "EDAD CANT. PESO MINIMO MAXIMO PROMEDIO VALOR\n",
      "ANIM. MED. ANIMAL\n",
      "SUBASTA HEMBRA DE 1a\n",
      "2 3/4 HV 5 370 2,580 2,580 2,580 954,600\n",
      "XX VE 76 472 2,380 2,740 2,557 1,210,308\n",
      "XX BH 1 404 1 ,000 1 ,000 1 ,000 404,000\n",
      "TOTALES 82\n",
      "SUBASTA MACHO DE 1a\n",
      "XX TO 8 647 2,680 2,860 2,765 1,785,980\n",
      "TOTALES 8\n",
      "SUBASTA HEMBRA DE 2a\n",
      "2 HV 1 268 1 ,800 1 ,800 1 ,800 482,400\n",
      "2 1/4 HV 1 298 2,200 2,200 2,200 655,600\n",
      "2 1/2 HV 10 345 2,340 2,400 2,373 816,368\n",
      "2 3/4 HV 1 364 2,600 2,600 2,600 946,400\n",
      "XX VE 163 391 1,950 2,560 2,279 903,677\n",
      "TOTALES 176\n",
      "SUBASTA MACHO DE 2a\n",
      "2 1/2 MC 1 342 2,550 2,550 2,550 872,100\n",
      "2 3/4 MC 1 396 2,640 2,640 2,640 1,045,440\n",
      "XX TO 3 507 2,740 2,780 2,760 1,399,293\n",
      "TOTALES 5\n",
      "TOTAL ANIMALES SUBASTADOS Y REMATADOS 271\n",
      "\n",
      "Sistema Subagan 7.0p / 2008 - @ Lina Medina Software Design y Cia Ltda\n",
      "\n",
      "1\n"
     ]
    }
   ],
   "source": [
    "print(pytesseract.image_to_string(img))"
   ]
  }
 ],
 "metadata": {
  "anaconda-cloud": {},
  "kernelspec": {
   "display_name": "Python (3.6.1)",
   "language": "python",
   "name": "py361"
  },
  "language_info": {
   "codemirror_mode": {
    "name": "ipython",
    "version": 3
   },
   "file_extension": ".py",
   "mimetype": "text/x-python",
   "name": "python",
   "nbconvert_exporter": "python",
   "pygments_lexer": "ipython3",
   "version": "3.6.1"
  }
 },
 "nbformat": 4,
 "nbformat_minor": 1
}
